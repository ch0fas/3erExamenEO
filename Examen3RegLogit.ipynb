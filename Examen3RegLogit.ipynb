{
 "cells": [
  {
   "cell_type": "markdown",
   "id": "a47876ee",
   "metadata": {},
   "source": [
    "# 3er Examen - Estimación Óptima\n",
    "\n",
    "* Sofía Maldonado García\n",
    "* Viviana Toledo De La Fuente\n",
    "* Iván Morales"
   ]
  },
  {
   "cell_type": "code",
   "execution_count": 1,
   "id": "d6c6ba02",
   "metadata": {},
   "outputs": [
    {
     "name": "stdout",
     "output_type": "stream",
     "text": [
      "Hello, World!\n"
     ]
    }
   ],
   "source": [
    "print('Hello, World!')"
   ]
  },
  {
   "cell_type": "code",
   "execution_count": null,
   "id": "91263746",
   "metadata": {},
   "outputs": [],
   "source": []
  }
 ],
 "metadata": {
  "kernelspec": {
   "display_name": "EO",
   "language": "python",
   "name": "python3"
  },
  "language_info": {
   "codemirror_mode": {
    "name": "ipython",
    "version": 3
   },
   "file_extension": ".py",
   "mimetype": "text/x-python",
   "name": "python",
   "nbconvert_exporter": "python",
   "pygments_lexer": "ipython3",
   "version": "3.11.11"
  }
 },
 "nbformat": 4,
 "nbformat_minor": 5
}
