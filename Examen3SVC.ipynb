{
 "cells": [
  {
   "cell_type": "markdown",
   "id": "d1162d8b",
   "metadata": {},
   "source": [
    "# <font color= #79b0e9> **Examen Parcial 3** </font> \n",
    "\n",
    "Sofía Maldonado García\n",
    "\n",
    "Viviana Toledo De la Fuente\n",
    "\n",
    "Iván Morales\n",
    "\n",
    "\"Y aquí iría le 4to integrante, si tuviéramos une\""
   ]
  },
  {
   "cell_type": "code",
   "execution_count": 59,
   "id": "b54aaf7e",
   "metadata": {},
   "outputs": [],
   "source": [
    "# Librerías Generales\n",
    "import numpy as np\n",
    "import pandas as pd\n",
    "\n",
    "# Gráficas\n",
    "import matplotlib.pyplot as plt\n",
    "from matplotlib.patches import Patch\n",
    "import plotly.express as px\n",
    "import plotly.graph_objects as go\n",
    "import seaborn as sns\n",
    "\n",
    "# Modelado\n",
    "from sklearn.svm import SVC\n",
    "\n",
    "# Métricas\n",
    "from sklearn.metrics import accuracy_score, precision_score, recall_score, f1_score, roc_auc_score, confusion_matrix, roc_curve, ConfusionMatrixDisplay\n",
    "\n",
    "# Tratamiento de Datos\n",
    "from sklearn.model_selection import train_test_split\n",
    "from sklearn.preprocessing import StandardScaler\n",
    "from sklearn.pipeline import Pipeline\n",
    "from sklearn.model_selection import GridSearchCV\n",
    "from sklearn.feature_selection import RFE\n",
    "from scipy.stats import boxcox"
   ]
  },
  {
   "cell_type": "markdown",
   "id": "5b9cc84e",
   "metadata": {},
   "source": [
    "---"
   ]
  },
  {
   "cell_type": "markdown",
   "id": "00791040",
   "metadata": {},
   "source": [
    "# <font color= #79b0e9> **Análisis Exploratorio de Datos** </font> "
   ]
  },
  {
   "cell_type": "code",
   "execution_count": 60,
   "id": "4f3e7a79",
   "metadata": {},
   "outputs": [
    {
     "name": "stdout",
     "output_type": "stream",
     "text": [
      " Tamaño del dataset: (119, 10)\n"
     ]
    },
    {
     "data": {
      "application/vnd.microsoft.datawrangler.viewer.v0+json": {
       "columns": [
        {
         "name": "index",
         "rawType": "int64",
         "type": "integer"
        },
        {
         "name": "Age",
         "rawType": "int64",
         "type": "integer"
        },
        {
         "name": "Sex",
         "rawType": "object",
         "type": "string"
        },
        {
         "name": "TCh",
         "rawType": "int64",
         "type": "integer"
        },
        {
         "name": "HCh",
         "rawType": "int64",
         "type": "integer"
        },
        {
         "name": "LCh",
         "rawType": "int64",
         "type": "integer"
        },
        {
         "name": "Tr",
         "rawType": "int64",
         "type": "integer"
        },
        {
         "name": "BPS",
         "rawType": "int64",
         "type": "integer"
        },
        {
         "name": "Sm",
         "rawType": "object",
         "type": "string"
        },
        {
         "name": "Diabetes",
         "rawType": "object",
         "type": "string"
        },
        {
         "name": "Pred",
         "rawType": "object",
         "type": "string"
        }
       ],
       "conversionMethod": "pd.DataFrame",
       "ref": "5d75077a-23f5-4c71-b48a-0ae7b53b11cf",
       "rows": [
        [
         "0",
         "50",
         "Male",
         "272",
         "68",
         "188",
         "82",
         "124",
         "Non-smoker",
         "No",
         "High"
        ],
        [
         "1",
         "29",
         "Female",
         "275",
         "68",
         "183",
         "84",
         "129",
         "Non-smoker",
         "No",
         "High"
        ],
        [
         "2",
         "50",
         "Male",
         "268",
         "55",
         "189",
         "111",
         "119",
         "Non-smoker",
         "No",
         "High"
        ],
        [
         "3",
         "78",
         "Female",
         "194",
         "50",
         "120",
         "94",
         "113",
         "Non-smoker",
         "No",
         "High"
        ],
        [
         "4",
         "63",
         "Male",
         "229",
         "35",
         "182",
         "214",
         "160",
         "Smoker",
         "Yes",
         "High"
        ]
       ],
       "shape": {
        "columns": 10,
        "rows": 5
       }
      },
      "text/html": [
       "<div>\n",
       "<style scoped>\n",
       "    .dataframe tbody tr th:only-of-type {\n",
       "        vertical-align: middle;\n",
       "    }\n",
       "\n",
       "    .dataframe tbody tr th {\n",
       "        vertical-align: top;\n",
       "    }\n",
       "\n",
       "    .dataframe thead th {\n",
       "        text-align: right;\n",
       "    }\n",
       "</style>\n",
       "<table border=\"1\" class=\"dataframe\">\n",
       "  <thead>\n",
       "    <tr style=\"text-align: right;\">\n",
       "      <th></th>\n",
       "      <th>Age</th>\n",
       "      <th>Sex</th>\n",
       "      <th>TCh</th>\n",
       "      <th>HCh</th>\n",
       "      <th>LCh</th>\n",
       "      <th>Tr</th>\n",
       "      <th>BPS</th>\n",
       "      <th>Sm</th>\n",
       "      <th>Diabetes</th>\n",
       "      <th>Pred</th>\n",
       "    </tr>\n",
       "  </thead>\n",
       "  <tbody>\n",
       "    <tr>\n",
       "      <th>0</th>\n",
       "      <td>50</td>\n",
       "      <td>Male</td>\n",
       "      <td>272</td>\n",
       "      <td>68</td>\n",
       "      <td>188</td>\n",
       "      <td>82</td>\n",
       "      <td>124</td>\n",
       "      <td>Non-smoker</td>\n",
       "      <td>No</td>\n",
       "      <td>High</td>\n",
       "    </tr>\n",
       "    <tr>\n",
       "      <th>1</th>\n",
       "      <td>29</td>\n",
       "      <td>Female</td>\n",
       "      <td>275</td>\n",
       "      <td>68</td>\n",
       "      <td>183</td>\n",
       "      <td>84</td>\n",
       "      <td>129</td>\n",
       "      <td>Non-smoker</td>\n",
       "      <td>No</td>\n",
       "      <td>High</td>\n",
       "    </tr>\n",
       "    <tr>\n",
       "      <th>2</th>\n",
       "      <td>50</td>\n",
       "      <td>Male</td>\n",
       "      <td>268</td>\n",
       "      <td>55</td>\n",
       "      <td>189</td>\n",
       "      <td>111</td>\n",
       "      <td>119</td>\n",
       "      <td>Non-smoker</td>\n",
       "      <td>No</td>\n",
       "      <td>High</td>\n",
       "    </tr>\n",
       "    <tr>\n",
       "      <th>3</th>\n",
       "      <td>78</td>\n",
       "      <td>Female</td>\n",
       "      <td>194</td>\n",
       "      <td>50</td>\n",
       "      <td>120</td>\n",
       "      <td>94</td>\n",
       "      <td>113</td>\n",
       "      <td>Non-smoker</td>\n",
       "      <td>No</td>\n",
       "      <td>High</td>\n",
       "    </tr>\n",
       "    <tr>\n",
       "      <th>4</th>\n",
       "      <td>63</td>\n",
       "      <td>Male</td>\n",
       "      <td>229</td>\n",
       "      <td>35</td>\n",
       "      <td>182</td>\n",
       "      <td>214</td>\n",
       "      <td>160</td>\n",
       "      <td>Smoker</td>\n",
       "      <td>Yes</td>\n",
       "      <td>High</td>\n",
       "    </tr>\n",
       "  </tbody>\n",
       "</table>\n",
       "</div>"
      ],
      "text/plain": [
       "   Age     Sex  TCh  HCh  LCh   Tr  BPS          Sm Diabetes  Pred\n",
       "0   50    Male  272   68  188   82  124  Non-smoker       No  High\n",
       "1   29  Female  275   68  183   84  129  Non-smoker       No  High\n",
       "2   50    Male  268   55  189  111  119  Non-smoker       No  High\n",
       "3   78  Female  194   50  120   94  113  Non-smoker       No  High\n",
       "4   63    Male  229   35  182  214  160      Smoker      Yes  High"
      ]
     },
     "execution_count": 60,
     "metadata": {},
     "output_type": "execute_result"
    }
   ],
   "source": [
    "df = pd.read_csv('data/train_data.csv')\n",
    "print(f' Tamaño del dataset: {df.shape}')\n",
    "df.head()"
   ]
  },
  {
   "cell_type": "markdown",
   "id": "64d9100b",
   "metadata": {},
   "source": [
    "Contamos con un dataset de 119 observaciones, 9 features y 1 target. \n",
    "\n",
    "El dataset contiene información relacionada con pacientes y la predisposición que tienen de sufrir un padecimiento en específico, basado en las características biométricas y comorbilidades de cada une."
   ]
  },
  {
   "cell_type": "code",
   "execution_count": 61,
   "id": "79242cbc",
   "metadata": {},
   "outputs": [
    {
     "name": "stdout",
     "output_type": "stream",
     "text": [
      "<class 'pandas.core.frame.DataFrame'>\n",
      "RangeIndex: 119 entries, 0 to 118\n",
      "Data columns (total 10 columns):\n",
      " #   Column    Non-Null Count  Dtype \n",
      "---  ------    --------------  ----- \n",
      " 0   Age       119 non-null    int64 \n",
      " 1   Sex       119 non-null    object\n",
      " 2   TCh       119 non-null    int64 \n",
      " 3   HCh       119 non-null    int64 \n",
      " 4   LCh       119 non-null    int64 \n",
      " 5   Tr        119 non-null    int64 \n",
      " 6   BPS       119 non-null    int64 \n",
      " 7   Sm        119 non-null    object\n",
      " 8   Diabetes  119 non-null    object\n",
      " 9   Pred      119 non-null    object\n",
      "dtypes: int64(6), object(4)\n",
      "memory usage: 9.4+ KB\n"
     ]
    }
   ],
   "source": [
    "df.info()"
   ]
  },
  {
   "cell_type": "markdown",
   "id": "50ab4660",
   "metadata": {},
   "source": [
    "Tenemos 6 features numéricas y 3 features categóricas (sex, smoking y diabetes). Tendremos que codificar estas variables para tomarlas en cuenta en nuestro modelo.\n",
    "\n",
    "Además, no contamos con valores nulos."
   ]
  },
  {
   "cell_type": "markdown",
   "id": "e9c72f87",
   "metadata": {},
   "source": [
    "## <font color= #4783bf> Variables Cualitativas </font>"
   ]
  },
  {
   "cell_type": "code",
   "execution_count": 62,
   "id": "51dd1e74",
   "metadata": {},
   "outputs": [
    {
     "data": {
      "image/png": "[encoded data removed]",
      "text/plain": [
       "<Figure size 640x480 with 1 Axes>"
      ]
     },
     "metadata": {},
     "output_type": "display_data"
    }
   ],
   "source": [
    "sns.countplot(x='Pred', data=df)\n",
    "plt.title('Predisposición a la Enfermedad')\n",
    "plt.show()"
   ]
  },
  {
   "cell_type": "markdown",
   "id": "33d4eb8a",
   "metadata": {},
   "source": [
    "Nuestras clases no presentan un desbalanceo severo, lo que es deseable para predecir los tres niveles."
   ]
  },
  {
   "cell_type": "code",
   "execution_count": 63,
   "id": "a0776378",
   "metadata": {},
   "outputs": [
    {
     "name": "stdout",
     "output_type": "stream",
     "text": [
      "{'Male': 60, 'Female': 59}\n"
     ]
    },
    {
     "data": {
      "image/png": "[encoded data removed]",
      "text/plain": [
       "<Figure size 640x480 with 1 Axes>"
      ]
     },
     "metadata": {},
     "output_type": "display_data"
    }
   ],
   "source": [
    "# Función para graficar variables cualitativas\n",
    "def grafica_cualitativa(var, var_name):\n",
    "    pd.crosstab(var, df.Pred).plot(kind='bar')\n",
    "    # Estética\n",
    "    plt.title(f'Predisposición por {var_name}')\n",
    "    plt.xlabel(f'{var_name}')\n",
    "    plt.ylabel('Personas')\n",
    "    print(var.value_counts().to_dict())\n",
    "\n",
    "grafica_cualitativa(df.Sex, 'Sexo')"
   ]
  },
  {
   "cell_type": "markdown",
   "id": "e8e7184e",
   "metadata": {},
   "source": [
    "Las categorías de Hombre y Mujer también están balanceadas. Además, observamos que en base a la muestra, las mujeres en su mayoría tienen una predisposición media a la enfermedad, mientras que los hombres están un poco más polarizados, pues tienen la misma probabilidad de tener una predisposición baja o alta."
   ]
  },
  {
   "cell_type": "code",
   "execution_count": 64,
   "id": "b821a12f",
   "metadata": {},
   "outputs": [
    {
     "name": "stdout",
     "output_type": "stream",
     "text": [
      "{'No': 112, 'Yes': 7}\n"
     ]
    },
    {
     "data": {
      "image/png": "[encoded data removed]",
      "text/plain": [
       "<Figure size 640x480 with 1 Axes>"
      ]
     },
     "metadata": {},
     "output_type": "display_data"
    }
   ],
   "source": [
    "grafica_cualitativa(df.Diabetes, 'Diabetes')"
   ]
  },
  {
   "cell_type": "markdown",
   "id": "f7b53960",
   "metadata": {},
   "source": [
    "No tener diabetes no parece tener mucho efecto en la predisposición a desarrollar el padecimiento. Sin embargo, es muy probable que personas con diabetes padezcan la enfermedad."
   ]
  },
  {
   "cell_type": "code",
   "execution_count": 65,
   "id": "4250484e",
   "metadata": {},
   "outputs": [
    {
     "name": "stdout",
     "output_type": "stream",
     "text": [
      "{'Non-smoker': 106, 'Smoker': 13}\n"
     ]
    },
    {
     "data": {
      "image/png": "[encoded data removed]",
      "text/plain": [
       "<Figure size 640x480 with 1 Axes>"
      ]
     },
     "metadata": {},
     "output_type": "display_data"
    }
   ],
   "source": [
    "grafica_cualitativa(df.Sm, 'Fumar')"
   ]
  },
  {
   "cell_type": "markdown",
   "id": "2c6487de",
   "metadata": {},
   "source": [
    "De nuevo, las personas que no fuman tienen prediposiciones mixtas de padecer la enfermedad. Pero es MUY probable que les fumadores desarrollen el padecimiento."
   ]
  },
  {
   "cell_type": "markdown",
   "id": "1cd04010",
   "metadata": {},
   "source": [
    "## <font color= #4783bf> Variables Cuantitativas </font>"
   ]
  },
  {
   "cell_type": "code",
   "execution_count": 66,
   "id": "4e49df1f",
   "metadata": {},
   "outputs": [
    {
     "data": {
      "application/vnd.microsoft.datawrangler.viewer.v0+json": {
       "columns": [
        {
         "name": "index",
         "rawType": "object",
         "type": "string"
        },
        {
         "name": "Age",
         "rawType": "float64",
         "type": "float"
        },
        {
         "name": "TCh",
         "rawType": "float64",
         "type": "float"
        },
        {
         "name": "HCh",
         "rawType": "float64",
         "type": "float"
        },
        {
         "name": "LCh",
         "rawType": "float64",
         "type": "float"
        },
        {
         "name": "Tr",
         "rawType": "float64",
         "type": "float"
        },
        {
         "name": "BPS",
         "rawType": "float64",
         "type": "float"
        }
       ],
       "conversionMethod": "pd.DataFrame",
       "ref": "26b3fc5d-cded-45bd-b11c-98599c40a20a",
       "rows": [
        [
         "count",
         "119.0",
         "119.0",
         "119.0",
         "119.0",
         "119.0",
         "119.0"
        ],
        [
         "mean",
         "53.36974789915966",
         "224.54621848739495",
         "57.739495798319325",
         "147.26050420168067",
         "132.12605042016807",
         "129.8235294117647"
        ],
        [
         "std",
         "16.0960388569691",
         "37.48146387061293",
         "11.393919122232054",
         "39.22846212154629",
         "60.79955321839758",
         "14.55011623159558"
        ],
        [
         "min",
         "25.0",
         "160.0",
         "31.0",
         "67.0",
         "80.0",
         "111.0"
        ],
        [
         "25%",
         "41.0",
         "188.0",
         "50.5",
         "115.0",
         "83.5",
         "119.0"
        ],
        [
         "50%",
         "55.0",
         "227.0",
         "62.0",
         "150.0",
         "111.0",
         "127.0"
        ],
        [
         "75%",
         "68.5",
         "259.5",
         "68.0",
         "181.0",
         "159.0",
         "138.0"
        ],
        [
         "max",
         "79.0",
         "277.0",
         "69.0",
         "220.0",
         "298.0",
         "168.0"
        ]
       ],
       "shape": {
        "columns": 6,
        "rows": 8
       }
      },
      "text/html": [
       "<div>\n",
       "<style scoped>\n",
       "    .dataframe tbody tr th:only-of-type {\n",
       "        vertical-align: middle;\n",
       "    }\n",
       "\n",
       "    .dataframe tbody tr th {\n",
       "        vertical-align: top;\n",
       "    }\n",
       "\n",
       "    .dataframe thead th {\n",
       "        text-align: right;\n",
       "    }\n",
       "</style>\n",
       "<table border=\"1\" class=\"dataframe\">\n",
       "  <thead>\n",
       "    <tr style=\"text-align: right;\">\n",
       "      <th></th>\n",
       "      <th>Age</th>\n",
       "      <th>TCh</th>\n",
       "      <th>HCh</th>\n",
       "      <th>LCh</th>\n",
       "      <th>Tr</th>\n",
       "      <th>BPS</th>\n",
       "    </tr>\n",
       "  </thead>\n",
       "  <tbody>\n",
       "    <tr>\n",
       "      <th>count</th>\n",
       "      <td>119.000000</td>\n",
       "      <td>119.000000</td>\n",
       "      <td>119.000000</td>\n",
       "      <td>119.000000</td>\n",
       "      <td>119.000000</td>\n",
       "      <td>119.000000</td>\n",
       "    </tr>\n",
       "    <tr>\n",
       "      <th>mean</th>\n",
       "      <td>53.369748</td>\n",
       "      <td>224.546218</td>\n",
       "      <td>57.739496</td>\n",
       "      <td>147.260504</td>\n",
       "      <td>132.126050</td>\n",
       "      <td>129.823529</td>\n",
       "    </tr>\n",
       "    <tr>\n",
       "      <th>std</th>\n",
       "      <td>16.096039</td>\n",
       "      <td>37.481464</td>\n",
       "      <td>11.393919</td>\n",
       "      <td>39.228462</td>\n",
       "      <td>60.799553</td>\n",
       "      <td>14.550116</td>\n",
       "    </tr>\n",
       "    <tr>\n",
       "      <th>min</th>\n",
       "      <td>25.000000</td>\n",
       "      <td>160.000000</td>\n",
       "      <td>31.000000</td>\n",
       "      <td>67.000000</td>\n",
       "      <td>80.000000</td>\n",
       "      <td>111.000000</td>\n",
       "    </tr>\n",
       "    <tr>\n",
       "      <th>25%</th>\n",
       "      <td>41.000000</td>\n",
       "      <td>188.000000</td>\n",
       "      <td>50.500000</td>\n",
       "      <td>115.000000</td>\n",
       "      <td>83.500000</td>\n",
       "      <td>119.000000</td>\n",
       "    </tr>\n",
       "    <tr>\n",
       "      <th>50%</th>\n",
       "      <td>55.000000</td>\n",
       "      <td>227.000000</td>\n",
       "      <td>62.000000</td>\n",
       "      <td>150.000000</td>\n",
       "      <td>111.000000</td>\n",
       "      <td>127.000000</td>\n",
       "    </tr>\n",
       "    <tr>\n",
       "      <th>75%</th>\n",
       "      <td>68.500000</td>\n",
       "      <td>259.500000</td>\n",
       "      <td>68.000000</td>\n",
       "      <td>181.000000</td>\n",
       "      <td>159.000000</td>\n",
       "      <td>138.000000</td>\n",
       "    </tr>\n",
       "    <tr>\n",
       "      <th>max</th>\n",
       "      <td>79.000000</td>\n",
       "      <td>277.000000</td>\n",
       "      <td>69.000000</td>\n",
       "      <td>220.000000</td>\n",
       "      <td>298.000000</td>\n",
       "      <td>168.000000</td>\n",
       "    </tr>\n",
       "  </tbody>\n",
       "</table>\n",
       "</div>"
      ],
      "text/plain": [
       "              Age         TCh         HCh         LCh          Tr         BPS\n",
       "count  119.000000  119.000000  119.000000  119.000000  119.000000  119.000000\n",
       "mean    53.369748  224.546218   57.739496  147.260504  132.126050  129.823529\n",
       "std     16.096039   37.481464   11.393919   39.228462   60.799553   14.550116\n",
       "min     25.000000  160.000000   31.000000   67.000000   80.000000  111.000000\n",
       "25%     41.000000  188.000000   50.500000  115.000000   83.500000  119.000000\n",
       "50%     55.000000  227.000000   62.000000  150.000000  111.000000  127.000000\n",
       "75%     68.500000  259.500000   68.000000  181.000000  159.000000  138.000000\n",
       "max     79.000000  277.000000   69.000000  220.000000  298.000000  168.000000"
      ]
     },
     "execution_count": 66,
     "metadata": {},
     "output_type": "execute_result"
    }
   ],
   "source": [
    "df.describe()"
   ]
  },
  {
   "cell_type": "markdown",
   "id": "ab683517",
   "metadata": {},
   "source": [
    "Las variables numéricas tienen escalas algo diferentes, si bien no tan excesivas. "
   ]
  },
  {
   "cell_type": "code",
   "execution_count": 67,
   "id": "a34c13a4",
   "metadata": {},
   "outputs": [
    {
     "data": {
      "image/png": "[encoded data removed]",
      "text/plain": [
       "<Figure size 1500x800 with 6 Axes>"
      ]
     },
     "metadata": {},
     "output_type": "display_data"
    }
   ],
   "source": [
    "# Filtrar variables numéricas\n",
    "numeric_vars = df.select_dtypes(include='number').columns.tolist()\n",
    "\n",
    "# Crear grid 2x3\n",
    "fig, axes = plt.subplots(2, 3, figsize=(15, 8))\n",
    "axes = axes.flatten()\n",
    "\n",
    "# Paleta de colores\n",
    "palette = {'Low': '#86bf55', 'Medium': '#ffc300', 'High': '#c53636'}\n",
    "\n",
    "# Gráficos\n",
    "for i, var in enumerate(numeric_vars):\n",
    "    ax = axes[i]\n",
    "    sns.kdeplot(data=df, x=var, hue='Pred', fill=True, common_norm=False, alpha=0.7, ax=ax, palette=palette)\n",
    "    ax.set_title(var)\n",
    "    ax.tick_params(axis='x', rotation=90)\n",
    "    ax.get_legend().remove()\n",
    "\n",
    "# Leyenda\n",
    "legend_patches = [Patch(color=color, label=label) for label, color in palette.items()]\n",
    "fig.legend(handles=legend_patches, title='Pred', loc='center right', bbox_to_anchor=(1.12, 0.5))\n",
    "\n",
    "plt.tight_layout()\n",
    "plt.show()"
   ]
  },
  {
   "cell_type": "markdown",
   "id": "535af91a",
   "metadata": {},
   "source": [
    "Haciendo gráficas KDE para todas las variables numéricas con respecto a nuestras clases, podemos observar que la Edad, TCh y LCh no son variables con mucho poder predictivo. Sin embargo, las demás variables sí nos aportan discriminantes significativos para las clases.\n",
    "\n",
    "- TCh: Si cuentan con altos valores de esta variable, es probable que las personas tengan una baja predisposición a la enfermedad.\n",
    "\n",
    "- Tr: Los valores bajos de esta variable indican una probabilidad media-baja de padecer la enfermedad.\n",
    "\n",
    "- BPS: A partir de los 100-130 existe una probabilidad baja o media de contraer la enfermedad. Conforme aumenta este nivel, baja la probabilidad de no ser afectade."
   ]
  },
  {
   "cell_type": "code",
   "execution_count": 70,
   "id": "5b54f45d",
   "metadata": {},
   "outputs": [
    {
     "data": {
      "text/plain": [
       "<Axes: >"
      ]
     },
     "execution_count": 70,
     "metadata": {},
     "output_type": "execute_result"
    },
    {
     "data": {
      "image/png": "[encoded data removed]",
      "text/plain": [
       "<Figure size 640x480 with 1 Axes>"
      ]
     },
     "metadata": {},
     "output_type": "display_data"
    }
   ],
   "source": [
    "df.select_dtypes(include='number').boxplot()"
   ]
  },
  {
   "cell_type": "markdown",
   "id": "8730ab34",
   "metadata": {},
   "source": [
    "La variable Tr presenta bastantes outliers, los cuales pueden ser algo problemáticos."
   ]
  },
  {
   "cell_type": "code",
   "execution_count": 72,
   "id": "871f7a65",
   "metadata": {},
   "outputs": [
    {
     "data": {
      "application/vnd.microsoft.datawrangler.viewer.v0+json": {
       "columns": [
        {
         "name": "index",
         "rawType": "object",
         "type": "string"
        },
        {
         "name": "value",
         "rawType": "float64",
         "type": "float"
        },
        {
         "name": "skewness",
         "rawType": "object",
         "type": "string"
        }
       ],
       "conversionMethod": "pd.DataFrame",
       "ref": "305bdd39-0aec-4da2-85c4-1b342868406b",
       "rows": [
        [
         "Age",
         "-0.12",
         "Symmetric distribution"
        ],
        [
         "TCh",
         "-0.19",
         "Symmetric distribution"
        ],
        [
         "HCh",
         "-0.82",
         "Moderately skewed"
        ],
        [
         "LCh",
         "-0.21",
         "Symmetric distribution"
        ],
        [
         "Tr",
         "1.23",
         "Highly Skewed"
        ],
        [
         "BPS",
         "0.87",
         "Moderately skewed"
        ]
       ],
       "shape": {
        "columns": 2,
        "rows": 6
       }
      },
      "text/html": [
       "<div>\n",
       "<style scoped>\n",
       "    .dataframe tbody tr th:only-of-type {\n",
       "        vertical-align: middle;\n",
       "    }\n",
       "\n",
       "    .dataframe tbody tr th {\n",
       "        vertical-align: top;\n",
       "    }\n",
       "\n",
       "    .dataframe thead th {\n",
       "        text-align: right;\n",
       "    }\n",
       "</style>\n",
       "<table border=\"1\" class=\"dataframe\">\n",
       "  <thead>\n",
       "    <tr style=\"text-align: right;\">\n",
       "      <th></th>\n",
       "      <th>value</th>\n",
       "      <th>skewness</th>\n",
       "    </tr>\n",
       "  </thead>\n",
       "  <tbody>\n",
       "    <tr>\n",
       "      <th>Age</th>\n",
       "      <td>-0.12</td>\n",
       "      <td>Symmetric distribution</td>\n",
       "    </tr>\n",
       "    <tr>\n",
       "      <th>TCh</th>\n",
       "      <td>-0.19</td>\n",
       "      <td>Symmetric distribution</td>\n",
       "    </tr>\n",
       "    <tr>\n",
       "      <th>HCh</th>\n",
       "      <td>-0.82</td>\n",
       "      <td>Moderately skewed</td>\n",
       "    </tr>\n",
       "    <tr>\n",
       "      <th>LCh</th>\n",
       "      <td>-0.21</td>\n",
       "      <td>Symmetric distribution</td>\n",
       "    </tr>\n",
       "    <tr>\n",
       "      <th>Tr</th>\n",
       "      <td>1.23</td>\n",
       "      <td>Highly Skewed</td>\n",
       "    </tr>\n",
       "    <tr>\n",
       "      <th>BPS</th>\n",
       "      <td>0.87</td>\n",
       "      <td>Moderately skewed</td>\n",
       "    </tr>\n",
       "  </tbody>\n",
       "</table>\n",
       "</div>"
      ],
      "text/plain": [
       "     value                skewness\n",
       "Age  -0.12  Symmetric distribution\n",
       "TCh  -0.19  Symmetric distribution\n",
       "HCh  -0.82       Moderately skewed\n",
       "LCh  -0.21  Symmetric distribution\n",
       "Tr    1.23           Highly Skewed\n",
       "BPS   0.87       Moderately skewed"
      ]
     },
     "execution_count": 72,
     "metadata": {},
     "output_type": "execute_result"
    }
   ],
   "source": [
    "numeric = df.select_dtypes(include='number')\n",
    "\n",
    "# Calculo de la asimetria con pandas\n",
    "skewness = round(numeric.skew(),2)\n",
    "skewness = skewness.to_frame()\n",
    "skewness = skewness.rename(columns={0: \"value\"}) \n",
    "\n",
    "def f(x):\n",
    "    if x['value'] < -1 or x['value'] > 1: return 'Highly Skewed'\n",
    "    elif (x['value']<=0 and x['value']>=-0.5) or (x['value'] >=0 and x['value']<=0.5):\n",
    "        return 'Symmetric distribution'\n",
    "    else: return 'Moderately skewed'\n",
    "    \n",
    "skewness['skewness'] = skewness.apply(f, axis=1)\n",
    "\n",
    "skewness"
   ]
  },
  {
   "cell_type": "markdown",
   "id": "06b40e35",
   "metadata": {},
   "source": [
    "Debido a la presencia de outliers en Tr, aquella distribución está muy sesgada a la derecha. BPS y HCh están moderadamente sesgadas, a la derecha e izquierda, respectivamente. Lo anterior sugiere que, según el modelo, una transformación de datos no vendría mal. "
   ]
  },
  {
   "cell_type": "markdown",
   "id": "f226727b",
   "metadata": {},
   "source": [
    "## <font color= #4783bf> Codificación de Variables </font>"
   ]
  },
  {
   "cell_type": "markdown",
   "id": "093e4e11",
   "metadata": {},
   "source": [
    "Nuestras variables categóricas (Sexo, Diabetes y Fumadores) son variables binarias. Por lo tanto, basta con asignar 0's y 1's para codificar. "
   ]
  },
  {
   "cell_type": "code",
   "execution_count": 58,
   "id": "9ccf60e4",
   "metadata": {},
   "outputs": [
    {
     "data": {
      "application/vnd.microsoft.datawrangler.viewer.v0+json": {
       "columns": [
        {
         "name": "index",
         "rawType": "int64",
         "type": "integer"
        },
        {
         "name": "Age",
         "rawType": "int64",
         "type": "integer"
        },
        {
         "name": "Sex",
         "rawType": "float64",
         "type": "float"
        },
        {
         "name": "TCh",
         "rawType": "int64",
         "type": "integer"
        },
        {
         "name": "HCh",
         "rawType": "int64",
         "type": "integer"
        },
        {
         "name": "LCh",
         "rawType": "int64",
         "type": "integer"
        },
        {
         "name": "Tr",
         "rawType": "int64",
         "type": "integer"
        },
        {
         "name": "BPS",
         "rawType": "int64",
         "type": "integer"
        },
        {
         "name": "Sm",
         "rawType": "float64",
         "type": "float"
        },
        {
         "name": "Diabetes",
         "rawType": "float64",
         "type": "float"
        },
        {
         "name": "Pred",
         "rawType": "object",
         "type": "string"
        }
       ],
       "conversionMethod": "pd.DataFrame",
       "ref": "68ee6d46-0a72-4c83-9736-495182bccda4",
       "rows": [
        [
         "0",
         "50",
         "1.0",
         "272",
         "68",
         "188",
         "82",
         "124",
         "0.0",
         "0.0",
         "High"
        ],
        [
         "1",
         "29",
         "0.0",
         "275",
         "68",
         "183",
         "84",
         "129",
         "0.0",
         "0.0",
         "High"
        ],
        [
         "2",
         "50",
         "1.0",
         "268",
         "55",
         "189",
         "111",
         "119",
         "0.0",
         "0.0",
         "High"
        ],
        [
         "3",
         "78",
         "0.0",
         "194",
         "50",
         "120",
         "94",
         "113",
         "0.0",
         "0.0",
         "High"
        ],
        [
         "4",
         "63",
         "1.0",
         "229",
         "35",
         "182",
         "214",
         "160",
         "1.0",
         "1.0",
         "High"
        ],
        [
         "5",
         "39",
         "1.0",
         "188",
         "62",
         "97",
         "234",
         "145",
         "0.0",
         "0.0",
         "High"
        ],
        [
         "6",
         "32",
         "1.0",
         "188",
         "33",
         "134",
         "252",
         "111",
         "1.0",
         "0.0",
         "High"
        ],
        [
         "7",
         "60",
         "0.0",
         "185",
         "56",
         "115",
         "227",
         "120",
         "0.0",
         "0.0",
         "High"
        ],
        [
         "8",
         "30",
         "0.0",
         "182",
         "55",
         "104",
         "186",
         "121",
         "0.0",
         "1.0",
         "High"
        ],
        [
         "9",
         "42",
         "1.0",
         "256",
         "69",
         "167",
         "283",
         "153",
         "0.0",
         "0.0",
         "High"
        ],
        [
         "10",
         "35",
         "1.0",
         "160",
         "66",
         "71",
         "243",
         "163",
         "0.0",
         "0.0",
         "High"
        ],
        [
         "11",
         "76",
         "1.0",
         "276",
         "55",
         "203",
         "114",
         "161",
         "0.0",
         "0.0",
         "High"
        ],
        [
         "12",
         "26",
         "1.0",
         "241",
         "56",
         "174",
         "170",
         "126",
         "0.0",
         "1.0",
         "High"
        ],
        [
         "13",
         "75",
         "0.0",
         "183",
         "54",
         "113",
         "259",
         "115",
         "1.0",
         "0.0",
         "High"
        ],
        [
         "14",
         "53",
         "1.0",
         "266",
         "51",
         "188",
         "292",
         "158",
         "1.0",
         "0.0",
         "High"
        ],
        [
         "15",
         "73",
         "0.0",
         "277",
         "51",
         "209",
         "128",
         "116",
         "0.0",
         "1.0",
         "High"
        ],
        [
         "16",
         "47",
         "1.0",
         "215",
         "48",
         "141",
         "252",
         "138",
         "0.0",
         "0.0",
         "High"
        ],
        [
         "17",
         "42",
         "1.0",
         "237",
         "31",
         "180",
         "193",
         "139",
         "0.0",
         "1.0",
         "High"
        ],
        [
         "18",
         "25",
         "0.0",
         "188",
         "68",
         "108",
         "111",
         "119",
         "1.0",
         "0.0",
         "High"
        ],
        [
         "19",
         "57",
         "1.0",
         "214",
         "57",
         "130",
         "214",
         "138",
         "0.0",
         "0.0",
         "High"
        ],
        [
         "20",
         "27",
         "0.0",
         "246",
         "37",
         "185",
         "146",
         "160",
         "0.0",
         "1.0",
         "High"
        ],
        [
         "21",
         "58",
         "1.0",
         "255",
         "53",
         "179",
         "111",
         "165",
         "0.0",
         "0.0",
         "High"
        ],
        [
         "22",
         "76",
         "1.0",
         "213",
         "50",
         "140",
         "134",
         "157",
         "1.0",
         "0.0",
         "High"
        ],
        [
         "23",
         "57",
         "1.0",
         "244",
         "48",
         "171",
         "204",
         "128",
         "0.0",
         "0.0",
         "High"
        ],
        [
         "24",
         "26",
         "1.0",
         "206",
         "34",
         "143",
         "90",
         "151",
         "0.0",
         "0.0",
         "High"
        ],
        [
         "25",
         "79",
         "0.0",
         "179",
         "34",
         "131",
         "245",
         "139",
         "1.0",
         "0.0",
         "High"
        ],
        [
         "26",
         "56",
         "1.0",
         "273",
         "46",
         "204",
         "88",
         "149",
         "0.0",
         "0.0",
         "High"
        ],
        [
         "27",
         "33",
         "0.0",
         "181",
         "33",
         "126",
         "177",
         "132",
         "0.0",
         "0.0",
         "High"
        ],
        [
         "28",
         "45",
         "0.0",
         "259",
         "67",
         "181",
         "96",
         "146",
         "0.0",
         "0.0",
         "High"
        ],
        [
         "29",
         "47",
         "1.0",
         "265",
         "51",
         "199",
         "298",
         "149",
         "1.0",
         "0.0",
         "High"
        ],
        [
         "30",
         "77",
         "1.0",
         "169",
         "46",
         "100",
         "143",
         "111",
         "1.0",
         "0.0",
         "High"
        ],
        [
         "31",
         "75",
         "1.0",
         "195",
         "55",
         "120",
         "119",
         "120",
         "1.0",
         "0.0",
         "High"
        ],
        [
         "32",
         "63",
         "0.0",
         "258",
         "63",
         "171",
         "231",
         "163",
         "1.0",
         "0.0",
         "High"
        ],
        [
         "33",
         "60",
         "1.0",
         "179",
         "48",
         "119",
         "160",
         "168",
         "0.0",
         "0.0",
         "High"
        ],
        [
         "34",
         "64",
         "0.0",
         "184",
         "68",
         "104",
         "210",
         "159",
         "0.0",
         "0.0",
         "High"
        ],
        [
         "35",
         "54",
         "0.0",
         "257",
         "41",
         "188",
         "180",
         "153",
         "0.0",
         "0.0",
         "High"
        ],
        [
         "36",
         "41",
         "0.0",
         "216",
         "41",
         "150",
         "295",
         "128",
         "0.0",
         "0.0",
         "High"
        ],
        [
         "37",
         "47",
         "1.0",
         "277",
         "45",
         "217",
         "279",
         "134",
         "0.0",
         "0.0",
         "High"
        ],
        [
         "38",
         "47",
         "0.0",
         "160",
         "64",
         "75",
         "80",
         "112",
         "0.0",
         "0.0",
         "Low"
        ],
        [
         "39",
         "58",
         "1.0",
         "169",
         "66",
         "79",
         "80",
         "111",
         "0.0",
         "0.0",
         "Low"
        ],
        [
         "40",
         "35",
         "0.0",
         "197",
         "69",
         "108",
         "82",
         "125",
         "0.0",
         "0.0",
         "Low"
        ],
        [
         "41",
         "57",
         "0.0",
         "262",
         "66",
         "168",
         "81",
         "112",
         "0.0",
         "0.0",
         "Low"
        ],
        [
         "42",
         "26",
         "1.0",
         "246",
         "69",
         "164",
         "83",
         "120",
         "0.0",
         "0.0",
         "Low"
        ],
        [
         "43",
         "30",
         "1.0",
         "272",
         "66",
         "193",
         "83",
         "128",
         "0.0",
         "0.0",
         "Low"
        ],
        [
         "44",
         "54",
         "1.0",
         "221",
         "68",
         "125",
         "85",
         "113",
         "0.0",
         "0.0",
         "Low"
        ],
        [
         "45",
         "74",
         "0.0",
         "232",
         "67",
         "150",
         "84",
         "119",
         "0.0",
         "0.0",
         "Low"
        ],
        [
         "46",
         "72",
         "0.0",
         "267",
         "69",
         "185",
         "84",
         "125",
         "0.0",
         "0.0",
         "Low"
        ],
        [
         "47",
         "44",
         "1.0",
         "247",
         "69",
         "164",
         "81",
         "119",
         "0.0",
         "0.0",
         "Low"
        ],
        [
         "48",
         "68",
         "1.0",
         "269",
         "69",
         "181",
         "83",
         "130",
         "0.0",
         "0.0",
         "Low"
        ],
        [
         "49",
         "73",
         "1.0",
         "264",
         "66",
         "188",
         "81",
         "128",
         "0.0",
         "0.0",
         "Low"
        ]
       ],
       "shape": {
        "columns": 10,
        "rows": 119
       }
      },
      "text/html": [
       "<div>\n",
       "<style scoped>\n",
       "    .dataframe tbody tr th:only-of-type {\n",
       "        vertical-align: middle;\n",
       "    }\n",
       "\n",
       "    .dataframe tbody tr th {\n",
       "        vertical-align: top;\n",
       "    }\n",
       "\n",
       "    .dataframe thead th {\n",
       "        text-align: right;\n",
       "    }\n",
       "</style>\n",
       "<table border=\"1\" class=\"dataframe\">\n",
       "  <thead>\n",
       "    <tr style=\"text-align: right;\">\n",
       "      <th></th>\n",
       "      <th>Age</th>\n",
       "      <th>Sex</th>\n",
       "      <th>TCh</th>\n",
       "      <th>HCh</th>\n",
       "      <th>LCh</th>\n",
       "      <th>Tr</th>\n",
       "      <th>BPS</th>\n",
       "      <th>Sm</th>\n",
       "      <th>Diabetes</th>\n",
       "      <th>Pred</th>\n",
       "    </tr>\n",
       "  </thead>\n",
       "  <tbody>\n",
       "    <tr>\n",
       "      <th>0</th>\n",
       "      <td>50</td>\n",
       "      <td>1.0</td>\n",
       "      <td>272</td>\n",
       "      <td>68</td>\n",
       "      <td>188</td>\n",
       "      <td>82</td>\n",
       "      <td>124</td>\n",
       "      <td>0.0</td>\n",
       "      <td>0.0</td>\n",
       "      <td>High</td>\n",
       "    </tr>\n",
       "    <tr>\n",
       "      <th>1</th>\n",
       "      <td>29</td>\n",
       "      <td>0.0</td>\n",
       "      <td>275</td>\n",
       "      <td>68</td>\n",
       "      <td>183</td>\n",
       "      <td>84</td>\n",
       "      <td>129</td>\n",
       "      <td>0.0</td>\n",
       "      <td>0.0</td>\n",
       "      <td>High</td>\n",
       "    </tr>\n",
       "    <tr>\n",
       "      <th>2</th>\n",
       "      <td>50</td>\n",
       "      <td>1.0</td>\n",
       "      <td>268</td>\n",
       "      <td>55</td>\n",
       "      <td>189</td>\n",
       "      <td>111</td>\n",
       "      <td>119</td>\n",
       "      <td>0.0</td>\n",
       "      <td>0.0</td>\n",
       "      <td>High</td>\n",
       "    </tr>\n",
       "    <tr>\n",
       "      <th>3</th>\n",
       "      <td>78</td>\n",
       "      <td>0.0</td>\n",
       "      <td>194</td>\n",
       "      <td>50</td>\n",
       "      <td>120</td>\n",
       "      <td>94</td>\n",
       "      <td>113</td>\n",
       "      <td>0.0</td>\n",
       "      <td>0.0</td>\n",
       "      <td>High</td>\n",
       "    </tr>\n",
       "    <tr>\n",
       "      <th>4</th>\n",
       "      <td>63</td>\n",
       "      <td>1.0</td>\n",
       "      <td>229</td>\n",
       "      <td>35</td>\n",
       "      <td>182</td>\n",
       "      <td>214</td>\n",
       "      <td>160</td>\n",
       "      <td>1.0</td>\n",
       "      <td>1.0</td>\n",
       "      <td>High</td>\n",
       "    </tr>\n",
       "    <tr>\n",
       "      <th>...</th>\n",
       "      <td>...</td>\n",
       "      <td>...</td>\n",
       "      <td>...</td>\n",
       "      <td>...</td>\n",
       "      <td>...</td>\n",
       "      <td>...</td>\n",
       "      <td>...</td>\n",
       "      <td>...</td>\n",
       "      <td>...</td>\n",
       "      <td>...</td>\n",
       "    </tr>\n",
       "    <tr>\n",
       "      <th>114</th>\n",
       "      <td>74</td>\n",
       "      <td>0.0</td>\n",
       "      <td>274</td>\n",
       "      <td>55</td>\n",
       "      <td>192</td>\n",
       "      <td>141</td>\n",
       "      <td>141</td>\n",
       "      <td>0.0</td>\n",
       "      <td>0.0</td>\n",
       "      <td>Medium</td>\n",
       "    </tr>\n",
       "    <tr>\n",
       "      <th>115</th>\n",
       "      <td>72</td>\n",
       "      <td>0.0</td>\n",
       "      <td>248</td>\n",
       "      <td>69</td>\n",
       "      <td>163</td>\n",
       "      <td>183</td>\n",
       "      <td>122</td>\n",
       "      <td>0.0</td>\n",
       "      <td>0.0</td>\n",
       "      <td>Medium</td>\n",
       "    </tr>\n",
       "    <tr>\n",
       "      <th>116</th>\n",
       "      <td>35</td>\n",
       "      <td>1.0</td>\n",
       "      <td>213</td>\n",
       "      <td>67</td>\n",
       "      <td>121</td>\n",
       "      <td>106</td>\n",
       "      <td>129</td>\n",
       "      <td>0.0</td>\n",
       "      <td>0.0</td>\n",
       "      <td>Medium</td>\n",
       "    </tr>\n",
       "    <tr>\n",
       "      <th>117</th>\n",
       "      <td>57</td>\n",
       "      <td>0.0</td>\n",
       "      <td>197</td>\n",
       "      <td>42</td>\n",
       "      <td>131</td>\n",
       "      <td>188</td>\n",
       "      <td>133</td>\n",
       "      <td>0.0</td>\n",
       "      <td>0.0</td>\n",
       "      <td>Medium</td>\n",
       "    </tr>\n",
       "    <tr>\n",
       "      <th>118</th>\n",
       "      <td>61</td>\n",
       "      <td>0.0</td>\n",
       "      <td>265</td>\n",
       "      <td>57</td>\n",
       "      <td>190</td>\n",
       "      <td>130</td>\n",
       "      <td>138</td>\n",
       "      <td>1.0</td>\n",
       "      <td>0.0</td>\n",
       "      <td>Medium</td>\n",
       "    </tr>\n",
       "  </tbody>\n",
       "</table>\n",
       "<p>119 rows × 10 columns</p>\n",
       "</div>"
      ],
      "text/plain": [
       "     Age  Sex  TCh  HCh  LCh   Tr  BPS   Sm  Diabetes    Pred\n",
       "0     50  1.0  272   68  188   82  124  0.0       0.0    High\n",
       "1     29  0.0  275   68  183   84  129  0.0       0.0    High\n",
       "2     50  1.0  268   55  189  111  119  0.0       0.0    High\n",
       "3     78  0.0  194   50  120   94  113  0.0       0.0    High\n",
       "4     63  1.0  229   35  182  214  160  1.0       1.0    High\n",
       "..   ...  ...  ...  ...  ...  ...  ...  ...       ...     ...\n",
       "114   74  0.0  274   55  192  141  141  0.0       0.0  Medium\n",
       "115   72  0.0  248   69  163  183  122  0.0       0.0  Medium\n",
       "116   35  1.0  213   67  121  106  129  0.0       0.0  Medium\n",
       "117   57  0.0  197   42  131  188  133  0.0       0.0  Medium\n",
       "118   61  0.0  265   57  190  130  138  1.0       0.0  Medium\n",
       "\n",
       "[119 rows x 10 columns]"
      ]
     },
     "execution_count": 58,
     "metadata": {},
     "output_type": "execute_result"
    }
   ],
   "source": [
    "df['Sex'] = pd.get_dummies(df['Sex'], drop_first=True, dtype=float)\n",
    "df['Diabetes'] = pd.get_dummies(df['Diabetes'], drop_first=True, dtype=float)\n",
    "df['Sm'] = pd.get_dummies(df['Sm'], drop_first=True, dtype=float)\n",
    "df"
   ]
  },
  {
   "cell_type": "markdown",
   "id": "c502abf6",
   "metadata": {},
   "source": [
    "# <font color= #79b0e9> **2. Support Vector Classifier** </font> "
   ]
  },
  {
   "cell_type": "markdown",
   "id": "1c8cfa5f",
   "metadata": {},
   "source": [
    "El Support Vector Classifier es un algoritmo robusto, que permite clasificar datos en base a un hiperplano que genera el mismo modelo. Funciona mejor con datos que no estén tan dispersos, lo que se puede manejar mediante una estandarización. Además, no se ve tan afectado por la alta dimensionalidad o presencia de atípicos. Por lo tanto, tenemos los siguientes planes de acción:\n",
    "\n",
    "- Estandarización → SVC\n",
    "\n",
    "- Estandarización → Variance Feature Selection / RFE → SVC\n",
    "\n",
    "- Estandarización → Variance Feature Selection → Normalizer → LDA (como segunda técnica de feature selection y además reducción de dimensionalidad) → SVC"
   ]
  }
 ],
 "metadata": {
  "kernelspec": {
   "display_name": "iteso",
   "language": "python",
   "name": "python3"
  },
  "language_info": {
   "codemirror_mode": {
    "name": "ipython",
    "version": 3
   },
   "file_extension": ".py",
   "mimetype": "text/x-python",
   "name": "python",
   "nbconvert_exporter": "python",
   "pygments_lexer": "ipython3",
   "version": "3.10.14"
  }
 },
 "nbformat": 4,
 "nbformat_minor": 5
}
