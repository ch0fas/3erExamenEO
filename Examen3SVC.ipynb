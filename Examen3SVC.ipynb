{
 "cells": [
  {
   "cell_type": "markdown",
   "id": "d1162d8b",
   "metadata": {},
   "source": [
    "# <font color= #79b0e9> **Examen Parcial 3** </font> \n",
    "\n",
    "Sofía Maldonado García\n",
    "\n",
    "Viviana Toledo De la Fuente\n",
    "\n",
    "Iván Morales\n",
    "\n",
    "\"Y aquí iría le 4to integrante, si tuviéramos une\""
   ]
  },
  {
   "cell_type": "code",
   "execution_count": 1,
   "id": "b54aaf7e",
   "metadata": {},
   "outputs": [],
   "source": [
    "# Librerías Generales\n",
    "import numpy as np\n",
    "import pandas as pd\n",
    "\n",
    "# Gráficas\n",
    "import matplotlib.pyplot as plt\n",
    "import plotly.express as px\n",
    "import plotly.graph_objects as go\n",
    "import seaborn as sns\n",
    "\n",
    "# Modelado\n",
    "from sklearn.linear_model import LinearRegression, Ridge\n",
    "from sklearn.svm import SVR\n",
    "\n",
    "# Métricas\n",
    "from sklearn.metrics import r2_score, mean_squared_error\n",
    "\n",
    "# Tratamiento de Datos\n",
    "from sklearn.preprocessing import StandardScaler\n",
    "from sklearn.pipeline import Pipeline\n",
    "from sklearn.model_selection import GridSearchCV\n",
    "from scipy.stats import boxcox\n",
    "from sklearn.model_selection import train_test_split"
   ]
  },
  {
   "cell_type": "markdown",
   "id": "5b9cc84e",
   "metadata": {},
   "source": [
    "---"
   ]
  },
  {
   "cell_type": "markdown",
   "id": "00791040",
   "metadata": {},
   "source": [
    "# <font color= #79b0e9> **Análisis Exploratorio de Datos** </font> "
   ]
  },
  {
   "cell_type": "code",
   "execution_count": 10,
   "id": "4f3e7a79",
   "metadata": {},
   "outputs": [
    {
     "name": "stdout",
     "output_type": "stream",
     "text": [
      " Tamaño del dataset: (119, 10)\n"
     ]
    },
    {
     "data": {
      "application/vnd.microsoft.datawrangler.viewer.v0+json": {
       "columns": [
        {
         "name": "index",
         "rawType": "int64",
         "type": "integer"
        },
        {
         "name": "Age",
         "rawType": "int64",
         "type": "integer"
        },
        {
         "name": "Sex",
         "rawType": "object",
         "type": "string"
        },
        {
         "name": "TCh",
         "rawType": "int64",
         "type": "integer"
        },
        {
         "name": "HCh",
         "rawType": "int64",
         "type": "integer"
        },
        {
         "name": "LCh",
         "rawType": "int64",
         "type": "integer"
        },
        {
         "name": "Tr",
         "rawType": "int64",
         "type": "integer"
        },
        {
         "name": "BPS",
         "rawType": "int64",
         "type": "integer"
        },
        {
         "name": "Sm",
         "rawType": "object",
         "type": "string"
        },
        {
         "name": "Diabetes",
         "rawType": "object",
         "type": "string"
        },
        {
         "name": "Pred",
         "rawType": "object",
         "type": "string"
        }
       ],
       "conversionMethod": "pd.DataFrame",
       "ref": "2bc01e04-088b-4b6f-a417-100e8d869981",
       "rows": [
        [
         "0",
         "50",
         "Male",
         "272",
         "68",
         "188",
         "82",
         "124",
         "Non-smoker",
         "No",
         "High"
        ],
        [
         "1",
         "29",
         "Female",
         "275",
         "68",
         "183",
         "84",
         "129",
         "Non-smoker",
         "No",
         "High"
        ],
        [
         "2",
         "50",
         "Male",
         "268",
         "55",
         "189",
         "111",
         "119",
         "Non-smoker",
         "No",
         "High"
        ],
        [
         "3",
         "78",
         "Female",
         "194",
         "50",
         "120",
         "94",
         "113",
         "Non-smoker",
         "No",
         "High"
        ],
        [
         "4",
         "63",
         "Male",
         "229",
         "35",
         "182",
         "214",
         "160",
         "Smoker",
         "Yes",
         "High"
        ]
       ],
       "shape": {
        "columns": 10,
        "rows": 5
       }
      },
      "text/html": [
       "<div>\n",
       "<style scoped>\n",
       "    .dataframe tbody tr th:only-of-type {\n",
       "        vertical-align: middle;\n",
       "    }\n",
       "\n",
       "    .dataframe tbody tr th {\n",
       "        vertical-align: top;\n",
       "    }\n",
       "\n",
       "    .dataframe thead th {\n",
       "        text-align: right;\n",
       "    }\n",
       "</style>\n",
       "<table border=\"1\" class=\"dataframe\">\n",
       "  <thead>\n",
       "    <tr style=\"text-align: right;\">\n",
       "      <th></th>\n",
       "      <th>Age</th>\n",
       "      <th>Sex</th>\n",
       "      <th>TCh</th>\n",
       "      <th>HCh</th>\n",
       "      <th>LCh</th>\n",
       "      <th>Tr</th>\n",
       "      <th>BPS</th>\n",
       "      <th>Sm</th>\n",
       "      <th>Diabetes</th>\n",
       "      <th>Pred</th>\n",
       "    </tr>\n",
       "  </thead>\n",
       "  <tbody>\n",
       "    <tr>\n",
       "      <th>0</th>\n",
       "      <td>50</td>\n",
       "      <td>Male</td>\n",
       "      <td>272</td>\n",
       "      <td>68</td>\n",
       "      <td>188</td>\n",
       "      <td>82</td>\n",
       "      <td>124</td>\n",
       "      <td>Non-smoker</td>\n",
       "      <td>No</td>\n",
       "      <td>High</td>\n",
       "    </tr>\n",
       "    <tr>\n",
       "      <th>1</th>\n",
       "      <td>29</td>\n",
       "      <td>Female</td>\n",
       "      <td>275</td>\n",
       "      <td>68</td>\n",
       "      <td>183</td>\n",
       "      <td>84</td>\n",
       "      <td>129</td>\n",
       "      <td>Non-smoker</td>\n",
       "      <td>No</td>\n",
       "      <td>High</td>\n",
       "    </tr>\n",
       "    <tr>\n",
       "      <th>2</th>\n",
       "      <td>50</td>\n",
       "      <td>Male</td>\n",
       "      <td>268</td>\n",
       "      <td>55</td>\n",
       "      <td>189</td>\n",
       "      <td>111</td>\n",
       "      <td>119</td>\n",
       "      <td>Non-smoker</td>\n",
       "      <td>No</td>\n",
       "      <td>High</td>\n",
       "    </tr>\n",
       "    <tr>\n",
       "      <th>3</th>\n",
       "      <td>78</td>\n",
       "      <td>Female</td>\n",
       "      <td>194</td>\n",
       "      <td>50</td>\n",
       "      <td>120</td>\n",
       "      <td>94</td>\n",
       "      <td>113</td>\n",
       "      <td>Non-smoker</td>\n",
       "      <td>No</td>\n",
       "      <td>High</td>\n",
       "    </tr>\n",
       "    <tr>\n",
       "      <th>4</th>\n",
       "      <td>63</td>\n",
       "      <td>Male</td>\n",
       "      <td>229</td>\n",
       "      <td>35</td>\n",
       "      <td>182</td>\n",
       "      <td>214</td>\n",
       "      <td>160</td>\n",
       "      <td>Smoker</td>\n",
       "      <td>Yes</td>\n",
       "      <td>High</td>\n",
       "    </tr>\n",
       "  </tbody>\n",
       "</table>\n",
       "</div>"
      ],
      "text/plain": [
       "   Age     Sex  TCh  HCh  LCh   Tr  BPS          Sm Diabetes  Pred\n",
       "0   50    Male  272   68  188   82  124  Non-smoker       No  High\n",
       "1   29  Female  275   68  183   84  129  Non-smoker       No  High\n",
       "2   50    Male  268   55  189  111  119  Non-smoker       No  High\n",
       "3   78  Female  194   50  120   94  113  Non-smoker       No  High\n",
       "4   63    Male  229   35  182  214  160      Smoker      Yes  High"
      ]
     },
     "execution_count": 10,
     "metadata": {},
     "output_type": "execute_result"
    }
   ],
   "source": [
    "df = pd.read_csv('data/train_data.csv')\n",
    "print(f' Tamaño del dataset: {df.shape}')\n",
    "df.head()"
   ]
  },
  {
   "cell_type": "markdown",
   "id": "64d9100b",
   "metadata": {},
   "source": [
    "Contamos con un dataset de 119 observaciones, 9 features y 1 target."
   ]
  },
  {
   "cell_type": "code",
   "execution_count": 11,
   "id": "79242cbc",
   "metadata": {},
   "outputs": [
    {
     "name": "stdout",
     "output_type": "stream",
     "text": [
      "<class 'pandas.core.frame.DataFrame'>\n",
      "RangeIndex: 119 entries, 0 to 118\n",
      "Data columns (total 10 columns):\n",
      " #   Column    Non-Null Count  Dtype \n",
      "---  ------    --------------  ----- \n",
      " 0   Age       119 non-null    int64 \n",
      " 1   Sex       119 non-null    object\n",
      " 2   TCh       119 non-null    int64 \n",
      " 3   HCh       119 non-null    int64 \n",
      " 4   LCh       119 non-null    int64 \n",
      " 5   Tr        119 non-null    int64 \n",
      " 6   BPS       119 non-null    int64 \n",
      " 7   Sm        119 non-null    object\n",
      " 8   Diabetes  119 non-null    object\n",
      " 9   Pred      119 non-null    object\n",
      "dtypes: int64(6), object(4)\n",
      "memory usage: 9.4+ KB\n"
     ]
    }
   ],
   "source": [
    "df.info()"
   ]
  },
  {
   "cell_type": "markdown",
   "id": "50ab4660",
   "metadata": {},
   "source": [
    "Tenemos 6 features numéricas y 3 features categóricas (sex, smoking y diabetes). Tendremos que codificar estas variables para tomarlas en cuenta en nuestro modelo."
   ]
  },
  {
   "cell_type": "markdown",
   "id": "c502abf6",
   "metadata": {},
   "source": [
    "# <font color= #79b0e9> **2. Support Vector Classifier** </font> "
   ]
  }
 ],
 "metadata": {
  "kernelspec": {
   "display_name": "iteso",
   "language": "python",
   "name": "python3"
  },
  "language_info": {
   "codemirror_mode": {
    "name": "ipython",
    "version": 3
   },
   "file_extension": ".py",
   "mimetype": "text/x-python",
   "name": "python",
   "nbconvert_exporter": "python",
   "pygments_lexer": "ipython3",
   "version": "3.10.14"
  }
 },
 "nbformat": 4,
 "nbformat_minor": 5
}
