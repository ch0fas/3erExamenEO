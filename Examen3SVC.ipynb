{
 "cells": [
  {
   "cell_type": "markdown",
   "id": "d1162d8b",
   "metadata": {},
   "source": [
    "# <font color= #79b0e9> **Examen Parcial 3** </font> \n",
    "\n",
    "Sofía Maldonado García\n",
    "\n",
    "Viviana Toledo De la Fuente\n",
    "\n",
    "Iván Morales"
   ]
  },
  {
   "cell_type": "code",
   "execution_count": null,
   "id": "b54aaf7e",
   "metadata": {},
   "outputs": [],
   "source": [
    "# Librerías Generales\n",
    "import numpy as np\n",
    "import pandas as pd\n",
    "\n",
    "# Gráficas\n",
    "import matplotlib.pyplot as plt\n",
    "from matplotlib.patches import Patch\n",
    "import seaborn as sns\n",
    "import plotly.express as px\n",
    "import plotly.graph_objects as go\n",
    "\n",
    "# Modelado\n",
    "from sklearn.svm import SVC\n",
    "\n",
    "# Métricas\n",
    "from sklearn.metrics import accuracy_score, precision_score, recall_score, f1_score, confusion_matrix, ConfusionMatrixDisplay, classification_report\n",
    "\n",
    "# Tratamiento de Datos\n",
    "from sklearn.model_selection import train_test_split, GridSearchCV\n",
    "from sklearn.preprocessing import StandardScaler, Normalizer\n",
    "from sklearn.pipeline import Pipeline\n",
    "from sklearn.feature_selection import VarianceThreshold, RFE\n",
    "from sklearn.discriminant_analysis import LinearDiscriminantAnalysis as LDA"
   ]
  },
  {
   "cell_type": "markdown",
   "id": "5b9cc84e",
   "metadata": {},
   "source": [
    "---"
   ]
  },
  {
   "cell_type": "markdown",
   "id": "00791040",
   "metadata": {},
   "source": [
    "# <font color= #79b0e9> **Análisis Exploratorio de Datos** </font> "
   ]
  },
  {
   "cell_type": "code",
   "execution_count": 3,
   "id": "4f3e7a79",
   "metadata": {},
   "outputs": [
    {
     "name": "stdout",
     "output_type": "stream",
     "text": [
      " Tamaño del dataset: (119, 10)\n"
     ]
    },
    {
     "data": {
      "application/vnd.microsoft.datawrangler.viewer.v0+json": {
       "columns": [
        {
         "name": "index",
         "rawType": "int64",
         "type": "integer"
        },
        {
         "name": "Age",
         "rawType": "int64",
         "type": "integer"
        },
        {
         "name": "Sex",
         "rawType": "object",
         "type": "string"
        },
        {
         "name": "TCh",
         "rawType": "int64",
         "type": "integer"
        },
        {
         "name": "HCh",
         "rawType": "int64",
         "type": "integer"
        },
        {
         "name": "LCh",
         "rawType": "int64",
         "type": "integer"
        },
        {
         "name": "Tr",
         "rawType": "int64",
         "type": "integer"
        },
        {
         "name": "BPS",
         "rawType": "int64",
         "type": "integer"
        },
        {
         "name": "Sm",
         "rawType": "object",
         "type": "string"
        },
        {
         "name": "Diabetes",
         "rawType": "object",
         "type": "string"
        },
        {
         "name": "Pred",
         "rawType": "object",
         "type": "string"
        }
       ],
       "conversionMethod": "pd.DataFrame",
       "ref": "6f463b1e-b0d9-4c3f-80e0-e331bec25d40",
       "rows": [
        [
         "0",
         "50",
         "Male",
         "272",
         "68",
         "188",
         "82",
         "124",
         "Non-smoker",
         "No",
         "High"
        ],
        [
         "1",
         "29",
         "Female",
         "275",
         "68",
         "183",
         "84",
         "129",
         "Non-smoker",
         "No",
         "High"
        ],
        [
         "2",
         "50",
         "Male",
         "268",
         "55",
         "189",
         "111",
         "119",
         "Non-smoker",
         "No",
         "High"
        ],
        [
         "3",
         "78",
         "Female",
         "194",
         "50",
         "120",
         "94",
         "113",
         "Non-smoker",
         "No",
         "High"
        ],
        [
         "4",
         "63",
         "Male",
         "229",
         "35",
         "182",
         "214",
         "160",
         "Smoker",
         "Yes",
         "High"
        ]
       ],
       "shape": {
        "columns": 10,
        "rows": 5
       }
      },
      "text/html": [
       "<div>\n",
       "<style scoped>\n",
       "    .dataframe tbody tr th:only-of-type {\n",
       "        vertical-align: middle;\n",
       "    }\n",
       "\n",
       "    .dataframe tbody tr th {\n",
       "        vertical-align: top;\n",
       "    }\n",
       "\n",
       "    .dataframe thead th {\n",
       "        text-align: right;\n",
       "    }\n",
       "</style>\n",
       "<table border=\"1\" class=\"dataframe\">\n",
       "  <thead>\n",
       "    <tr style=\"text-align: right;\">\n",
       "      <th></th>\n",
       "      <th>Age</th>\n",
       "      <th>Sex</th>\n",
       "      <th>TCh</th>\n",
       "      <th>HCh</th>\n",
       "      <th>LCh</th>\n",
       "      <th>Tr</th>\n",
       "      <th>BPS</th>\n",
       "      <th>Sm</th>\n",
       "      <th>Diabetes</th>\n",
       "      <th>Pred</th>\n",
       "    </tr>\n",
       "  </thead>\n",
       "  <tbody>\n",
       "    <tr>\n",
       "      <th>0</th>\n",
       "      <td>50</td>\n",
       "      <td>Male</td>\n",
       "      <td>272</td>\n",
       "      <td>68</td>\n",
       "      <td>188</td>\n",
       "      <td>82</td>\n",
       "      <td>124</td>\n",
       "      <td>Non-smoker</td>\n",
       "      <td>No</td>\n",
       "      <td>High</td>\n",
       "    </tr>\n",
       "    <tr>\n",
       "      <th>1</th>\n",
       "      <td>29</td>\n",
       "      <td>Female</td>\n",
       "      <td>275</td>\n",
       "      <td>68</td>\n",
       "      <td>183</td>\n",
       "      <td>84</td>\n",
       "      <td>129</td>\n",
       "      <td>Non-smoker</td>\n",
       "      <td>No</td>\n",
       "      <td>High</td>\n",
       "    </tr>\n",
       "    <tr>\n",
       "      <th>2</th>\n",
       "      <td>50</td>\n",
       "      <td>Male</td>\n",
       "      <td>268</td>\n",
       "      <td>55</td>\n",
       "      <td>189</td>\n",
       "      <td>111</td>\n",
       "      <td>119</td>\n",
       "      <td>Non-smoker</td>\n",
       "      <td>No</td>\n",
       "      <td>High</td>\n",
       "    </tr>\n",
       "    <tr>\n",
       "      <th>3</th>\n",
       "      <td>78</td>\n",
       "      <td>Female</td>\n",
       "      <td>194</td>\n",
       "      <td>50</td>\n",
       "      <td>120</td>\n",
       "      <td>94</td>\n",
       "      <td>113</td>\n",
       "      <td>Non-smoker</td>\n",
       "      <td>No</td>\n",
       "      <td>High</td>\n",
       "    </tr>\n",
       "    <tr>\n",
       "      <th>4</th>\n",
       "      <td>63</td>\n",
       "      <td>Male</td>\n",
       "      <td>229</td>\n",
       "      <td>35</td>\n",
       "      <td>182</td>\n",
       "      <td>214</td>\n",
       "      <td>160</td>\n",
       "      <td>Smoker</td>\n",
       "      <td>Yes</td>\n",
       "      <td>High</td>\n",
       "    </tr>\n",
       "  </tbody>\n",
       "</table>\n",
       "</div>"
      ],
      "text/plain": [
       "   Age     Sex  TCh  HCh  LCh   Tr  BPS          Sm Diabetes  Pred\n",
       "0   50    Male  272   68  188   82  124  Non-smoker       No  High\n",
       "1   29  Female  275   68  183   84  129  Non-smoker       No  High\n",
       "2   50    Male  268   55  189  111  119  Non-smoker       No  High\n",
       "3   78  Female  194   50  120   94  113  Non-smoker       No  High\n",
       "4   63    Male  229   35  182  214  160      Smoker      Yes  High"
      ]
     },
     "execution_count": 3,
     "metadata": {},
     "output_type": "execute_result"
    }
   ],
   "source": [
    "df = pd.read_csv('data/train_data.csv')\n",
    "print(f' Tamaño del dataset: {df.shape}')\n",
    "df.head()"
   ]
  },
  {
   "cell_type": "markdown",
   "id": "64d9100b",
   "metadata": {},
   "source": [
    "Contamos con un dataset de 119 observaciones, 9 features y 1 target. \n",
    "\n",
    "El dataset contiene información relacionada con pacientes y la predisposición que tienen de sufrir un padecimiento en específico, basado en las características biométricas y comorbilidades de cada une."
   ]
  },
  {
   "cell_type": "code",
   "execution_count": 4,
   "id": "79242cbc",
   "metadata": {},
   "outputs": [
    {
     "name": "stdout",
     "output_type": "stream",
     "text": [
      "<class 'pandas.core.frame.DataFrame'>\n",
      "RangeIndex: 119 entries, 0 to 118\n",
      "Data columns (total 10 columns):\n",
      " #   Column    Non-Null Count  Dtype \n",
      "---  ------    --------------  ----- \n",
      " 0   Age       119 non-null    int64 \n",
      " 1   Sex       119 non-null    object\n",
      " 2   TCh       119 non-null    int64 \n",
      " 3   HCh       119 non-null    int64 \n",
      " 4   LCh       119 non-null    int64 \n",
      " 5   Tr        119 non-null    int64 \n",
      " 6   BPS       119 non-null    int64 \n",
      " 7   Sm        119 non-null    object\n",
      " 8   Diabetes  119 non-null    object\n",
      " 9   Pred      119 non-null    object\n",
      "dtypes: int64(6), object(4)\n",
      "memory usage: 9.4+ KB\n"
     ]
    }
   ],
   "source": [
    "df.info()"
   ]
  },
  {
   "cell_type": "markdown",
   "id": "50ab4660",
   "metadata": {},
   "source": [
    "Tenemos 6 features numéricas y 3 features categóricas (sex, smoking y diabetes). Tendremos que codificar estas variables para tomarlas en cuenta en nuestro modelo.\n",
    "\n",
    "Además, no contamos con valores nulos."
   ]
  },
  {
   "cell_type": "markdown",
   "id": "e9c72f87",
   "metadata": {},
   "source": [
    "## <font color= #4783bf> Variables Cualitativas </font>"
   ]
  },
  {
   "cell_type": "code",
   "execution_count": 5,
   "id": "51dd1e74",
   "metadata": {},
   "outputs": [
    {
     "data": {
      "image/png": "[encoded data removed]",
      "text/plain": [
       "<Figure size 640x480 with 1 Axes>"
      ]
     },
     "metadata": {},
     "output_type": "display_data"
    }
   ],
   "source": [
    "sns.countplot(x='Pred', data=df)\n",
    "plt.title('Predisposición a la Enfermedad')\n",
    "plt.show()"
   ]
  },
  {
   "cell_type": "markdown",
   "id": "33d4eb8a",
   "metadata": {},
   "source": [
    "Nuestras clases no presentan un desbalanceo severo, lo que es deseable para predecir los tres niveles."
   ]
  },
  {
   "cell_type": "code",
   "execution_count": 6,
   "id": "a0776378",
   "metadata": {},
   "outputs": [
    {
     "name": "stdout",
     "output_type": "stream",
     "text": [
      "{'Male': 60, 'Female': 59}\n"
     ]
    },
    {
     "data": {
      "image/png": "[encoded data removed]",
      "text/plain": [
       "<Figure size 640x480 with 1 Axes>"
      ]
     },
     "metadata": {},
     "output_type": "display_data"
    }
   ],
   "source": [
    "# Función para graficar variables cualitativas\n",
    "def grafica_cualitativa(var, var_name):\n",
    "    pd.crosstab(var, df.Pred).plot(kind='bar')\n",
    "    # Estética\n",
    "    plt.title(f'Predisposición por {var_name}')\n",
    "    plt.xlabel(f'{var_name}')\n",
    "    plt.ylabel('Personas')\n",
    "    print(var.value_counts().to_dict())\n",
    "\n",
    "grafica_cualitativa(df.Sex, 'Sexo')"
   ]
  },
  {
   "cell_type": "markdown",
   "id": "e8e7184e",
   "metadata": {},
   "source": [
    "Las categorías de Hombre y Mujer también están balanceadas. Además, observamos que en base a la muestra, las mujeres en su mayoría tienen una predisposición media a la enfermedad, mientras que los hombres están un poco más polarizados, pues tienen la misma probabilidad de tener una predisposición baja o alta."
   ]
  },
  {
   "cell_type": "code",
   "execution_count": 7,
   "id": "b821a12f",
   "metadata": {},
   "outputs": [
    {
     "name": "stdout",
     "output_type": "stream",
     "text": [
      "{'No': 112, 'Yes': 7}\n"
     ]
    },
    {
     "data": {
      "image/png": "[encoded data removed]",
      "text/plain": [
       "<Figure size 640x480 with 1 Axes>"
      ]
     },
     "metadata": {},
     "output_type": "display_data"
    }
   ],
   "source": [
    "grafica_cualitativa(df.Diabetes, 'Diabetes')"
   ]
  },
  {
   "cell_type": "markdown",
   "id": "f7b53960",
   "metadata": {},
   "source": [
    "No tener diabetes no parece tener mucho efecto en la predisposición a desarrollar el padecimiento. Sin embargo, es muy probable que personas con diabetes padezcan la enfermedad."
   ]
  },
  {
   "cell_type": "code",
   "execution_count": 8,
   "id": "4250484e",
   "metadata": {},
   "outputs": [
    {
     "name": "stdout",
     "output_type": "stream",
     "text": [
      "{'Non-smoker': 106, 'Smoker': 13}\n"
     ]
    },
    {
     "data": {
      "image/png": "[encoded data removed]",
      "text/plain": [
       "<Figure size 640x480 with 1 Axes>"
      ]
     },
     "metadata": {},
     "output_type": "display_data"
    }
   ],
   "source": [
    "grafica_cualitativa(df.Sm, 'Fumar')"
   ]
  },
  {
   "cell_type": "markdown",
   "id": "2c6487de",
   "metadata": {},
   "source": [
    "De nuevo, las personas que no fuman tienen prediposiciones mixtas de padecer la enfermedad. Pero es MUY probable que les fumadores desarrollen el padecimiento."
   ]
  },
  {
   "cell_type": "markdown",
   "id": "1cd04010",
   "metadata": {},
   "source": [
    "## <font color= #4783bf> Variables Cuantitativas </font>"
   ]
  },
  {
   "cell_type": "code",
   "execution_count": 9,
   "id": "4e49df1f",
   "metadata": {},
   "outputs": [
    {
     "data": {
      "application/vnd.microsoft.datawrangler.viewer.v0+json": {
       "columns": [
        {
         "name": "index",
         "rawType": "object",
         "type": "string"
        },
        {
         "name": "Age",
         "rawType": "float64",
         "type": "float"
        },
        {
         "name": "TCh",
         "rawType": "float64",
         "type": "float"
        },
        {
         "name": "HCh",
         "rawType": "float64",
         "type": "float"
        },
        {
         "name": "LCh",
         "rawType": "float64",
         "type": "float"
        },
        {
         "name": "Tr",
         "rawType": "float64",
         "type": "float"
        },
        {
         "name": "BPS",
         "rawType": "float64",
         "type": "float"
        }
       ],
       "conversionMethod": "pd.DataFrame",
       "ref": "792605b1-5cb2-4097-b249-52e6b5eb5aad",
       "rows": [
        [
         "count",
         "119.0",
         "119.0",
         "119.0",
         "119.0",
         "119.0",
         "119.0"
        ],
        [
         "mean",
         "53.36974789915966",
         "224.54621848739495",
         "57.739495798319325",
         "147.26050420168067",
         "132.12605042016807",
         "129.8235294117647"
        ],
        [
         "std",
         "16.0960388569691",
         "37.48146387061293",
         "11.393919122232054",
         "39.22846212154629",
         "60.79955321839758",
         "14.55011623159558"
        ],
        [
         "min",
         "25.0",
         "160.0",
         "31.0",
         "67.0",
         "80.0",
         "111.0"
        ],
        [
         "25%",
         "41.0",
         "188.0",
         "50.5",
         "115.0",
         "83.5",
         "119.0"
        ],
        [
         "50%",
         "55.0",
         "227.0",
         "62.0",
         "150.0",
         "111.0",
         "127.0"
        ],
        [
         "75%",
         "68.5",
         "259.5",
         "68.0",
         "181.0",
         "159.0",
         "138.0"
        ],
        [
         "max",
         "79.0",
         "277.0",
         "69.0",
         "220.0",
         "298.0",
         "168.0"
        ]
       ],
       "shape": {
        "columns": 6,
        "rows": 8
       }
      },
      "text/html": [
       "<div>\n",
       "<style scoped>\n",
       "    .dataframe tbody tr th:only-of-type {\n",
       "        vertical-align: middle;\n",
       "    }\n",
       "\n",
       "    .dataframe tbody tr th {\n",
       "        vertical-align: top;\n",
       "    }\n",
       "\n",
       "    .dataframe thead th {\n",
       "        text-align: right;\n",
       "    }\n",
       "</style>\n",
       "<table border=\"1\" class=\"dataframe\">\n",
       "  <thead>\n",
       "    <tr style=\"text-align: right;\">\n",
       "      <th></th>\n",
       "      <th>Age</th>\n",
       "      <th>TCh</th>\n",
       "      <th>HCh</th>\n",
       "      <th>LCh</th>\n",
       "      <th>Tr</th>\n",
       "      <th>BPS</th>\n",
       "    </tr>\n",
       "  </thead>\n",
       "  <tbody>\n",
       "    <tr>\n",
       "      <th>count</th>\n",
       "      <td>119.000000</td>\n",
       "      <td>119.000000</td>\n",
       "      <td>119.000000</td>\n",
       "      <td>119.000000</td>\n",
       "      <td>119.000000</td>\n",
       "      <td>119.000000</td>\n",
       "    </tr>\n",
       "    <tr>\n",
       "      <th>mean</th>\n",
       "      <td>53.369748</td>\n",
       "      <td>224.546218</td>\n",
       "      <td>57.739496</td>\n",
       "      <td>147.260504</td>\n",
       "      <td>132.126050</td>\n",
       "      <td>129.823529</td>\n",
       "    </tr>\n",
       "    <tr>\n",
       "      <th>std</th>\n",
       "      <td>16.096039</td>\n",
       "      <td>37.481464</td>\n",
       "      <td>11.393919</td>\n",
       "      <td>39.228462</td>\n",
       "      <td>60.799553</td>\n",
       "      <td>14.550116</td>\n",
       "    </tr>\n",
       "    <tr>\n",
       "      <th>min</th>\n",
       "      <td>25.000000</td>\n",
       "      <td>160.000000</td>\n",
       "      <td>31.000000</td>\n",
       "      <td>67.000000</td>\n",
       "      <td>80.000000</td>\n",
       "      <td>111.000000</td>\n",
       "    </tr>\n",
       "    <tr>\n",
       "      <th>25%</th>\n",
       "      <td>41.000000</td>\n",
       "      <td>188.000000</td>\n",
       "      <td>50.500000</td>\n",
       "      <td>115.000000</td>\n",
       "      <td>83.500000</td>\n",
       "      <td>119.000000</td>\n",
       "    </tr>\n",
       "    <tr>\n",
       "      <th>50%</th>\n",
       "      <td>55.000000</td>\n",
       "      <td>227.000000</td>\n",
       "      <td>62.000000</td>\n",
       "      <td>150.000000</td>\n",
       "      <td>111.000000</td>\n",
       "      <td>127.000000</td>\n",
       "    </tr>\n",
       "    <tr>\n",
       "      <th>75%</th>\n",
       "      <td>68.500000</td>\n",
       "      <td>259.500000</td>\n",
       "      <td>68.000000</td>\n",
       "      <td>181.000000</td>\n",
       "      <td>159.000000</td>\n",
       "      <td>138.000000</td>\n",
       "    </tr>\n",
       "    <tr>\n",
       "      <th>max</th>\n",
       "      <td>79.000000</td>\n",
       "      <td>277.000000</td>\n",
       "      <td>69.000000</td>\n",
       "      <td>220.000000</td>\n",
       "      <td>298.000000</td>\n",
       "      <td>168.000000</td>\n",
       "    </tr>\n",
       "  </tbody>\n",
       "</table>\n",
       "</div>"
      ],
      "text/plain": [
       "              Age         TCh         HCh         LCh          Tr         BPS\n",
       "count  119.000000  119.000000  119.000000  119.000000  119.000000  119.000000\n",
       "mean    53.369748  224.546218   57.739496  147.260504  132.126050  129.823529\n",
       "std     16.096039   37.481464   11.393919   39.228462   60.799553   14.550116\n",
       "min     25.000000  160.000000   31.000000   67.000000   80.000000  111.000000\n",
       "25%     41.000000  188.000000   50.500000  115.000000   83.500000  119.000000\n",
       "50%     55.000000  227.000000   62.000000  150.000000  111.000000  127.000000\n",
       "75%     68.500000  259.500000   68.000000  181.000000  159.000000  138.000000\n",
       "max     79.000000  277.000000   69.000000  220.000000  298.000000  168.000000"
      ]
     },
     "execution_count": 9,
     "metadata": {},
     "output_type": "execute_result"
    }
   ],
   "source": [
    "df.describe()"
   ]
  },
  {
   "cell_type": "markdown",
   "id": "ab683517",
   "metadata": {},
   "source": [
    "Las variables numéricas tienen escalas algo diferentes, si bien no tan excesivas. "
   ]
  },
  {
   "cell_type": "code",
   "execution_count": 10,
   "id": "a34c13a4",
   "metadata": {},
   "outputs": [
    {
     "data": {
      "image/png": "[encoded data removed]",
      "text/plain": [
       "<Figure size 1500x800 with 6 Axes>"
      ]
     },
     "metadata": {},
     "output_type": "display_data"
    }
   ],
   "source": [
    "# Filtrar variables numéricas\n",
    "numeric_vars = df.select_dtypes(include='number').columns.tolist()\n",
    "\n",
    "# Crear grid 2x3\n",
    "fig, axes = plt.subplots(2, 3, figsize=(15, 8))\n",
    "axes = axes.flatten()\n",
    "\n",
    "# Paleta de colores\n",
    "palette = {'Low': '#86bf55', 'Medium': '#ffc300', 'High': '#c53636'}\n",
    "\n",
    "# Gráficos\n",
    "for i, var in enumerate(numeric_vars):\n",
    "    ax = axes[i]\n",
    "    sns.kdeplot(data=df, x=var, hue='Pred', fill=True, common_norm=False, alpha=0.7, ax=ax, palette=palette)\n",
    "    ax.set_title(var)\n",
    "    ax.tick_params(axis='x', rotation=90)\n",
    "    ax.get_legend().remove()\n",
    "\n",
    "# Leyenda\n",
    "legend_patches = [Patch(color=color, label=label) for label, color in palette.items()]\n",
    "fig.legend(handles=legend_patches, title='Pred', loc='center right', bbox_to_anchor=(1.12, 0.5))\n",
    "\n",
    "plt.tight_layout()\n",
    "plt.show()"
   ]
  },
  {
   "cell_type": "markdown",
   "id": "535af91a",
   "metadata": {},
   "source": [
    "Haciendo gráficas KDE para todas las variables numéricas con respecto a nuestras clases, podemos observar que la Edad, TCh y LCh no son variables con mucho poder predictivo. Sin embargo, las demás variables sí nos aportan discriminantes significativos para las clases.\n",
    "\n",
    "- TCh: Si cuentan con altos valores de esta variable, es probable que las personas tengan una baja predisposición a la enfermedad.\n",
    "\n",
    "- Tr: Los valores bajos de esta variable indican una probabilidad media-baja de padecer la enfermedad.\n",
    "\n",
    "- BPS: A partir de los 100-130 existe una probabilidad baja o media de contraer la enfermedad. Conforme aumenta este nivel, baja la probabilidad de no ser afectade."
   ]
  },
  {
   "cell_type": "code",
   "execution_count": 11,
   "id": "5b54f45d",
   "metadata": {},
   "outputs": [
    {
     "data": {
      "text/plain": [
       "<Axes: >"
      ]
     },
     "execution_count": 11,
     "metadata": {},
     "output_type": "execute_result"
    },
    {
     "data": {
      "image/png": "[encoded data removed]",
      "text/plain": [
       "<Figure size 640x480 with 1 Axes>"
      ]
     },
     "metadata": {},
     "output_type": "display_data"
    }
   ],
   "source": [
    "df.select_dtypes(include='number').boxplot()"
   ]
  },
  {
   "cell_type": "markdown",
   "id": "8730ab34",
   "metadata": {},
   "source": [
    "La variable Tr presenta bastantes outliers, los cuales pueden ser algo problemáticos."
   ]
  },
  {
   "cell_type": "code",
   "execution_count": 12,
   "id": "871f7a65",
   "metadata": {},
   "outputs": [
    {
     "data": {
      "application/vnd.microsoft.datawrangler.viewer.v0+json": {
       "columns": [
        {
         "name": "index",
         "rawType": "object",
         "type": "string"
        },
        {
         "name": "value",
         "rawType": "float64",
         "type": "float"
        },
        {
         "name": "skewness",
         "rawType": "object",
         "type": "string"
        }
       ],
       "conversionMethod": "pd.DataFrame",
       "ref": "8fd07915-a728-4b47-8fb9-66f7ef23843d",
       "rows": [
        [
         "Age",
         "-0.12",
         "Symmetric distribution"
        ],
        [
         "TCh",
         "-0.19",
         "Symmetric distribution"
        ],
        [
         "HCh",
         "-0.82",
         "Moderately skewed"
        ],
        [
         "LCh",
         "-0.21",
         "Symmetric distribution"
        ],
        [
         "Tr",
         "1.23",
         "Highly Skewed"
        ],
        [
         "BPS",
         "0.87",
         "Moderately skewed"
        ]
       ],
       "shape": {
        "columns": 2,
        "rows": 6
       }
      },
      "text/html": [
       "<div>\n",
       "<style scoped>\n",
       "    .dataframe tbody tr th:only-of-type {\n",
       "        vertical-align: middle;\n",
       "    }\n",
       "\n",
       "    .dataframe tbody tr th {\n",
       "        vertical-align: top;\n",
       "    }\n",
       "\n",
       "    .dataframe thead th {\n",
       "        text-align: right;\n",
       "    }\n",
       "</style>\n",
       "<table border=\"1\" class=\"dataframe\">\n",
       "  <thead>\n",
       "    <tr style=\"text-align: right;\">\n",
       "      <th></th>\n",
       "      <th>value</th>\n",
       "      <th>skewness</th>\n",
       "    </tr>\n",
       "  </thead>\n",
       "  <tbody>\n",
       "    <tr>\n",
       "      <th>Age</th>\n",
       "      <td>-0.12</td>\n",
       "      <td>Symmetric distribution</td>\n",
       "    </tr>\n",
       "    <tr>\n",
       "      <th>TCh</th>\n",
       "      <td>-0.19</td>\n",
       "      <td>Symmetric distribution</td>\n",
       "    </tr>\n",
       "    <tr>\n",
       "      <th>HCh</th>\n",
       "      <td>-0.82</td>\n",
       "      <td>Moderately skewed</td>\n",
       "    </tr>\n",
       "    <tr>\n",
       "      <th>LCh</th>\n",
       "      <td>-0.21</td>\n",
       "      <td>Symmetric distribution</td>\n",
       "    </tr>\n",
       "    <tr>\n",
       "      <th>Tr</th>\n",
       "      <td>1.23</td>\n",
       "      <td>Highly Skewed</td>\n",
       "    </tr>\n",
       "    <tr>\n",
       "      <th>BPS</th>\n",
       "      <td>0.87</td>\n",
       "      <td>Moderately skewed</td>\n",
       "    </tr>\n",
       "  </tbody>\n",
       "</table>\n",
       "</div>"
      ],
      "text/plain": [
       "     value                skewness\n",
       "Age  -0.12  Symmetric distribution\n",
       "TCh  -0.19  Symmetric distribution\n",
       "HCh  -0.82       Moderately skewed\n",
       "LCh  -0.21  Symmetric distribution\n",
       "Tr    1.23           Highly Skewed\n",
       "BPS   0.87       Moderately skewed"
      ]
     },
     "execution_count": 12,
     "metadata": {},
     "output_type": "execute_result"
    }
   ],
   "source": [
    "numeric = df.select_dtypes(include='number')\n",
    "\n",
    "# Calculo de la asimetria con pandas\n",
    "skewness = round(numeric.skew(),2)\n",
    "skewness = skewness.to_frame()\n",
    "skewness = skewness.rename(columns={0: \"value\"}) \n",
    "\n",
    "def f(x):\n",
    "    if x['value'] < -1 or x['value'] > 1: return 'Highly Skewed'\n",
    "    elif (x['value']<=0 and x['value']>=-0.5) or (x['value'] >=0 and x['value']<=0.5):\n",
    "        return 'Symmetric distribution'\n",
    "    else: return 'Moderately skewed'\n",
    "    \n",
    "skewness['skewness'] = skewness.apply(f, axis=1)\n",
    "\n",
    "skewness"
   ]
  },
  {
   "cell_type": "markdown",
   "id": "06b40e35",
   "metadata": {},
   "source": [
    "Debido a la presencia de outliers en Tr, aquella distribución está muy sesgada a la derecha. BPS y HCh están moderadamente sesgadas, a la derecha e izquierda, respectivamente. Lo anterior sugiere que, según el modelo, una transformación de datos no vendría mal. "
   ]
  },
  {
   "cell_type": "markdown",
   "id": "f226727b",
   "metadata": {},
   "source": [
    "## <font color= #4783bf> Codificación de Variables </font>"
   ]
  },
  {
   "cell_type": "markdown",
   "id": "093e4e11",
   "metadata": {},
   "source": [
    "Nuestras variables categóricas (Sexo, Diabetes y Fumadores) son variables binarias. Por lo tanto, basta con asignar 0's y 1's para codificar. "
   ]
  },
  {
   "cell_type": "code",
   "execution_count": 13,
   "id": "f5b3965f",
   "metadata": {},
   "outputs": [
    {
     "data": {
      "application/vnd.microsoft.datawrangler.viewer.v0+json": {
       "columns": [
        {
         "name": "index",
         "rawType": "int64",
         "type": "integer"
        },
        {
         "name": "Age",
         "rawType": "int64",
         "type": "integer"
        },
        {
         "name": "Sex",
         "rawType": "float64",
         "type": "float"
        },
        {
         "name": "TCh",
         "rawType": "int64",
         "type": "integer"
        },
        {
         "name": "HCh",
         "rawType": "int64",
         "type": "integer"
        },
        {
         "name": "LCh",
         "rawType": "int64",
         "type": "integer"
        },
        {
         "name": "Tr",
         "rawType": "int64",
         "type": "integer"
        },
        {
         "name": "BPS",
         "rawType": "int64",
         "type": "integer"
        },
        {
         "name": "Sm",
         "rawType": "float64",
         "type": "float"
        },
        {
         "name": "Diabetes",
         "rawType": "float64",
         "type": "float"
        },
        {
         "name": "Pred",
         "rawType": "object",
         "type": "string"
        }
       ],
       "conversionMethod": "pd.DataFrame",
       "ref": "18991690-4433-4dc2-8bc8-24d5b5e8fa2f",
       "rows": [
        [
         "0",
         "50",
         "1.0",
         "272",
         "68",
         "188",
         "82",
         "124",
         "0.0",
         "0.0",
         "High"
        ],
        [
         "1",
         "29",
         "0.0",
         "275",
         "68",
         "183",
         "84",
         "129",
         "0.0",
         "0.0",
         "High"
        ],
        [
         "2",
         "50",
         "1.0",
         "268",
         "55",
         "189",
         "111",
         "119",
         "0.0",
         "0.0",
         "High"
        ],
        [
         "3",
         "78",
         "0.0",
         "194",
         "50",
         "120",
         "94",
         "113",
         "0.0",
         "0.0",
         "High"
        ],
        [
         "4",
         "63",
         "1.0",
         "229",
         "35",
         "182",
         "214",
         "160",
         "1.0",
         "1.0",
         "High"
        ]
       ],
       "shape": {
        "columns": 10,
        "rows": 5
       }
      },
      "text/html": [
       "<div>\n",
       "<style scoped>\n",
       "    .dataframe tbody tr th:only-of-type {\n",
       "        vertical-align: middle;\n",
       "    }\n",
       "\n",
       "    .dataframe tbody tr th {\n",
       "        vertical-align: top;\n",
       "    }\n",
       "\n",
       "    .dataframe thead th {\n",
       "        text-align: right;\n",
       "    }\n",
       "</style>\n",
       "<table border=\"1\" class=\"dataframe\">\n",
       "  <thead>\n",
       "    <tr style=\"text-align: right;\">\n",
       "      <th></th>\n",
       "      <th>Age</th>\n",
       "      <th>Sex</th>\n",
       "      <th>TCh</th>\n",
       "      <th>HCh</th>\n",
       "      <th>LCh</th>\n",
       "      <th>Tr</th>\n",
       "      <th>BPS</th>\n",
       "      <th>Sm</th>\n",
       "      <th>Diabetes</th>\n",
       "      <th>Pred</th>\n",
       "    </tr>\n",
       "  </thead>\n",
       "  <tbody>\n",
       "    <tr>\n",
       "      <th>0</th>\n",
       "      <td>50</td>\n",
       "      <td>1.0</td>\n",
       "      <td>272</td>\n",
       "      <td>68</td>\n",
       "      <td>188</td>\n",
       "      <td>82</td>\n",
       "      <td>124</td>\n",
       "      <td>0.0</td>\n",
       "      <td>0.0</td>\n",
       "      <td>High</td>\n",
       "    </tr>\n",
       "    <tr>\n",
       "      <th>1</th>\n",
       "      <td>29</td>\n",
       "      <td>0.0</td>\n",
       "      <td>275</td>\n",
       "      <td>68</td>\n",
       "      <td>183</td>\n",
       "      <td>84</td>\n",
       "      <td>129</td>\n",
       "      <td>0.0</td>\n",
       "      <td>0.0</td>\n",
       "      <td>High</td>\n",
       "    </tr>\n",
       "    <tr>\n",
       "      <th>2</th>\n",
       "      <td>50</td>\n",
       "      <td>1.0</td>\n",
       "      <td>268</td>\n",
       "      <td>55</td>\n",
       "      <td>189</td>\n",
       "      <td>111</td>\n",
       "      <td>119</td>\n",
       "      <td>0.0</td>\n",
       "      <td>0.0</td>\n",
       "      <td>High</td>\n",
       "    </tr>\n",
       "    <tr>\n",
       "      <th>3</th>\n",
       "      <td>78</td>\n",
       "      <td>0.0</td>\n",
       "      <td>194</td>\n",
       "      <td>50</td>\n",
       "      <td>120</td>\n",
       "      <td>94</td>\n",
       "      <td>113</td>\n",
       "      <td>0.0</td>\n",
       "      <td>0.0</td>\n",
       "      <td>High</td>\n",
       "    </tr>\n",
       "    <tr>\n",
       "      <th>4</th>\n",
       "      <td>63</td>\n",
       "      <td>1.0</td>\n",
       "      <td>229</td>\n",
       "      <td>35</td>\n",
       "      <td>182</td>\n",
       "      <td>214</td>\n",
       "      <td>160</td>\n",
       "      <td>1.0</td>\n",
       "      <td>1.0</td>\n",
       "      <td>High</td>\n",
       "    </tr>\n",
       "  </tbody>\n",
       "</table>\n",
       "</div>"
      ],
      "text/plain": [
       "   Age  Sex  TCh  HCh  LCh   Tr  BPS   Sm  Diabetes  Pred\n",
       "0   50  1.0  272   68  188   82  124  0.0       0.0  High\n",
       "1   29  0.0  275   68  183   84  129  0.0       0.0  High\n",
       "2   50  1.0  268   55  189  111  119  0.0       0.0  High\n",
       "3   78  0.0  194   50  120   94  113  0.0       0.0  High\n",
       "4   63  1.0  229   35  182  214  160  1.0       1.0  High"
      ]
     },
     "execution_count": 13,
     "metadata": {},
     "output_type": "execute_result"
    }
   ],
   "source": [
    "df['Sex'] = df['Sex'].map({'Female': 0.0, 'Male': 1.0})\n",
    "df['Diabetes'] = df['Diabetes'].map({'No': 0.0, 'Yes': 1.0})\n",
    "df['Sm'] = df['Sm'].map({'Non-smoker': 0.0, 'Smoker': 1.0})\n",
    "df.head()"
   ]
  },
  {
   "cell_type": "markdown",
   "id": "4fa03c8e",
   "metadata": {},
   "source": [
    "# <font color= #79b0e9> **1. Logistic Regression** </font> "
   ]
  },
  {
   "cell_type": "code",
   "execution_count": null,
   "id": "0bc26f30",
   "metadata": {},
   "outputs": [],
   "source": []
  },
  {
   "cell_type": "markdown",
   "id": "c502abf6",
   "metadata": {},
   "source": [
    "# <font color= #79b0e9> **2. Support Vector Classifier** </font> "
   ]
  },
  {
   "cell_type": "markdown",
   "id": "1c8cfa5f",
   "metadata": {},
   "source": [
    "El Support Vector Classifier es un algoritmo robusto, que permite clasificar datos en base a un hiperplano que genera el mismo modelo. Funciona mejor con datos que no estén tan dispersos, lo que se puede manejar mediante una estandarización. Además, no se ve tan afectado por la alta dimensionalidad o presencia de atípicos. Por lo tanto, tenemos los siguientes planes de acción:\n",
    "\n",
    "- Estandarización → SVC\n",
    "\n",
    "- Estandarización → Variance Feature Selection / RFE → SVC\n",
    "\n",
    "- Estandarización → Variance Feature Selection → Normalizer → LDA (como segunda técnica de feature selection y además reducción de dimensionalidad) → SVC\n",
    "\n",
    "Evaluaremos la performance con cada uno de ellos."
   ]
  },
  {
   "cell_type": "code",
   "execution_count": 14,
   "id": "17783ec1",
   "metadata": {},
   "outputs": [],
   "source": [
    "X = df.drop(columns='Pred')\n",
    "y = df['Pred']"
   ]
  },
  {
   "cell_type": "markdown",
   "id": "ed025412",
   "metadata": {},
   "source": [
    "Con finalidad de observar nuestros datos, realizaremos una reducción de dimensionalidad con LDA:"
   ]
  },
  {
   "cell_type": "code",
   "execution_count": 61,
   "id": "80dad77e",
   "metadata": {},
   "outputs": [
    {
     "data": {
      "application/vnd.plotly.v1+json": {
       "config": {
        "plotlyServerURL": "https://plot.ly"
       },
       "data": [
        {
         "customdata": [
          [
           0,
           "High"
          ],
          [
           1,
           "High"
          ],
          [
           2,
           "High"
          ],
          [
           3,
           "High"
          ],
          [
           4,
           "High"
          ],
          [
           5,
           "High"
          ],
          [
           6,
           "High"
          ],
          [
           7,
           "High"
          ],
          [
           8,
           "High"
          ],
          [
           9,
           "High"
          ],
          [
           10,
           "High"
          ],
          [
           11,
           "High"
          ],
          [
           12,
           "High"
          ],
          [
           13,
           "High"
          ],
          [
           14,
           "High"
          ],
          [
           15,
           "High"
          ],
          [
           16,
           "High"
          ],
          [
           17,
           "High"
          ],
          [
           18,
           "High"
          ],
          [
           19,
           "High"
          ],
          [
           20,
           "High"
          ],
          [
           21,
           "High"
          ],
          [
           22,
           "High"
          ],
          [
           23,
           "High"
          ],
          [
           24,
           "High"
          ],
          [
           25,
           "High"
          ],
          [
           26,
           "High"
          ],
          [
           27,
           "High"
          ],
          [
           28,
           "High"
          ],
          [
           29,
           "High"
          ],
          [
           30,
           "High"
          ],
          [
           31,
           "High"
          ],
          [
           32,
           "High"
          ],
          [
           33,
           "High"
          ],
          [
           34,
           "High"
          ],
          [
           35,
           "High"
          ],
          [
           36,
           "High"
          ],
          [
           37,
           "High"
          ]
         ],
         "hovertemplate": "True Class=%{customdata[1]}<br>LD1=%{x}<br>LD2=%{y}<br>Data ID=%{customdata[0]}<extra></extra>",
         "legendgroup": "High",
         "marker": {
          "color": "#f01d0f",
          "line": {
           "color": "DarkSlateGrey",
           "width": 1
          },
          "size": 8,
          "symbol": "circle"
         },
         "mode": "markers",
         "name": "High",
         "orientation": "v",
         "showlegend": true,
         "type": "scatter",
         "x": [
          1.0897803965767956,
          0.9932387453779791,
          0.24915593596912292,
          1.0064245100938718,
          -4.065631663197067,
          -1.3891027130043092,
          -3.376640057756562,
          -0.5817548346527599,
          -1.1129811830062566,
          -1.8167342738535326,
          -1.6737167734476674,
          -0.30542761934377527,
          -1.3618763295804526,
          -1.7676197758639796,
          -3.74129754216848,
          -0.1298284942834666,
          -2.0503456377004228,
          -2.8571168709922756,
          -0.08027232085412286,
          -1.0727812759220925,
          -2.3566208345948305,
          -0.6317467909438264,
          -1.6258389575669694,
          -1.216373359823761,
          -1.3328224500937846,
          -2.959485609185825,
          -0.42621536517287295,
          -1.6302351482770452,
          0.6813031437200722,
          -3.705846204235509,
          -0.9645331094611983,
          -0.49263194392510984,
          -2.175862195408614,
          -1.3864020978888276,
          -0.5345586986540418,
          -1.5300381459100152,
          -2.477159673750194,
          -2.4892649453546625
         ],
         "xaxis": "x",
         "y": [
          -0.5022343866485356,
          0.10339368217725839,
          0.3106163976511179,
          1.1583722820296325,
          -2.2385844578055805,
          -1.2029950504745375,
          0.8491532818162616,
          0.9387953724003144,
          -1.661846859082129,
          -1.302828364302909,
          -1.6853791050241904,
          -0.2324837011014152,
          -1.9116405772969496,
          -0.2078760972724799,
          -1.3821858252247747,
          -0.8447661039150738,
          0.23196489401677275,
          -0.7459738562085692,
          -0.8608974613181857,
          -0.5949021247345101,
          -0.4871373459176493,
          -0.2971199896328674,
          -1.4325777543539813,
          0.5138233060180497,
          1.2480543157257848,
          1.1136187074454782,
          0.6285528769359624,
          2.5253890057248984,
          0.23954472959810696,
          -0.7617570011515098,
          -0.6077024012002596,
          -1.2327425696877048,
          -1.5606130649997212,
          0.1078723344887329,
          -0.5907381143486669,
          1.5251087050771663,
          1.8595356874626268,
          1.2181701804289085
         ],
         "yaxis": "y"
        },
        {
         "customdata": [
          [
           38,
           "Low"
          ],
          [
           39,
           "Low"
          ],
          [
           40,
           "Low"
          ],
          [
           41,
           "Low"
          ],
          [
           42,
           "Low"
          ],
          [
           43,
           "Low"
          ],
          [
           44,
           "Low"
          ],
          [
           45,
           "Low"
          ],
          [
           46,
           "Low"
          ],
          [
           47,
           "Low"
          ],
          [
           48,
           "Low"
          ],
          [
           49,
           "Low"
          ],
          [
           50,
           "Low"
          ],
          [
           51,
           "Low"
          ],
          [
           52,
           "Low"
          ],
          [
           53,
           "Low"
          ],
          [
           54,
           "Low"
          ],
          [
           55,
           "Low"
          ],
          [
           56,
           "Low"
          ],
          [
           57,
           "Low"
          ],
          [
           58,
           "Low"
          ],
          [
           59,
           "Low"
          ],
          [
           60,
           "Low"
          ],
          [
           61,
           "Low"
          ],
          [
           62,
           "Low"
          ],
          [
           63,
           "Low"
          ],
          [
           64,
           "Low"
          ],
          [
           65,
           "Low"
          ],
          [
           66,
           "Low"
          ],
          [
           67,
           "Low"
          ],
          [
           68,
           "Low"
          ],
          [
           69,
           "Low"
          ],
          [
           70,
           "Low"
          ],
          [
           71,
           "Low"
          ],
          [
           72,
           "Low"
          ],
          [
           73,
           "Low"
          ],
          [
           74,
           "Low"
          ],
          [
           75,
           "Low"
          ],
          [
           76,
           "Low"
          ],
          [
           77,
           "Low"
          ]
         ],
         "hovertemplate": "True Class=%{customdata[1]}<br>LD1=%{x}<br>LD2=%{y}<br>Data ID=%{customdata[0]}<extra></extra>",
         "legendgroup": "Low",
         "marker": {
          "color": "#86bf55",
          "line": {
           "color": "DarkSlateGrey",
           "width": 1
          },
          "size": 8,
          "symbol": "circle"
         },
         "mode": "markers",
         "name": "Low",
         "orientation": "v",
         "showlegend": true,
         "type": "scatter",
         "x": [
          1.5135864548269884,
          1.4739487287160196,
          1.2923103313900177,
          1.60778265785553,
          0.9475637587301619,
          0.6713493852065855,
          1.3704242287068769,
          1.7139303023885193,
          1.6308064600087564,
          1.2007006336375945,
          1.2234571259649696,
          1.2079829310798742,
          1.1557155162063173,
          0.8102528042327533,
          1.1645785216685967,
          1.5451912937754757,
          1.331263645699515,
          1.3338708961778867,
          1.2293060940885125,
          1.4355227111699052,
          1.4229605142781094,
          1.1817039245324215,
          1.658089253343876,
          0.7996097914587099,
          0.9972504721898399,
          1.2802311000030626,
          1.4367664787040269,
          1.7704864177394792,
          0.9635497265360771,
          1.22649256091052,
          1.5381743978768574,
          1.432070296978376,
          1.3347839786761584,
          1.5343042011779409,
          1.606145411750985,
          0.21297686526548212,
          -0.3038587624721566,
          -1.8373889556083036,
          -1.7862473512860217,
          -2.5820827857062008
         ],
         "xaxis": "x",
         "y": [
          0.18257137842829435,
          -0.9492468270464827,
          -0.1512116731851642,
          0.14530378650663006,
          -0.37674974924419213,
          -0.16074460107851235,
          -1.0412939129071386,
          0.2052629856805971,
          0.19292692206763185,
          -0.5062549608514348,
          -0.9159027640494763,
          -0.35088813812609837,
          -0.3166688872528583,
          -0.791924056766405,
          0.10009452634795893,
          -0.00897609834747239,
          -1.1850520525195494,
          -0.8822288745728457,
          0.4554613031894113,
          -1.3558650067337692,
          -1.458088951943987,
          -1.6093556688948132,
          -0.7325632185921778,
          -0.7232724889605355,
          0.15118446714186065,
          0.3422366689626959,
          -0.8013118921460742,
          0.3603529823323681,
          -0.5353675066337242,
          -0.8343243473741841,
          -0.10956870030698705,
          0.054729523978149563,
          -1.1038659724107203,
          -0.6046556314702553,
          0.2781932900147748,
          0.36768145614558806,
          0.36422872705021475,
          -2.8094245094875587,
          0.6889772321492396,
          -1.392277451622924
         ],
         "yaxis": "y"
        },
        {
         "customdata": [
          [
           78,
           "Medium"
          ],
          [
           79,
           "Medium"
          ],
          [
           80,
           "Medium"
          ],
          [
           81,
           "Medium"
          ],
          [
           82,
           "Medium"
          ],
          [
           83,
           "Medium"
          ],
          [
           84,
           "Medium"
          ],
          [
           85,
           "Medium"
          ],
          [
           86,
           "Medium"
          ],
          [
           87,
           "Medium"
          ],
          [
           88,
           "Medium"
          ],
          [
           89,
           "Medium"
          ],
          [
           90,
           "Medium"
          ],
          [
           91,
           "Medium"
          ],
          [
           92,
           "Medium"
          ],
          [
           93,
           "Medium"
          ],
          [
           94,
           "Medium"
          ],
          [
           95,
           "Medium"
          ],
          [
           96,
           "Medium"
          ],
          [
           97,
           "Medium"
          ],
          [
           98,
           "Medium"
          ],
          [
           99,
           "Medium"
          ],
          [
           100,
           "Medium"
          ],
          [
           101,
           "Medium"
          ],
          [
           102,
           "Medium"
          ],
          [
           103,
           "Medium"
          ],
          [
           104,
           "Medium"
          ],
          [
           105,
           "Medium"
          ],
          [
           106,
           "Medium"
          ],
          [
           107,
           "Medium"
          ],
          [
           108,
           "Medium"
          ],
          [
           109,
           "Medium"
          ],
          [
           110,
           "Medium"
          ],
          [
           111,
           "Medium"
          ],
          [
           112,
           "Medium"
          ],
          [
           113,
           "Medium"
          ],
          [
           114,
           "Medium"
          ],
          [
           115,
           "Medium"
          ],
          [
           116,
           "Medium"
          ],
          [
           117,
           "Medium"
          ],
          [
           118,
           "Medium"
          ]
         ],
         "hovertemplate": "True Class=%{customdata[1]}<br>LD1=%{x}<br>LD2=%{y}<br>Data ID=%{customdata[0]}<extra></extra>",
         "legendgroup": "Medium",
         "marker": {
          "color": "#f0bc4c",
          "line": {
           "color": "DarkSlateGrey",
           "width": 1
          },
          "size": 8,
          "symbol": "circle"
         },
         "mode": "markers",
         "name": "Medium",
         "orientation": "v",
         "showlegend": true,
         "type": "scatter",
         "x": [
          1.3299021231642432,
          0.8348330413750014,
          1.5815289353870443,
          0.2961203582548979,
          -0.5114308651724753,
          0.4232268143480388,
          0.854153637536162,
          0.6083271561219096,
          1.1602670902095469,
          0.5289495453289234,
          0.29590016988258694,
          1.27081044691228,
          -0.29448608530033105,
          0.05779072559943292,
          -0.3498856722620664,
          -0.40887789784266493,
          -0.12244498765247103,
          0.06521248253352119,
          -0.3819530275449793,
          0.13504272632822123,
          0.5930899783843446,
          -0.31966652904464693,
          -0.21473093687363698,
          0.36557975248464875,
          -0.19567815138031303,
          -0.0681814160259618,
          0.7423858628436878,
          0.6147895333528258,
          0.4249464031566936,
          1.020515477893601,
          -0.25266528534623667,
          0.8428735103484102,
          0.9604192507636099,
          -0.09257481913875651,
          0.4878966795057806,
          0.04918905949828979,
          0.02536443629444401,
          0.5703221371345603,
          0.5554611246834709,
          -1.0888225993007863,
          -0.840202040184482
         ],
         "xaxis": "x",
         "y": [
          0.5763785971065714,
          -0.6321052465102988,
          -0.7995051491591034,
          -0.06600361700154585,
          2.7030994545942177,
          1.240580341345473,
          0.29575697881331847,
          0.5728738283990199,
          -0.22745207173816534,
          1.6548448957055089,
          -1.4798035520514807,
          0.15643014942031208,
          -0.48262908377961944,
          -0.2885328030815267,
          1.5785965551229604,
          3.042126033996827,
          1.9799836322847528,
          1.2152120376719453,
          1.7255795611161613,
          0.2345764101013252,
          0.25635371167563853,
          2.1176046782053084,
          1.3638102539984842,
          1.0926854016033596,
          2.7567208478564846,
          1.288407980894811,
          -1.0252326574400497,
          -0.03014138609779667,
          0.06850684614064467,
          1.4919748907388823,
          1.4199545277618286,
          0.3222787548331808,
          -0.44294532241427653,
          0.5441660127370047,
          0.33726811431301,
          0.24765566525879673,
          0.563222454146679,
          -0.010015016704957486,
          -1.0176017786284028,
          1.6086796085900399,
          -0.3624653945902232
         ],
         "yaxis": "y"
        }
       ],
       "layout": {
        "height": 500,
        "legend": {
         "title": {
          "text": "True Class"
         },
         "tracegroupgap": 0
        },
        "template": {
         "data": {
          "bar": [
           {
            "error_x": {
             "color": "#2a3f5f"
            },
            "error_y": {
             "color": "#2a3f5f"
            },
            "marker": {
             "line": {
              "color": "#E5ECF6",
              "width": 0.5
             },
             "pattern": {
              "fillmode": "overlay",
              "size": 10,
              "solidity": 0.2
             }
            },
            "type": "bar"
           }
          ],
          "barpolar": [
           {
            "marker": {
             "line": {
              "color": "#E5ECF6",
              "width": 0.5
             },
             "pattern": {
              "fillmode": "overlay",
              "size": 10,
              "solidity": 0.2
             }
            },
            "type": "barpolar"
           }
          ],
          "carpet": [
           {
            "aaxis": {
             "endlinecolor": "#2a3f5f",
             "gridcolor": "white",
             "linecolor": "white",
             "minorgridcolor": "white",
             "startlinecolor": "#2a3f5f"
            },
            "baxis": {
             "endlinecolor": "#2a3f5f",
             "gridcolor": "white",
             "linecolor": "white",
             "minorgridcolor": "white",
             "startlinecolor": "#2a3f5f"
            },
            "type": "carpet"
           }
          ],
          "choropleth": [
           {
            "colorbar": {
             "outlinewidth": 0,
             "ticks": ""
            },
            "type": "choropleth"
           }
          ],
          "contour": [
           {
            "colorbar": {
             "outlinewidth": 0,
             "ticks": ""
            },
            "colorscale": [
             [
              0,
              "#0d0887"
             ],
             [
              0.1111111111111111,
              "#46039f"
             ],
             [
              0.2222222222222222,
              "#7201a8"
             ],
             [
              0.3333333333333333,
              "#9c179e"
             ],
             [
              0.4444444444444444,
              "#bd3786"
             ],
             [
              0.5555555555555556,
              "#d8576b"
             ],
             [
              0.6666666666666666,
              "#ed7953"
             ],
             [
              0.7777777777777778,
              "#fb9f3a"
             ],
             [
              0.8888888888888888,
              "#fdca26"
             ],
             [
              1,
              "#f0f921"
             ]
            ],
            "type": "contour"
           }
          ],
          "contourcarpet": [
           {
            "colorbar": {
             "outlinewidth": 0,
             "ticks": ""
            },
            "type": "contourcarpet"
           }
          ],
          "heatmap": [
           {
            "colorbar": {
             "outlinewidth": 0,
             "ticks": ""
            },
            "colorscale": [
             [
              0,
              "#0d0887"
             ],
             [
              0.1111111111111111,
              "#46039f"
             ],
             [
              0.2222222222222222,
              "#7201a8"
             ],
             [
              0.3333333333333333,
              "#9c179e"
             ],
             [
              0.4444444444444444,
              "#bd3786"
             ],
             [
              0.5555555555555556,
              "#d8576b"
             ],
             [
              0.6666666666666666,
              "#ed7953"
             ],
             [
              0.7777777777777778,
              "#fb9f3a"
             ],
             [
              0.8888888888888888,
              "#fdca26"
             ],
             [
              1,
              "#f0f921"
             ]
            ],
            "type": "heatmap"
           }
          ],
          "heatmapgl": [
           {
            "colorbar": {
             "outlinewidth": 0,
             "ticks": ""
            },
            "colorscale": [
             [
              0,
              "#0d0887"
             ],
             [
              0.1111111111111111,
              "#46039f"
             ],
             [
              0.2222222222222222,
              "#7201a8"
             ],
             [
              0.3333333333333333,
              "#9c179e"
             ],
             [
              0.4444444444444444,
              "#bd3786"
             ],
             [
              0.5555555555555556,
              "#d8576b"
             ],
             [
              0.6666666666666666,
              "#ed7953"
             ],
             [
              0.7777777777777778,
              "#fb9f3a"
             ],
             [
              0.8888888888888888,
              "#fdca26"
             ],
             [
              1,
              "#f0f921"
             ]
            ],
            "type": "heatmapgl"
           }
          ],
          "histogram": [
           {
            "marker": {
             "pattern": {
              "fillmode": "overlay",
              "size": 10,
              "solidity": 0.2
             }
            },
            "type": "histogram"
           }
          ],
          "histogram2d": [
           {
            "colorbar": {
             "outlinewidth": 0,
             "ticks": ""
            },
            "colorscale": [
             [
              0,
              "#0d0887"
             ],
             [
              0.1111111111111111,
              "#46039f"
             ],
             [
              0.2222222222222222,
              "#7201a8"
             ],
             [
              0.3333333333333333,
              "#9c179e"
             ],
             [
              0.4444444444444444,
              "#bd3786"
             ],
             [
              0.5555555555555556,
              "#d8576b"
             ],
             [
              0.6666666666666666,
              "#ed7953"
             ],
             [
              0.7777777777777778,
              "#fb9f3a"
             ],
             [
              0.8888888888888888,
              "#fdca26"
             ],
             [
              1,
              "#f0f921"
             ]
            ],
            "type": "histogram2d"
           }
          ],
          "histogram2dcontour": [
           {
            "colorbar": {
             "outlinewidth": 0,
             "ticks": ""
            },
            "colorscale": [
             [
              0,
              "#0d0887"
             ],
             [
              0.1111111111111111,
              "#46039f"
             ],
             [
              0.2222222222222222,
              "#7201a8"
             ],
             [
              0.3333333333333333,
              "#9c179e"
             ],
             [
              0.4444444444444444,
              "#bd3786"
             ],
             [
              0.5555555555555556,
              "#d8576b"
             ],
             [
              0.6666666666666666,
              "#ed7953"
             ],
             [
              0.7777777777777778,
              "#fb9f3a"
             ],
             [
              0.8888888888888888,
              "#fdca26"
             ],
             [
              1,
              "#f0f921"
             ]
            ],
            "type": "histogram2dcontour"
           }
          ],
          "mesh3d": [
           {
            "colorbar": {
             "outlinewidth": 0,
             "ticks": ""
            },
            "type": "mesh3d"
           }
          ],
          "parcoords": [
           {
            "line": {
             "colorbar": {
              "outlinewidth": 0,
              "ticks": ""
             }
            },
            "type": "parcoords"
           }
          ],
          "pie": [
           {
            "automargin": true,
            "type": "pie"
           }
          ],
          "scatter": [
           {
            "fillpattern": {
             "fillmode": "overlay",
             "size": 10,
             "solidity": 0.2
            },
            "type": "scatter"
           }
          ],
          "scatter3d": [
           {
            "line": {
             "colorbar": {
              "outlinewidth": 0,
              "ticks": ""
             }
            },
            "marker": {
             "colorbar": {
              "outlinewidth": 0,
              "ticks": ""
             }
            },
            "type": "scatter3d"
           }
          ],
          "scattercarpet": [
           {
            "marker": {
             "colorbar": {
              "outlinewidth": 0,
              "ticks": ""
             }
            },
            "type": "scattercarpet"
           }
          ],
          "scattergeo": [
           {
            "marker": {
             "colorbar": {
              "outlinewidth": 0,
              "ticks": ""
             }
            },
            "type": "scattergeo"
           }
          ],
          "scattergl": [
           {
            "marker": {
             "colorbar": {
              "outlinewidth": 0,
              "ticks": ""
             }
            },
            "type": "scattergl"
           }
          ],
          "scattermapbox": [
           {
            "marker": {
             "colorbar": {
              "outlinewidth": 0,
              "ticks": ""
             }
            },
            "type": "scattermapbox"
           }
          ],
          "scatterpolar": [
           {
            "marker": {
             "colorbar": {
              "outlinewidth": 0,
              "ticks": ""
             }
            },
            "type": "scatterpolar"
           }
          ],
          "scatterpolargl": [
           {
            "marker": {
             "colorbar": {
              "outlinewidth": 0,
              "ticks": ""
             }
            },
            "type": "scatterpolargl"
           }
          ],
          "scatterternary": [
           {
            "marker": {
             "colorbar": {
              "outlinewidth": 0,
              "ticks": ""
             }
            },
            "type": "scatterternary"
           }
          ],
          "surface": [
           {
            "colorbar": {
             "outlinewidth": 0,
             "ticks": ""
            },
            "colorscale": [
             [
              0,
              "#0d0887"
             ],
             [
              0.1111111111111111,
              "#46039f"
             ],
             [
              0.2222222222222222,
              "#7201a8"
             ],
             [
              0.3333333333333333,
              "#9c179e"
             ],
             [
              0.4444444444444444,
              "#bd3786"
             ],
             [
              0.5555555555555556,
              "#d8576b"
             ],
             [
              0.6666666666666666,
              "#ed7953"
             ],
             [
              0.7777777777777778,
              "#fb9f3a"
             ],
             [
              0.8888888888888888,
              "#fdca26"
             ],
             [
              1,
              "#f0f921"
             ]
            ],
            "type": "surface"
           }
          ],
          "table": [
           {
            "cells": {
             "fill": {
              "color": "#EBF0F8"
             },
             "line": {
              "color": "white"
             }
            },
            "header": {
             "fill": {
              "color": "#C8D4E3"
             },
             "line": {
              "color": "white"
             }
            },
            "type": "table"
           }
          ]
         },
         "layout": {
          "annotationdefaults": {
           "arrowcolor": "#2a3f5f",
           "arrowhead": 0,
           "arrowwidth": 1
          },
          "autotypenumbers": "strict",
          "coloraxis": {
           "colorbar": {
            "outlinewidth": 0,
            "ticks": ""
           }
          },
          "colorscale": {
           "diverging": [
            [
             0,
             "#8e0152"
            ],
            [
             0.1,
             "#c51b7d"
            ],
            [
             0.2,
             "#de77ae"
            ],
            [
             0.3,
             "#f1b6da"
            ],
            [
             0.4,
             "#fde0ef"
            ],
            [
             0.5,
             "#f7f7f7"
            ],
            [
             0.6,
             "#e6f5d0"
            ],
            [
             0.7,
             "#b8e186"
            ],
            [
             0.8,
             "#7fbc41"
            ],
            [
             0.9,
             "#4d9221"
            ],
            [
             1,
             "#276419"
            ]
           ],
           "sequential": [
            [
             0,
             "#0d0887"
            ],
            [
             0.1111111111111111,
             "#46039f"
            ],
            [
             0.2222222222222222,
             "#7201a8"
            ],
            [
             0.3333333333333333,
             "#9c179e"
            ],
            [
             0.4444444444444444,
             "#bd3786"
            ],
            [
             0.5555555555555556,
             "#d8576b"
            ],
            [
             0.6666666666666666,
             "#ed7953"
            ],
            [
             0.7777777777777778,
             "#fb9f3a"
            ],
            [
             0.8888888888888888,
             "#fdca26"
            ],
            [
             1,
             "#f0f921"
            ]
           ],
           "sequentialminus": [
            [
             0,
             "#0d0887"
            ],
            [
             0.1111111111111111,
             "#46039f"
            ],
            [
             0.2222222222222222,
             "#7201a8"
            ],
            [
             0.3333333333333333,
             "#9c179e"
            ],
            [
             0.4444444444444444,
             "#bd3786"
            ],
            [
             0.5555555555555556,
             "#d8576b"
            ],
            [
             0.6666666666666666,
             "#ed7953"
            ],
            [
             0.7777777777777778,
             "#fb9f3a"
            ],
            [
             0.8888888888888888,
             "#fdca26"
            ],
            [
             1,
             "#f0f921"
            ]
           ]
          },
          "colorway": [
           "#636efa",
           "#EF553B",
           "#00cc96",
           "#ab63fa",
           "#FFA15A",
           "#19d3f3",
           "#FF6692",
           "#B6E880",
           "#FF97FF",
           "#FECB52"
          ],
          "font": {
           "color": "#2a3f5f"
          },
          "geo": {
           "bgcolor": "white",
           "lakecolor": "white",
           "landcolor": "#E5ECF6",
           "showlakes": true,
           "showland": true,
           "subunitcolor": "white"
          },
          "hoverlabel": {
           "align": "left"
          },
          "hovermode": "closest",
          "mapbox": {
           "style": "light"
          },
          "paper_bgcolor": "white",
          "plot_bgcolor": "#E5ECF6",
          "polar": {
           "angularaxis": {
            "gridcolor": "white",
            "linecolor": "white",
            "ticks": ""
           },
           "bgcolor": "#E5ECF6",
           "radialaxis": {
            "gridcolor": "white",
            "linecolor": "white",
            "ticks": ""
           }
          },
          "scene": {
           "xaxis": {
            "backgroundcolor": "#E5ECF6",
            "gridcolor": "white",
            "gridwidth": 2,
            "linecolor": "white",
            "showbackground": true,
            "ticks": "",
            "zerolinecolor": "white"
           },
           "yaxis": {
            "backgroundcolor": "#E5ECF6",
            "gridcolor": "white",
            "gridwidth": 2,
            "linecolor": "white",
            "showbackground": true,
            "ticks": "",
            "zerolinecolor": "white"
           },
           "zaxis": {
            "backgroundcolor": "#E5ECF6",
            "gridcolor": "white",
            "gridwidth": 2,
            "linecolor": "white",
            "showbackground": true,
            "ticks": "",
            "zerolinecolor": "white"
           }
          },
          "shapedefaults": {
           "line": {
            "color": "#2a3f5f"
           }
          },
          "ternary": {
           "aaxis": {
            "gridcolor": "white",
            "linecolor": "white",
            "ticks": ""
           },
           "baxis": {
            "gridcolor": "white",
            "linecolor": "white",
            "ticks": ""
           },
           "bgcolor": "#E5ECF6",
           "caxis": {
            "gridcolor": "white",
            "linecolor": "white",
            "ticks": ""
           }
          },
          "title": {
           "x": 0.05
          },
          "xaxis": {
           "automargin": true,
           "gridcolor": "white",
           "linecolor": "white",
           "ticks": "",
           "title": {
            "standoff": 15
           },
           "zerolinecolor": "white",
           "zerolinewidth": 2
          },
          "yaxis": {
           "automargin": true,
           "gridcolor": "white",
           "linecolor": "white",
           "ticks": "",
           "title": {
            "standoff": 15
           },
           "zerolinecolor": "white",
           "zerolinewidth": 2
          }
         }
        },
        "title": {
         "text": "LDA for All Data with Class Label"
        },
        "width": 700,
        "xaxis": {
         "anchor": "y",
         "domain": [
          0,
          1
         ],
         "title": {
          "text": "LD1"
         }
        },
        "yaxis": {
         "anchor": "x",
         "domain": [
          0,
          1
         ],
         "title": {
          "text": "LD2"
         }
        }
       }
      }
     },
     "metadata": {},
     "output_type": "display_data"
    }
   ],
   "source": [
    "# Color Palette\n",
    "custom_palette = {\n",
    "    'High': '#f01d0f',                 # Red\n",
    "    'Medium': '#f0bc4c',               # Yellow\n",
    "    'Low': '#86bf55'                   # Green\n",
    "}\n",
    "\n",
    "# Dimensionality Reduction\n",
    "lda = LDA()\n",
    "X_lda = lda.fit_transform(X, y)\n",
    "\n",
    "# Prepare DataFrame for Plotly\n",
    "X_truth_df = pd.DataFrame(X_lda, columns=['LD1', 'LD2'])\n",
    "X_truth_df['True Class'] = y.loc[X.index].reset_index(drop=True)\n",
    "X_truth_df['Data ID'] = X.index  \n",
    "\n",
    "# Plotly Scatter Plot\n",
    "fig = px.scatter(\n",
    "    X_truth_df, \n",
    "    x='LD1', \n",
    "    y='LD2', \n",
    "    color='True Class',\n",
    "    title='LDA for All Data with Class Label',\n",
    "    labels={'LD1': 'LD1', 'LD2': 'LD2'},\n",
    "    color_discrete_map=custom_palette,\n",
    "    hover_data=['Data ID', 'True Class']  # Include ID in hover\n",
    ")\n",
    "\n",
    "fig.update_traces(marker=dict(size=8, line=dict(width=1, color='DarkSlateGrey')))\n",
    "fig.update_layout(width=700, height=500)\n",
    "fig.show()"
   ]
  },
  {
   "cell_type": "markdown",
   "id": "60296cc9",
   "metadata": {},
   "source": [
    "En base a la gráfica, podemos observar que tenemos algunos datos que producen ruido dentro de las clases. Puede ser debido a un mislabeling o a datos atípicos que se colaron dentro de cierta clase. Con el objetivo de que nuestro modelo pueda predecir de la mejor manera, se eliminarán estos datos atípicos antes de hacer el train-test-split."
   ]
  },
  {
   "cell_type": "code",
   "execution_count": 16,
   "id": "b2002c61",
   "metadata": {},
   "outputs": [],
   "source": [
    "drop_ID = [75, 76, 77, 3, 80, 74, 0, ]\n",
    "\n",
    "X_clean = X.drop(drop_ID)\n",
    "y_clean = y.drop(drop_ID)"
   ]
  },
  {
   "cell_type": "code",
   "execution_count": 17,
   "id": "619de8ab",
   "metadata": {},
   "outputs": [],
   "source": [
    "# Codificar la y\n",
    "label_map = {0: 'Low', 1: 'Medium', 2: 'High'}\n",
    "y_test_named = y.map(label_map) \n",
    "\n",
    "X_train, X_test, y_train, y_test = train_test_split(X_clean, y_clean, test_size=0.2, random_state=12, stratify=y_clean)"
   ]
  },
  {
   "cell_type": "markdown",
   "id": "acecc2d5",
   "metadata": {},
   "source": [
    "## <font color= #4783bf> SVC con Estandarización </font>"
   ]
  },
  {
   "cell_type": "code",
   "execution_count": 18,
   "id": "91a7d289",
   "metadata": {},
   "outputs": [
    {
     "data": {
      "application/vnd.microsoft.datawrangler.viewer.v0+json": {
       "columns": [
        {
         "name": "index",
         "rawType": "int64",
         "type": "integer"
        },
        {
         "name": "Age",
         "rawType": "float64",
         "type": "float"
        },
        {
         "name": "Sex",
         "rawType": "float64",
         "type": "float"
        },
        {
         "name": "TCh",
         "rawType": "float64",
         "type": "float"
        },
        {
         "name": "HCh",
         "rawType": "float64",
         "type": "float"
        },
        {
         "name": "LCh",
         "rawType": "float64",
         "type": "float"
        },
        {
         "name": "Tr",
         "rawType": "float64",
         "type": "float"
        },
        {
         "name": "BPS",
         "rawType": "float64",
         "type": "float"
        },
        {
         "name": "Sm",
         "rawType": "float64",
         "type": "float"
        },
        {
         "name": "Diabetes",
         "rawType": "float64",
         "type": "float"
        }
       ],
       "conversionMethod": "pd.DataFrame",
       "ref": "b4181d9b-87ea-458b-b7ab-a71261ac9ecf",
       "rows": [
        [
         "0",
         "0.4402932604051458",
         "-1.0820035616009187",
         "0.7370062512465153",
         "-0.3686716613131786",
         "0.8195271524753812",
         "-0.7867624974188867",
         "-1.2141832315816117",
         "-0.29217435489538873",
         "-0.2169304578186562"
        ],
        [
         "1",
         "1.6202233766414396",
         "-1.0820035616009187",
         "1.3216686806097313",
         "-0.627032116879107",
         "1.6822336925543038",
         "-0.7171409589945457",
         "0.6354678532635826",
         "-0.29217435489538873",
         "-0.2169304578186562"
        ],
        [
         "2",
         "1.4339186214462352",
         "0.9242113755341183",
         "1.4051918848044764",
         "-0.19643135760255964",
         "1.4208074682879634",
         "-0.24719557463024414",
         "2.2716976590881774",
         "-0.29217435489538873",
         "-0.2169304578186562"
        ],
        [
         "3",
         "0.6265980156003501",
         "-1.0820035616009187",
         "0.9040526596360056",
         "0.4925298572399161",
         "0.584243550635675",
         "1.7892344242817293",
         "2.413978511768577",
         "3.422613871631697",
         "-0.2169304578186562"
        ],
        [
         "4",
         "0.06768375001473725",
         "-1.0820035616009187",
         "0.8762115915710905",
         "-1.4021134835768922",
         "1.0286681318884532",
         "0.9015598093713818",
         "1.7025742483665793",
         "-0.29217435489538873",
         "-0.2169304578186562"
        ]
       ],
       "shape": {
        "columns": 9,
        "rows": 5
       }
      },
      "text/html": [
       "<div>\n",
       "<style scoped>\n",
       "    .dataframe tbody tr th:only-of-type {\n",
       "        vertical-align: middle;\n",
       "    }\n",
       "\n",
       "    .dataframe tbody tr th {\n",
       "        vertical-align: top;\n",
       "    }\n",
       "\n",
       "    .dataframe thead th {\n",
       "        text-align: right;\n",
       "    }\n",
       "</style>\n",
       "<table border=\"1\" class=\"dataframe\">\n",
       "  <thead>\n",
       "    <tr style=\"text-align: right;\">\n",
       "      <th></th>\n",
       "      <th>Age</th>\n",
       "      <th>Sex</th>\n",
       "      <th>TCh</th>\n",
       "      <th>HCh</th>\n",
       "      <th>LCh</th>\n",
       "      <th>Tr</th>\n",
       "      <th>BPS</th>\n",
       "      <th>Sm</th>\n",
       "      <th>Diabetes</th>\n",
       "    </tr>\n",
       "  </thead>\n",
       "  <tbody>\n",
       "    <tr>\n",
       "      <th>0</th>\n",
       "      <td>0.440293</td>\n",
       "      <td>-1.082004</td>\n",
       "      <td>0.737006</td>\n",
       "      <td>-0.368672</td>\n",
       "      <td>0.819527</td>\n",
       "      <td>-0.786762</td>\n",
       "      <td>-1.214183</td>\n",
       "      <td>-0.292174</td>\n",
       "      <td>-0.21693</td>\n",
       "    </tr>\n",
       "    <tr>\n",
       "      <th>1</th>\n",
       "      <td>1.620223</td>\n",
       "      <td>-1.082004</td>\n",
       "      <td>1.321669</td>\n",
       "      <td>-0.627032</td>\n",
       "      <td>1.682234</td>\n",
       "      <td>-0.717141</td>\n",
       "      <td>0.635468</td>\n",
       "      <td>-0.292174</td>\n",
       "      <td>-0.21693</td>\n",
       "    </tr>\n",
       "    <tr>\n",
       "      <th>2</th>\n",
       "      <td>1.433919</td>\n",
       "      <td>0.924211</td>\n",
       "      <td>1.405192</td>\n",
       "      <td>-0.196431</td>\n",
       "      <td>1.420807</td>\n",
       "      <td>-0.247196</td>\n",
       "      <td>2.271698</td>\n",
       "      <td>-0.292174</td>\n",
       "      <td>-0.21693</td>\n",
       "    </tr>\n",
       "    <tr>\n",
       "      <th>3</th>\n",
       "      <td>0.626598</td>\n",
       "      <td>-1.082004</td>\n",
       "      <td>0.904053</td>\n",
       "      <td>0.492530</td>\n",
       "      <td>0.584244</td>\n",
       "      <td>1.789234</td>\n",
       "      <td>2.413979</td>\n",
       "      <td>3.422614</td>\n",
       "      <td>-0.21693</td>\n",
       "    </tr>\n",
       "    <tr>\n",
       "      <th>4</th>\n",
       "      <td>0.067684</td>\n",
       "      <td>-1.082004</td>\n",
       "      <td>0.876212</td>\n",
       "      <td>-1.402113</td>\n",
       "      <td>1.028668</td>\n",
       "      <td>0.901560</td>\n",
       "      <td>1.702574</td>\n",
       "      <td>-0.292174</td>\n",
       "      <td>-0.21693</td>\n",
       "    </tr>\n",
       "  </tbody>\n",
       "</table>\n",
       "</div>"
      ],
      "text/plain": [
       "        Age       Sex       TCh       HCh       LCh        Tr       BPS  \\\n",
       "0  0.440293 -1.082004  0.737006 -0.368672  0.819527 -0.786762 -1.214183   \n",
       "1  1.620223 -1.082004  1.321669 -0.627032  1.682234 -0.717141  0.635468   \n",
       "2  1.433919  0.924211  1.405192 -0.196431  1.420807 -0.247196  2.271698   \n",
       "3  0.626598 -1.082004  0.904053  0.492530  0.584244  1.789234  2.413979   \n",
       "4  0.067684 -1.082004  0.876212 -1.402113  1.028668  0.901560  1.702574   \n",
       "\n",
       "         Sm  Diabetes  \n",
       "0 -0.292174  -0.21693  \n",
       "1 -0.292174  -0.21693  \n",
       "2 -0.292174  -0.21693  \n",
       "3  3.422614  -0.21693  \n",
       "4 -0.292174  -0.21693  "
      ]
     },
     "execution_count": 18,
     "metadata": {},
     "output_type": "execute_result"
    }
   ],
   "source": [
    "scaler = StandardScaler()\n",
    "X_train_scaled = pd.DataFrame(scaler.fit_transform(X_train), columns=X_train.columns)\n",
    "X_test_scaled = pd.DataFrame(scaler.transform(X_test), columns=X_test.columns)\n",
    "X_train_scaled.head()"
   ]
  },
  {
   "cell_type": "code",
   "execution_count": 19,
   "id": "bd029317",
   "metadata": {},
   "outputs": [],
   "source": [
    "svm1 = SVC()\n",
    "\n",
    "svm1.fit(X_train, y_train)\n",
    "y_pred = svm1.predict(X_test)"
   ]
  },
  {
   "cell_type": "markdown",
   "id": "c5259ee9",
   "metadata": {},
   "source": [
    "Al evaluar el modelo SVC con kernel lineal y sus propios parámetros, así como al evaluarlo con kernel rbf y sus parámetros correspondientes, nos dimos cuenta de que (irónicamente) el mejor modelo es el default.\n",
    "\n",
    "Además, nuestros datos no parecen ajustarse de manera satisfactoria al kernel lineal."
   ]
  },
  {
   "cell_type": "code",
   "execution_count": 20,
   "id": "2f55ad74",
   "metadata": {},
   "outputs": [
    {
     "data": {
      "text/plain": [
       "{'C': 1.0,\n",
       " 'break_ties': False,\n",
       " 'cache_size': 200,\n",
       " 'class_weight': None,\n",
       " 'coef0': 0.0,\n",
       " 'decision_function_shape': 'ovr',\n",
       " 'degree': 3,\n",
       " 'gamma': 'scale',\n",
       " 'kernel': 'rbf',\n",
       " 'max_iter': -1,\n",
       " 'probability': False,\n",
       " 'random_state': None,\n",
       " 'shrinking': True,\n",
       " 'tol': 0.001,\n",
       " 'verbose': False}"
      ]
     },
     "execution_count": 20,
     "metadata": {},
     "output_type": "execute_result"
    }
   ],
   "source": [
    "svm1.get_params()"
   ]
  },
  {
   "cell_type": "markdown",
   "id": "013657f8",
   "metadata": {},
   "source": [
    "Este modelo tiene una kernel rbf, con C=1 y gamma 'scale', que equivale a $ \\frac {1} {n_{features} * X.var()} $."
   ]
  },
  {
   "cell_type": "code",
   "execution_count": 21,
   "id": "6eca04a7",
   "metadata": {},
   "outputs": [
    {
     "data": {
      "image/png": "[encoded data removed]",
      "text/plain": [
       "<Figure size 640x480 with 2 Axes>"
      ]
     },
     "metadata": {},
     "output_type": "display_data"
    }
   ],
   "source": [
    "# Matriz de Confusión\n",
    "cm = confusion_matrix(y_test, y_pred)\n",
    "cm_display = ConfusionMatrixDisplay(confusion_matrix = cm, display_labels = ['Low', 'Medium', 'High'])\n",
    "cm_display.plot()\n",
    "plt.title('Confusion Matrix')\n",
    "plt.show()"
   ]
  },
  {
   "cell_type": "markdown",
   "id": "8af5302a",
   "metadata": {},
   "source": [
    "La clase que mejor predice nuestro modelo es 'Medium', sin embargo, también es la clase donde más se confunde nuestro modelo."
   ]
  },
  {
   "cell_type": "code",
   "execution_count": 22,
   "id": "8b611aeb",
   "metadata": {},
   "outputs": [
    {
     "name": "stdout",
     "output_type": "stream",
     "text": [
      "Exactitud (Accuracy): 0.8696\n",
      "Precisión (Precision): 0.9051\n",
      "Sensibilidad (Recall): 0.8696\n",
      "F1-Score: 0.8720\n"
     ]
    }
   ],
   "source": [
    "# Métricas de Performance\n",
    "print(f\"Exactitud (Accuracy): {accuracy_score(y_test, y_pred):.4f}\")\n",
    "print(f\"Precisión (Precision): {precision_score(y_test, y_pred, average='weighted'):.4f}\")\n",
    "print(f\"Sensibilidad (Recall): {recall_score(y_test, y_pred, average='weighted'):.4f}\")\n",
    "print(f\"F1-Score: {f1_score(y_test, y_pred, average='weighted'):.4f}\")"
   ]
  },
  {
   "cell_type": "markdown",
   "id": "9a5dd6ca",
   "metadata": {},
   "source": [
    "La exactitud de nuestro modelo es de 0.86, lo cual no es nada malo, en parte por la eliminación de ruido en el dataset. Además, el F1-score es de 0.87, lo cual refuerza la evidencia de que el SVC con estandarización es una buena opción."
   ]
  },
  {
   "cell_type": "markdown",
   "id": "84728965",
   "metadata": {},
   "source": [
    "## <font color= #4783bf> SVC con Estandarización y Selección de Variables </font>"
   ]
  },
  {
   "cell_type": "markdown",
   "id": "dfca8a0b",
   "metadata": {},
   "source": [
    "### <font color= #4783bf> &ensp; • Preprocesamiento </font>"
   ]
  },
  {
   "cell_type": "markdown",
   "id": "e8c50159",
   "metadata": {},
   "source": [
    "Para la selección de variables, utilizaremos RFE. Sin embargo, el RFE necesita un coeficiente para poder optimizar las variables, mientras que estamos usando una kernel no lineal para nuestros datos. Por lo tanto, el RFE se optimizará en base al kernel lineal."
   ]
  },
  {
   "cell_type": "code",
   "execution_count": 23,
   "id": "7139172d",
   "metadata": {},
   "outputs": [],
   "source": [
    "# Crear modelo\n",
    "model = SVC(kernel='linear')\n",
    "\n",
    "# RFE\n",
    "rfe = RFE(model, verbose=0) \n",
    "rfe = rfe.fit(X_train_scaled, y_train.values.ravel())\n",
    "\n",
    "# Seleccionamos las mejores variables\n",
    "X_train_selected = X_train_scaled[rfe.get_feature_names_out()]\n",
    "X_test_selected = X_test_scaled[rfe.get_feature_names_out()]"
   ]
  },
  {
   "cell_type": "code",
   "execution_count": 24,
   "id": "36fcd098",
   "metadata": {},
   "outputs": [],
   "source": [
    "# Modelado\n",
    "svm2 = SVC()\n",
    "\n",
    "svm2.fit(X_train_selected, y_train)\n",
    "y_pred = svm2.predict(X_test_selected)"
   ]
  },
  {
   "cell_type": "code",
   "execution_count": 25,
   "id": "a6fc94ff",
   "metadata": {},
   "outputs": [
    {
     "data": {
      "image/png": "[encoded data removed]",
      "text/plain": [
       "<Figure size 640x480 with 2 Axes>"
      ]
     },
     "metadata": {},
     "output_type": "display_data"
    }
   ],
   "source": [
    "# Matriz de Confusión\n",
    "cm = confusion_matrix(y_test, y_pred)\n",
    "cm_display = ConfusionMatrixDisplay(confusion_matrix = cm, display_labels = ['Low', 'Medium', 'High'])\n",
    "cm_display.plot()\n",
    "plt.title('Confusion Matrix')\n",
    "plt.show()"
   ]
  },
  {
   "cell_type": "markdown",
   "id": "96ee2915",
   "metadata": {},
   "source": [
    "Ahora, nuestro modelo predice de una manera excelente la clase Low y Medium, mientras que comete algunos errores en High."
   ]
  },
  {
   "cell_type": "code",
   "execution_count": 26,
   "id": "64699eba",
   "metadata": {},
   "outputs": [
    {
     "name": "stdout",
     "output_type": "stream",
     "text": [
      "Exactitud (Accuracy): 0.9130\n",
      "Precisión (Precision): 0.9233\n",
      "Sensibilidad (Recall): 0.9130\n",
      "F1-Score: 0.9096\n"
     ]
    }
   ],
   "source": [
    "# Métricas de Performance\n",
    "print(f\"Exactitud (Accuracy): {accuracy_score(y_test, y_pred):.4f}\")\n",
    "print(f\"Precisión (Precision): {precision_score(y_test, y_pred, average='weighted'):.4f}\")\n",
    "print(f\"Sensibilidad (Recall): {recall_score(y_test, y_pred, average='weighted'):.4f}\")\n",
    "print(f\"F1-Score: {f1_score(y_test, y_pred, average='weighted'):.4f}\")"
   ]
  },
  {
   "cell_type": "markdown",
   "id": "4d96f825",
   "metadata": {},
   "source": [
    "Con la estandarización, feature selection con RFE y SVC con rbf kernel, nuestro modelo obtiene una precisión de 0.91, lo cual no es tan distante de la F1-score."
   ]
  },
  {
   "cell_type": "markdown",
   "id": "df48b331",
   "metadata": {},
   "source": [
    "## <font color= #4783bf> SVC con Doble Selección de Variables y Normalización </font>"
   ]
  },
  {
   "cell_type": "markdown",
   "id": "c63d8572",
   "metadata": {},
   "source": [
    "Ahora, procederemos a hacer una feature selection con la varianza, normalizar los datos, realizar una transformación LDA y finalmente realizar el modelo SVC:"
   ]
  },
  {
   "cell_type": "code",
   "execution_count": 27,
   "id": "b3fe067e",
   "metadata": {},
   "outputs": [],
   "source": [
    "preprocessor_svm3 = Pipeline(steps=[\n",
    "    ('feature_selection', VarianceThreshold()),\n",
    "    ('normalizer', Normalizer()),\n",
    "    ('dim_reduction', LDA())\n",
    "    ])\n",
    "\n",
    "X_train_transformed = preprocessor_svm3.fit_transform(X_train, y_train)\n",
    "X_test_transformed = preprocessor_svm3.transform(X_test)"
   ]
  },
  {
   "cell_type": "code",
   "execution_count": 28,
   "id": "73913a47",
   "metadata": {},
   "outputs": [],
   "source": [
    "# Le colocamos una penalización\n",
    "svm3 = SVC(kernel='linear', C=0.5, \n",
    "           ) \n",
    "\n",
    "svm3.fit(X_train_transformed, y_train)\n",
    "y_pred = svm3.predict(X_test_transformed)"
   ]
  },
  {
   "cell_type": "code",
   "execution_count": 29,
   "id": "6611409a",
   "metadata": {},
   "outputs": [
    {
     "data": {
      "image/png": "[encoded data removed]",
      "text/plain": [
       "<Figure size 640x480 with 2 Axes>"
      ]
     },
     "metadata": {},
     "output_type": "display_data"
    }
   ],
   "source": [
    "# Matriz de Confusión\n",
    "cm = confusion_matrix(y_test, y_pred)\n",
    "cm_display = ConfusionMatrixDisplay(confusion_matrix = cm, display_labels = ['Low', 'Medium', 'High'])\n",
    "cm_display.plot()\n",
    "plt.title('Confusion Matrix')\n",
    "plt.show()"
   ]
  },
  {
   "cell_type": "markdown",
   "id": "79524741",
   "metadata": {},
   "source": [
    "Nuestro modelo obtiene resultados similares al modelo anterior, sin embargo, los errores ahora están distribuidos en la clase de Low y High. Continúa prediciendo de manera acertada Medium."
   ]
  },
  {
   "cell_type": "code",
   "execution_count": 30,
   "id": "2f8f8342",
   "metadata": {},
   "outputs": [
    {
     "name": "stdout",
     "output_type": "stream",
     "text": [
      "Exactitud (Accuracy): 0.9130\n",
      "Precisión (Precision): 0.9130\n",
      "Sensibilidad (Recall): 0.9130\n",
      "F1-Score: 0.9130\n"
     ]
    }
   ],
   "source": [
    "# Métricas de Performance\n",
    "print(f\"Exactitud (Accuracy): {accuracy_score(y_test, y_pred):.4f}\")\n",
    "print(f\"Precisión (Precision): {precision_score(y_test, y_pred, average='weighted'):.4f}\")\n",
    "print(f\"Sensibilidad (Recall): {recall_score(y_test, y_pred, average='weighted'):.4f}\")\n",
    "print(f\"F1-Score: {f1_score(y_test, y_pred, average='weighted'):.4f}\")"
   ]
  },
  {
   "cell_type": "markdown",
   "id": "6533eaab",
   "metadata": {},
   "source": [
    "Debido a la distribución más uniforme de nuestros errores, el modelo obtiene una score universal de 0.913"
   ]
  },
  {
   "cell_type": "markdown",
   "id": "c03823c3",
   "metadata": {},
   "source": [
    "## <font color= #4783bf> Visualización </font>"
   ]
  },
  {
   "cell_type": "markdown",
   "id": "c971dd6c",
   "metadata": {},
   "source": [
    "Para visualizar nuestros datos y el hiperplano generado, utilizaremos el último modelo. No solo porque el LDA facilita la visualización, sino también porque el LDA nos permite combinar los efectos de múltiples features. De esta manera, conseguimos un modelo de \"2 variables\", que combina los efectos de todas las variables. "
   ]
  },
  {
   "cell_type": "code",
   "execution_count": 58,
   "id": "348323a0",
   "metadata": {},
   "outputs": [
    {
     "data": {
      "image/png": "[encoded data removed]",
      "text/plain": [
       "<Figure size 1400x600 with 2 Axes>"
      ]
     },
     "metadata": {},
     "output_type": "display_data"
    }
   ],
   "source": [
    "inverse_label_map = {v: k for k, v in label_map.items()}\n",
    "\n",
    "# Grid for Decision Lines\n",
    "x_min, x_max = X_test_transformed[:, 0].min() - 1, X_test_transformed[:, 0].max() + 1\n",
    "y_min, y_max = X_test_transformed[:, 1].min() - 1, X_test_transformed[:, 1].max() + 1\n",
    "xx, yy = np.meshgrid(np.linspace(x_min, x_max, 500),\n",
    "                     np.linspace(y_min, y_max, 500))\n",
    "grid = np.c_[xx.ravel(), yy.ravel()]\n",
    "Z_labels = svm3.predict(grid)\n",
    "Z_numeric = np.vectorize(inverse_label_map.get)(Z_labels).reshape(xx.shape)\n",
    "\n",
    "fig, axes = plt.subplots(1, 2, figsize=(14, 6))\n",
    "\n",
    "# Real Data\n",
    "X_truth_df = pd.DataFrame(X_test_transformed, columns=['LD1', 'LD2'])\n",
    "X_truth_df['True Class'] = y_test.loc[X_test.index].reset_index(drop=True)\n",
    "\n",
    "sns.scatterplot(data=X_truth_df, x='LD1', y='LD2', hue='True Class',\n",
    "                palette=custom_palette, ax=axes[0], s=60, edgecolor='k')\n",
    "axes[0].set_title('True Classes')\n",
    "axes[0].set_xlabel('LD1')\n",
    "axes[0].set_ylabel('LD2')\n",
    "\n",
    "# Predictions\n",
    "X_pred_df = pd.DataFrame(X_test_transformed, columns=['LD1', 'LD2'])\n",
    "X_pred_df['Predicted Class'] = y_pred\n",
    "\n",
    "sns.scatterplot(data=X_pred_df, x='LD1', y='LD2', hue='Predicted Class',\n",
    "                palette=custom_palette, ax=axes[1], s=60, edgecolor='k')\n",
    "axes[1].set_title('SVC with Lin Kernel - Predicted Classes')\n",
    "axes[1].set_xlabel('LD1')\n",
    "axes[1].set_ylabel('LD2')\n",
    "\n",
    "# Drawing the Decision Lines\n",
    "for ax in axes:\n",
    "    ax.contour(xx, yy, Z_numeric, levels=[0.5, 1.5], colors='k', linestyles='--')\n",
    "\n",
    "plt.tight_layout()\n",
    "plt.show()"
   ]
  },
  {
   "cell_type": "markdown",
   "id": "081f9c67",
   "metadata": {},
   "source": [
    "Como podemos ver, nuestro modelo divide claramente a las clases, y gracias al LDA, puede hacerlo con un kernel lineal. Debido a que tenemos un poco de ruido en las clases, los 2 errores que comete el SVC no parecen ser por una deficiencia del modelo, sino generada por el ruido."
   ]
  },
  {
   "cell_type": "markdown",
   "id": "c07aadea",
   "metadata": {},
   "source": [
    "En base a las gráficas, podemos observar que las transformaciones realizadas permiten que nuestro modelo diferencíe de buena manera nuestras clases. Además, nos facilita la visualización."
   ]
  },
  {
   "cell_type": "code",
   "execution_count": 60,
   "id": "3458a89f",
   "metadata": {},
   "outputs": [
    {
     "data": {
      "image/png": "[encoded data removed]",
      "text/plain": [
       "<Figure size 700x500 with 1 Axes>"
      ]
     },
     "metadata": {},
     "output_type": "display_data"
    }
   ],
   "source": [
    "fig, axes = plt.subplots(1, 1, figsize=(7, 5))\n",
    "\n",
    "# Plot values\n",
    "X_truth_df = pd.DataFrame(X_train_transformed, columns=['LD1', 'LD2'])\n",
    "X_truth_df['True Class'] = y_train.loc[X_train.index].reset_index(drop=True)\n",
    "\n",
    "sns.scatterplot(data=X_truth_df, x='LD1', y='LD2', hue='True Class', palette=custom_palette, ax=axes, s=60, edgecolor='k')\n",
    "axes.set_title('Train Data')\n",
    "axes.set_xlabel('LD1')\n",
    "axes.set_ylabel('LD2')\n",
    "\n",
    "plt.tight_layout()\n",
    "plt.show()"
   ]
  },
  {
   "cell_type": "markdown",
   "id": "94524629",
   "metadata": {},
   "source": [
    "Finalmente, para observar los datos con los que entrenó nuestro modelo, graficamos los componentes y las clases de nuestro Train Split. Como podemos ver, las clases están lo suficientemente separadas, pero observamos algo de ruido que puede afectar a nuestro modelo, incluso aunque se mitigó durante las primeras etapas del proyecto."
   ]
  },
  {
   "cell_type": "markdown",
   "id": "7027a84b",
   "metadata": {},
   "source": [
    "---\n",
    "\n",
    "# <font color= #79b0e9> **New Test Data** </font> "
   ]
  },
  {
   "cell_type": "code",
   "execution_count": null,
   "id": "110de60a",
   "metadata": {},
   "outputs": [
    {
     "name": "stdout",
     "output_type": "stream",
     "text": [
      "Ingresa la información correspondiente al nuevo dato, separa los datos con comas:\n",
      "Age | Sex | TCh | HCh | LCh | Tr | BPS | Sm | Diabetes\n",
      "\n",
      "Las predicciones para los datos ingresados son:\n",
      "Para el dato 1 (Age 33): Low\n",
      "Para el dato 2 (Age 56): High\n"
     ]
    }
   ],
   "source": [
    "def pred_new_data():\n",
    "    # Ingresar los nuevos datos\n",
    "    new_data = []\n",
    "\n",
    "    print('Ingresa la información correspondiente al nuevo dato, separa los datos con comas:')\n",
    "    print('Age | Sex | TCh | HCh | LCh | Tr | BPS | Sm | Diabetes')\n",
    "\n",
    "    while True:\n",
    "        dato = input(\"\")  \n",
    "\n",
    "        if dato == \"\":\n",
    "            break\n",
    "\n",
    "        new_data.append(dato.split(','))\n",
    "\n",
    "    # Hacer el dataframe\n",
    "    df = pd.DataFrame(new_data, columns=['Age', 'Sex', 'TCh', 'HCh', 'LCh', 'Tr', 'BPS', 'Sm', 'Diabetes'])\n",
    "\n",
    "    # Codificar las variables\n",
    "    df['Sex'] = df['Sex'].map({'Female': 0.0, 'Male': 1.0})\n",
    "    df['Diabetes'] = df['Diabetes'].map({'No': 0.0, 'Yes': 1.0})\n",
    "    df['Sm'] = df['Sm'].map({'Non-smoker': 0.0, 'Smoker': 1.0})\n",
    "\n",
    "    # Transformar los datos\n",
    "    test_transformed = preprocessor_svm3.transform(df)\n",
    "    predictions = svm3.predict(test_transformed)\n",
    "    \n",
    "    # Predecir\n",
    "    print(\"\\nLas predicciones para los datos ingresados son:\")\n",
    "    for i, pred in enumerate(predictions):\n",
    "        print(f\"Para el dato {i+1}: {pred}\")\n",
    "\n",
    "pred_new_data()"
   ]
  },
  {
   "cell_type": "code",
   "execution_count": null,
   "id": "b6f73802",
   "metadata": {},
   "outputs": [],
   "source": [
    "test = pd.read_csv('data/test.csv')\n",
    "test['Sex'] = test['Sex'].map({'Female': 0.0, 'Male': 1.0})\n",
    "test['Diabetes'] = test['Diabetes'].map({'No': 0.0, 'Yes': 1.0})\n",
    "test['Sm'] = test['Sm'].map({'Non-smoker': 0.0, 'Smoker': 1.0})\n",
    "test"
   ]
  }
 ],
 "metadata": {
  "kernelspec": {
   "display_name": "iteso",
   "language": "python",
   "name": "python3"
  },
  "language_info": {
   "codemirror_mode": {
    "name": "ipython",
    "version": 3
   },
   "file_extension": ".py",
   "mimetype": "text/x-python",
   "name": "python",
   "nbconvert_exporter": "python",
   "pygments_lexer": "ipython3",
   "version": "3.10.14"
  }
 },
 "nbformat": 4,
 "nbformat_minor": 5
}
