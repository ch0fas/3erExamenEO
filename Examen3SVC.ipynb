{
 "cells": [
  {
   "cell_type": "markdown",
   "id": "d1162d8b",
   "metadata": {},
   "source": [
    "# <font color= #79b0e9> **Examen Parcial 3** </font> \n",
    "\n",
    "Sofía Maldonado García\n",
    "\n",
    "Viviana Toledo De la Fuente\n",
    "\n",
    "Iván Morales"
   ]
  },
  {
   "cell_type": "code",
   "execution_count": 27,
   "id": "b54aaf7e",
   "metadata": {},
   "outputs": [],
   "source": [
    "# Librerías Generales\n",
    "import numpy as np\n",
    "import pandas as pd\n",
    "\n",
    "# Gráficas\n",
    "import matplotlib.pyplot as plt\n",
    "from matplotlib.patches import Patch\n",
    "import seaborn as sns\n",
    "import plotly.express as px\n",
    "import plotly.graph_objects as go\n",
    "\n",
    "# Modelado\n",
    "from sklearn.svm import SVC\n",
    "from sklearn.linear_model import LogisticRegression\n",
    "\n",
    "# Métricas\n",
    "from sklearn.metrics import accuracy_score, precision_score, recall_score, f1_score, confusion_matrix, ConfusionMatrixDisplay, classification_report\n",
    "\n",
    "# Tratamiento de Datos\n",
    "from sklearn.model_selection import train_test_split, GridSearchCV\n",
    "from sklearn.preprocessing import StandardScaler, Normalizer\n",
    "from sklearn.pipeline import Pipeline\n",
    "from sklearn.feature_selection import VarianceThreshold, RFE\n",
    "from sklearn.discriminant_analysis import LinearDiscriminantAnalysis as LDA"
   ]
  },
  {
   "cell_type": "markdown",
   "id": "5b9cc84e",
   "metadata": {},
   "source": [
    "---"
   ]
  },
  {
   "cell_type": "markdown",
   "id": "00791040",
   "metadata": {},
   "source": [
    "# <font color= #79b0e9> **Análisis Exploratorio de Datos** </font> "
   ]
  },
  {
   "cell_type": "code",
   "execution_count": 28,
   "id": "4f3e7a79",
   "metadata": {},
   "outputs": [
    {
     "name": "stdout",
     "output_type": "stream",
     "text": [
      " Tamaño del dataset: (119, 10)\n"
     ]
    },
    {
     "data": {
      "application/vnd.microsoft.datawrangler.viewer.v0+json": {
       "columns": [
        {
         "name": "index",
         "rawType": "int64",
         "type": "integer"
        },
        {
         "name": "Age",
         "rawType": "int64",
         "type": "integer"
        },
        {
         "name": "Sex",
         "rawType": "object",
         "type": "string"
        },
        {
         "name": "TCh",
         "rawType": "int64",
         "type": "integer"
        },
        {
         "name": "HCh",
         "rawType": "int64",
         "type": "integer"
        },
        {
         "name": "LCh",
         "rawType": "int64",
         "type": "integer"
        },
        {
         "name": "Tr",
         "rawType": "int64",
         "type": "integer"
        },
        {
         "name": "BPS",
         "rawType": "int64",
         "type": "integer"
        },
        {
         "name": "Sm",
         "rawType": "object",
         "type": "string"
        },
        {
         "name": "Diabetes",
         "rawType": "object",
         "type": "string"
        },
        {
         "name": "Pred",
         "rawType": "object",
         "type": "string"
        }
       ],
       "conversionMethod": "pd.DataFrame",
       "ref": "0f859ccc-8d1f-4d03-907e-2ce5d912a807",
       "rows": [
        [
         "0",
         "50",
         "Male",
         "272",
         "68",
         "188",
         "82",
         "124",
         "Non-smoker",
         "No",
         "High"
        ],
        [
         "1",
         "29",
         "Female",
         "275",
         "68",
         "183",
         "84",
         "129",
         "Non-smoker",
         "No",
         "High"
        ],
        [
         "2",
         "50",
         "Male",
         "268",
         "55",
         "189",
         "111",
         "119",
         "Non-smoker",
         "No",
         "High"
        ],
        [
         "3",
         "78",
         "Female",
         "194",
         "50",
         "120",
         "94",
         "113",
         "Non-smoker",
         "No",
         "High"
        ],
        [
         "4",
         "63",
         "Male",
         "229",
         "35",
         "182",
         "214",
         "160",
         "Smoker",
         "Yes",
         "High"
        ]
       ],
       "shape": {
        "columns": 10,
        "rows": 5
       }
      },
      "text/html": [
       "<div>\n",
       "<style scoped>\n",
       "    .dataframe tbody tr th:only-of-type {\n",
       "        vertical-align: middle;\n",
       "    }\n",
       "\n",
       "    .dataframe tbody tr th {\n",
       "        vertical-align: top;\n",
       "    }\n",
       "\n",
       "    .dataframe thead th {\n",
       "        text-align: right;\n",
       "    }\n",
       "</style>\n",
       "<table border=\"1\" class=\"dataframe\">\n",
       "  <thead>\n",
       "    <tr style=\"text-align: right;\">\n",
       "      <th></th>\n",
       "      <th>Age</th>\n",
       "      <th>Sex</th>\n",
       "      <th>TCh</th>\n",
       "      <th>HCh</th>\n",
       "      <th>LCh</th>\n",
       "      <th>Tr</th>\n",
       "      <th>BPS</th>\n",
       "      <th>Sm</th>\n",
       "      <th>Diabetes</th>\n",
       "      <th>Pred</th>\n",
       "    </tr>\n",
       "  </thead>\n",
       "  <tbody>\n",
       "    <tr>\n",
       "      <th>0</th>\n",
       "      <td>50</td>\n",
       "      <td>Male</td>\n",
       "      <td>272</td>\n",
       "      <td>68</td>\n",
       "      <td>188</td>\n",
       "      <td>82</td>\n",
       "      <td>124</td>\n",
       "      <td>Non-smoker</td>\n",
       "      <td>No</td>\n",
       "      <td>High</td>\n",
       "    </tr>\n",
       "    <tr>\n",
       "      <th>1</th>\n",
       "      <td>29</td>\n",
       "      <td>Female</td>\n",
       "      <td>275</td>\n",
       "      <td>68</td>\n",
       "      <td>183</td>\n",
       "      <td>84</td>\n",
       "      <td>129</td>\n",
       "      <td>Non-smoker</td>\n",
       "      <td>No</td>\n",
       "      <td>High</td>\n",
       "    </tr>\n",
       "    <tr>\n",
       "      <th>2</th>\n",
       "      <td>50</td>\n",
       "      <td>Male</td>\n",
       "      <td>268</td>\n",
       "      <td>55</td>\n",
       "      <td>189</td>\n",
       "      <td>111</td>\n",
       "      <td>119</td>\n",
       "      <td>Non-smoker</td>\n",
       "      <td>No</td>\n",
       "      <td>High</td>\n",
       "    </tr>\n",
       "    <tr>\n",
       "      <th>3</th>\n",
       "      <td>78</td>\n",
       "      <td>Female</td>\n",
       "      <td>194</td>\n",
       "      <td>50</td>\n",
       "      <td>120</td>\n",
       "      <td>94</td>\n",
       "      <td>113</td>\n",
       "      <td>Non-smoker</td>\n",
       "      <td>No</td>\n",
       "      <td>High</td>\n",
       "    </tr>\n",
       "    <tr>\n",
       "      <th>4</th>\n",
       "      <td>63</td>\n",
       "      <td>Male</td>\n",
       "      <td>229</td>\n",
       "      <td>35</td>\n",
       "      <td>182</td>\n",
       "      <td>214</td>\n",
       "      <td>160</td>\n",
       "      <td>Smoker</td>\n",
       "      <td>Yes</td>\n",
       "      <td>High</td>\n",
       "    </tr>\n",
       "  </tbody>\n",
       "</table>\n",
       "</div>"
      ],
      "text/plain": [
       "   Age     Sex  TCh  HCh  LCh   Tr  BPS          Sm Diabetes  Pred\n",
       "0   50    Male  272   68  188   82  124  Non-smoker       No  High\n",
       "1   29  Female  275   68  183   84  129  Non-smoker       No  High\n",
       "2   50    Male  268   55  189  111  119  Non-smoker       No  High\n",
       "3   78  Female  194   50  120   94  113  Non-smoker       No  High\n",
       "4   63    Male  229   35  182  214  160      Smoker      Yes  High"
      ]
     },
     "execution_count": 28,
     "metadata": {},
     "output_type": "execute_result"
    }
   ],
   "source": [
    "df = pd.read_csv('data/train_data.csv')\n",
    "print(f' Tamaño del dataset: {df.shape}')\n",
    "df.head()"
   ]
  },
  {
   "cell_type": "markdown",
   "id": "64d9100b",
   "metadata": {},
   "source": [
    "Contamos con un dataset de 119 observaciones, 9 features y 1 target. \n",
    "\n",
    "El dataset contiene información relacionada con pacientes y la predisposición que tienen de sufrir un padecimiento en específico, basado en las características biométricas y comorbilidades de cada une."
   ]
  },
  {
   "cell_type": "code",
   "execution_count": 29,
   "id": "79242cbc",
   "metadata": {},
   "outputs": [
    {
     "name": "stdout",
     "output_type": "stream",
     "text": [
      "<class 'pandas.core.frame.DataFrame'>\n",
      "RangeIndex: 119 entries, 0 to 118\n",
      "Data columns (total 10 columns):\n",
      " #   Column    Non-Null Count  Dtype \n",
      "---  ------    --------------  ----- \n",
      " 0   Age       119 non-null    int64 \n",
      " 1   Sex       119 non-null    object\n",
      " 2   TCh       119 non-null    int64 \n",
      " 3   HCh       119 non-null    int64 \n",
      " 4   LCh       119 non-null    int64 \n",
      " 5   Tr        119 non-null    int64 \n",
      " 6   BPS       119 non-null    int64 \n",
      " 7   Sm        119 non-null    object\n",
      " 8   Diabetes  119 non-null    object\n",
      " 9   Pred      119 non-null    object\n",
      "dtypes: int64(6), object(4)\n",
      "memory usage: 9.4+ KB\n"
     ]
    }
   ],
   "source": [
    "df.info()"
   ]
  },
  {
   "cell_type": "markdown",
   "id": "50ab4660",
   "metadata": {},
   "source": [
    "Tenemos 6 features numéricas y 3 features categóricas (sex, smoking y diabetes). Tendremos que codificar estas variables para tomarlas en cuenta en nuestro modelo.\n",
    "\n",
    "Además, no contamos con valores nulos."
   ]
  },
  {
   "cell_type": "markdown",
   "id": "e9c72f87",
   "metadata": {},
   "source": [
    "## <font color= #4783bf> Variables Cualitativas </font>"
   ]
  },
  {
   "cell_type": "code",
   "execution_count": 30,
   "id": "51dd1e74",
   "metadata": {},
   "outputs": [
    {
     "data": {
      "image/png": "[encoded data removed]",
      "text/plain": [
       "<Figure size 640x480 with 1 Axes>"
      ]
     },
     "metadata": {},
     "output_type": "display_data"
    }
   ],
   "source": [
    "sns.countplot(x='Pred', data=df)\n",
    "plt.title('Predisposición a la Enfermedad')\n",
    "plt.show()"
   ]
  },
  {
   "cell_type": "markdown",
   "id": "33d4eb8a",
   "metadata": {},
   "source": [
    "Nuestras clases no presentan un desbalanceo severo, lo que es deseable para predecir los tres niveles."
   ]
  },
  {
   "cell_type": "code",
   "execution_count": 31,
   "id": "a0776378",
   "metadata": {},
   "outputs": [
    {
     "name": "stdout",
     "output_type": "stream",
     "text": [
      "{'Male': 60, 'Female': 59}\n"
     ]
    },
    {
     "data": {
      "image/png": "[encoded data removed]",
      "text/plain": [
       "<Figure size 640x480 with 1 Axes>"
      ]
     },
     "metadata": {},
     "output_type": "display_data"
    }
   ],
   "source": [
    "# Función para graficar variables cualitativas\n",
    "def grafica_cualitativa(var, var_name):\n",
    "    pd.crosstab(var, df.Pred).plot(kind='bar')\n",
    "    # Estética\n",
    "    plt.title(f'Predisposición por {var_name}')\n",
    "    plt.xlabel(f'{var_name}')\n",
    "    plt.ylabel('Personas')\n",
    "    print(var.value_counts().to_dict())\n",
    "\n",
    "grafica_cualitativa(df.Sex, 'Sexo')"
   ]
  },
  {
   "cell_type": "markdown",
   "id": "e8e7184e",
   "metadata": {},
   "source": [
    "Las categorías de Hombre y Mujer también están balanceadas. Además, observamos que en base a la muestra, las mujeres en su mayoría tienen una predisposición media a la enfermedad, mientras que los hombres están un poco más polarizados, pues tienen la misma probabilidad de tener una predisposición baja o alta."
   ]
  },
  {
   "cell_type": "code",
   "execution_count": 32,
   "id": "b821a12f",
   "metadata": {},
   "outputs": [
    {
     "name": "stdout",
     "output_type": "stream",
     "text": [
      "{'No': 112, 'Yes': 7}\n"
     ]
    },
    {
     "data": {
      "image/png": "[encoded data removed]",
      "text/plain": [
       "<Figure size 640x480 with 1 Axes>"
      ]
     },
     "metadata": {},
     "output_type": "display_data"
    }
   ],
   "source": [
    "grafica_cualitativa(df.Diabetes, 'Diabetes')"
   ]
  },
  {
   "cell_type": "markdown",
   "id": "f7b53960",
   "metadata": {},
   "source": [
    "No tener diabetes no parece tener mucho efecto en la predisposición a desarrollar el padecimiento. Sin embargo, es muy probable que personas con diabetes padezcan la enfermedad."
   ]
  },
  {
   "cell_type": "code",
   "execution_count": 33,
   "id": "4250484e",
   "metadata": {},
   "outputs": [
    {
     "name": "stdout",
     "output_type": "stream",
     "text": [
      "{'Non-smoker': 106, 'Smoker': 13}\n"
     ]
    },
    {
     "data": {
      "image/png": "[encoded data removed]",
      "text/plain": [
       "<Figure size 640x480 with 1 Axes>"
      ]
     },
     "metadata": {},
     "output_type": "display_data"
    }
   ],
   "source": [
    "grafica_cualitativa(df.Sm, 'Fumar')"
   ]
  },
  {
   "cell_type": "markdown",
   "id": "2c6487de",
   "metadata": {},
   "source": [
    "De nuevo, las personas que no fuman tienen prediposiciones mixtas de padecer la enfermedad. Pero es MUY probable que les fumadores desarrollen el padecimiento."
   ]
  },
  {
   "cell_type": "markdown",
   "id": "1cd04010",
   "metadata": {},
   "source": [
    "## <font color= #4783bf> Variables Cuantitativas </font>"
   ]
  },
  {
   "cell_type": "code",
   "execution_count": 34,
   "id": "4e49df1f",
   "metadata": {},
   "outputs": [
    {
     "data": {
      "application/vnd.microsoft.datawrangler.viewer.v0+json": {
       "columns": [
        {
         "name": "index",
         "rawType": "object",
         "type": "string"
        },
        {
         "name": "Age",
         "rawType": "float64",
         "type": "float"
        },
        {
         "name": "TCh",
         "rawType": "float64",
         "type": "float"
        },
        {
         "name": "HCh",
         "rawType": "float64",
         "type": "float"
        },
        {
         "name": "LCh",
         "rawType": "float64",
         "type": "float"
        },
        {
         "name": "Tr",
         "rawType": "float64",
         "type": "float"
        },
        {
         "name": "BPS",
         "rawType": "float64",
         "type": "float"
        }
       ],
       "conversionMethod": "pd.DataFrame",
       "ref": "4bceee51-cd6b-4bbe-8810-910fcd49c6b9",
       "rows": [
        [
         "count",
         "119.0",
         "119.0",
         "119.0",
         "119.0",
         "119.0",
         "119.0"
        ],
        [
         "mean",
         "53.36974789915966",
         "224.54621848739495",
         "57.739495798319325",
         "147.26050420168067",
         "132.12605042016807",
         "129.8235294117647"
        ],
        [
         "std",
         "16.0960388569691",
         "37.48146387061293",
         "11.393919122232054",
         "39.22846212154629",
         "60.79955321839758",
         "14.55011623159558"
        ],
        [
         "min",
         "25.0",
         "160.0",
         "31.0",
         "67.0",
         "80.0",
         "111.0"
        ],
        [
         "25%",
         "41.0",
         "188.0",
         "50.5",
         "115.0",
         "83.5",
         "119.0"
        ],
        [
         "50%",
         "55.0",
         "227.0",
         "62.0",
         "150.0",
         "111.0",
         "127.0"
        ],
        [
         "75%",
         "68.5",
         "259.5",
         "68.0",
         "181.0",
         "159.0",
         "138.0"
        ],
        [
         "max",
         "79.0",
         "277.0",
         "69.0",
         "220.0",
         "298.0",
         "168.0"
        ]
       ],
       "shape": {
        "columns": 6,
        "rows": 8
       }
      },
      "text/html": [
       "<div>\n",
       "<style scoped>\n",
       "    .dataframe tbody tr th:only-of-type {\n",
       "        vertical-align: middle;\n",
       "    }\n",
       "\n",
       "    .dataframe tbody tr th {\n",
       "        vertical-align: top;\n",
       "    }\n",
       "\n",
       "    .dataframe thead th {\n",
       "        text-align: right;\n",
       "    }\n",
       "</style>\n",
       "<table border=\"1\" class=\"dataframe\">\n",
       "  <thead>\n",
       "    <tr style=\"text-align: right;\">\n",
       "      <th></th>\n",
       "      <th>Age</th>\n",
       "      <th>TCh</th>\n",
       "      <th>HCh</th>\n",
       "      <th>LCh</th>\n",
       "      <th>Tr</th>\n",
       "      <th>BPS</th>\n",
       "    </tr>\n",
       "  </thead>\n",
       "  <tbody>\n",
       "    <tr>\n",
       "      <th>count</th>\n",
       "      <td>119.000000</td>\n",
       "      <td>119.000000</td>\n",
       "      <td>119.000000</td>\n",
       "      <td>119.000000</td>\n",
       "      <td>119.000000</td>\n",
       "      <td>119.000000</td>\n",
       "    </tr>\n",
       "    <tr>\n",
       "      <th>mean</th>\n",
       "      <td>53.369748</td>\n",
       "      <td>224.546218</td>\n",
       "      <td>57.739496</td>\n",
       "      <td>147.260504</td>\n",
       "      <td>132.126050</td>\n",
       "      <td>129.823529</td>\n",
       "    </tr>\n",
       "    <tr>\n",
       "      <th>std</th>\n",
       "      <td>16.096039</td>\n",
       "      <td>37.481464</td>\n",
       "      <td>11.393919</td>\n",
       "      <td>39.228462</td>\n",
       "      <td>60.799553</td>\n",
       "      <td>14.550116</td>\n",
       "    </tr>\n",
       "    <tr>\n",
       "      <th>min</th>\n",
       "      <td>25.000000</td>\n",
       "      <td>160.000000</td>\n",
       "      <td>31.000000</td>\n",
       "      <td>67.000000</td>\n",
       "      <td>80.000000</td>\n",
       "      <td>111.000000</td>\n",
       "    </tr>\n",
       "    <tr>\n",
       "      <th>25%</th>\n",
       "      <td>41.000000</td>\n",
       "      <td>188.000000</td>\n",
       "      <td>50.500000</td>\n",
       "      <td>115.000000</td>\n",
       "      <td>83.500000</td>\n",
       "      <td>119.000000</td>\n",
       "    </tr>\n",
       "    <tr>\n",
       "      <th>50%</th>\n",
       "      <td>55.000000</td>\n",
       "      <td>227.000000</td>\n",
       "      <td>62.000000</td>\n",
       "      <td>150.000000</td>\n",
       "      <td>111.000000</td>\n",
       "      <td>127.000000</td>\n",
       "    </tr>\n",
       "    <tr>\n",
       "      <th>75%</th>\n",
       "      <td>68.500000</td>\n",
       "      <td>259.500000</td>\n",
       "      <td>68.000000</td>\n",
       "      <td>181.000000</td>\n",
       "      <td>159.000000</td>\n",
       "      <td>138.000000</td>\n",
       "    </tr>\n",
       "    <tr>\n",
       "      <th>max</th>\n",
       "      <td>79.000000</td>\n",
       "      <td>277.000000</td>\n",
       "      <td>69.000000</td>\n",
       "      <td>220.000000</td>\n",
       "      <td>298.000000</td>\n",
       "      <td>168.000000</td>\n",
       "    </tr>\n",
       "  </tbody>\n",
       "</table>\n",
       "</div>"
      ],
      "text/plain": [
       "              Age         TCh         HCh         LCh          Tr         BPS\n",
       "count  119.000000  119.000000  119.000000  119.000000  119.000000  119.000000\n",
       "mean    53.369748  224.546218   57.739496  147.260504  132.126050  129.823529\n",
       "std     16.096039   37.481464   11.393919   39.228462   60.799553   14.550116\n",
       "min     25.000000  160.000000   31.000000   67.000000   80.000000  111.000000\n",
       "25%     41.000000  188.000000   50.500000  115.000000   83.500000  119.000000\n",
       "50%     55.000000  227.000000   62.000000  150.000000  111.000000  127.000000\n",
       "75%     68.500000  259.500000   68.000000  181.000000  159.000000  138.000000\n",
       "max     79.000000  277.000000   69.000000  220.000000  298.000000  168.000000"
      ]
     },
     "execution_count": 34,
     "metadata": {},
     "output_type": "execute_result"
    }
   ],
   "source": [
    "df.describe()"
   ]
  },
  {
   "cell_type": "markdown",
   "id": "ab683517",
   "metadata": {},
   "source": [
    "Las variables numéricas tienen escalas algo diferentes, si bien no tan excesivas. "
   ]
  },
  {
   "cell_type": "code",
   "execution_count": 35,
   "id": "a34c13a4",
   "metadata": {},
   "outputs": [
    {
     "data": {
      "image/png": "[encoded data removed]",
      "text/plain": [
       "<Figure size 1500x800 with 6 Axes>"
      ]
     },
     "metadata": {},
     "output_type": "display_data"
    }
   ],
   "source": [
    "# Filtrar variables numéricas\n",
    "numeric_vars = df.select_dtypes(include='number').columns.tolist()\n",
    "\n",
    "# Crear grid 2x3\n",
    "fig, axes = plt.subplots(2, 3, figsize=(15, 8))\n",
    "axes = axes.flatten()\n",
    "\n",
    "# Paleta de colores\n",
    "palette = {'Low': '#86bf55', 'Medium': '#ffc300', 'High': '#c53636'}\n",
    "\n",
    "# Gráficos\n",
    "for i, var in enumerate(numeric_vars):\n",
    "    ax = axes[i]\n",
    "    sns.kdeplot(data=df, x=var, hue='Pred', fill=True, common_norm=False, alpha=0.7, ax=ax, palette=palette)\n",
    "    ax.set_title(var)\n",
    "    ax.tick_params(axis='x', rotation=90)\n",
    "    ax.get_legend().remove()\n",
    "\n",
    "# Leyenda\n",
    "legend_patches = [Patch(color=color, label=label) for label, color in palette.items()]\n",
    "fig.legend(handles=legend_patches, title='Pred', loc='center right', bbox_to_anchor=(1.12, 0.5))\n",
    "\n",
    "plt.tight_layout()\n",
    "plt.show()"
   ]
  },
  {
   "cell_type": "markdown",
   "id": "535af91a",
   "metadata": {},
   "source": [
    "Haciendo gráficas KDE para todas las variables numéricas con respecto a nuestras clases, podemos observar que la Edad, TCh y LCh no son variables con mucho poder predictivo. Sin embargo, las demás variables sí nos aportan discriminantes significativos para las clases.\n",
    "\n",
    "- TCh: Si cuentan con altos valores de esta variable, es probable que las personas tengan una baja predisposición a la enfermedad.\n",
    "\n",
    "- Tr: Los valores bajos de esta variable indican una probabilidad media-baja de padecer la enfermedad.\n",
    "\n",
    "- BPS: A partir de los 100-130 existe una probabilidad baja o media de contraer la enfermedad. Conforme aumenta este nivel, baja la probabilidad de no ser afectade."
   ]
  },
  {
   "cell_type": "code",
   "execution_count": 36,
   "id": "5b54f45d",
   "metadata": {},
   "outputs": [
    {
     "data": {
      "text/plain": [
       "<Axes: >"
      ]
     },
     "execution_count": 36,
     "metadata": {},
     "output_type": "execute_result"
    },
    {
     "data": {
      "image/png": "[encoded data removed]",
      "text/plain": [
       "<Figure size 640x480 with 1 Axes>"
      ]
     },
     "metadata": {},
     "output_type": "display_data"
    }
   ],
   "source": [
    "df.select_dtypes(include='number').boxplot()"
   ]
  },
  {
   "cell_type": "markdown",
   "id": "8730ab34",
   "metadata": {},
   "source": [
    "La variable Tr presenta bastantes outliers, los cuales pueden ser algo problemáticos."
   ]
  },
  {
   "cell_type": "code",
   "execution_count": 37,
   "id": "871f7a65",
   "metadata": {},
   "outputs": [
    {
     "data": {
      "application/vnd.microsoft.datawrangler.viewer.v0+json": {
       "columns": [
        {
         "name": "index",
         "rawType": "object",
         "type": "string"
        },
        {
         "name": "value",
         "rawType": "float64",
         "type": "float"
        },
        {
         "name": "skewness",
         "rawType": "object",
         "type": "string"
        }
       ],
       "conversionMethod": "pd.DataFrame",
       "ref": "093deb59-2e60-432f-8f3e-3cfa6f12d6d3",
       "rows": [
        [
         "Age",
         "-0.12",
         "Symmetric distribution"
        ],
        [
         "TCh",
         "-0.19",
         "Symmetric distribution"
        ],
        [
         "HCh",
         "-0.82",
         "Moderately skewed"
        ],
        [
         "LCh",
         "-0.21",
         "Symmetric distribution"
        ],
        [
         "Tr",
         "1.23",
         "Highly Skewed"
        ],
        [
         "BPS",
         "0.87",
         "Moderately skewed"
        ]
       ],
       "shape": {
        "columns": 2,
        "rows": 6
       }
      },
      "text/html": [
       "<div>\n",
       "<style scoped>\n",
       "    .dataframe tbody tr th:only-of-type {\n",
       "        vertical-align: middle;\n",
       "    }\n",
       "\n",
       "    .dataframe tbody tr th {\n",
       "        vertical-align: top;\n",
       "    }\n",
       "\n",
       "    .dataframe thead th {\n",
       "        text-align: right;\n",
       "    }\n",
       "</style>\n",
       "<table border=\"1\" class=\"dataframe\">\n",
       "  <thead>\n",
       "    <tr style=\"text-align: right;\">\n",
       "      <th></th>\n",
       "      <th>value</th>\n",
       "      <th>skewness</th>\n",
       "    </tr>\n",
       "  </thead>\n",
       "  <tbody>\n",
       "    <tr>\n",
       "      <th>Age</th>\n",
       "      <td>-0.12</td>\n",
       "      <td>Symmetric distribution</td>\n",
       "    </tr>\n",
       "    <tr>\n",
       "      <th>TCh</th>\n",
       "      <td>-0.19</td>\n",
       "      <td>Symmetric distribution</td>\n",
       "    </tr>\n",
       "    <tr>\n",
       "      <th>HCh</th>\n",
       "      <td>-0.82</td>\n",
       "      <td>Moderately skewed</td>\n",
       "    </tr>\n",
       "    <tr>\n",
       "      <th>LCh</th>\n",
       "      <td>-0.21</td>\n",
       "      <td>Symmetric distribution</td>\n",
       "    </tr>\n",
       "    <tr>\n",
       "      <th>Tr</th>\n",
       "      <td>1.23</td>\n",
       "      <td>Highly Skewed</td>\n",
       "    </tr>\n",
       "    <tr>\n",
       "      <th>BPS</th>\n",
       "      <td>0.87</td>\n",
       "      <td>Moderately skewed</td>\n",
       "    </tr>\n",
       "  </tbody>\n",
       "</table>\n",
       "</div>"
      ],
      "text/plain": [
       "     value                skewness\n",
       "Age  -0.12  Symmetric distribution\n",
       "TCh  -0.19  Symmetric distribution\n",
       "HCh  -0.82       Moderately skewed\n",
       "LCh  -0.21  Symmetric distribution\n",
       "Tr    1.23           Highly Skewed\n",
       "BPS   0.87       Moderately skewed"
      ]
     },
     "execution_count": 37,
     "metadata": {},
     "output_type": "execute_result"
    }
   ],
   "source": [
    "numeric = df.select_dtypes(include='number')\n",
    "\n",
    "# Calculo de la asimetria con pandas\n",
    "skewness = round(numeric.skew(),2)\n",
    "skewness = skewness.to_frame()\n",
    "skewness = skewness.rename(columns={0: \"value\"}) \n",
    "\n",
    "def f(x):\n",
    "    if x['value'] < -1 or x['value'] > 1: return 'Highly Skewed'\n",
    "    elif (x['value']<=0 and x['value']>=-0.5) or (x['value'] >=0 and x['value']<=0.5):\n",
    "        return 'Symmetric distribution'\n",
    "    else: return 'Moderately skewed'\n",
    "    \n",
    "skewness['skewness'] = skewness.apply(f, axis=1)\n",
    "\n",
    "skewness"
   ]
  },
  {
   "cell_type": "markdown",
   "id": "06b40e35",
   "metadata": {},
   "source": [
    "Debido a la presencia de outliers en Tr, aquella distribución está muy sesgada a la derecha. BPS y HCh están moderadamente sesgadas, a la derecha e izquierda, respectivamente. Lo anterior sugiere que, según el modelo, una transformación de datos no vendría mal. "
   ]
  },
  {
   "cell_type": "markdown",
   "id": "f226727b",
   "metadata": {},
   "source": [
    "## <font color= #4783bf> Codificación de Variables </font>"
   ]
  },
  {
   "cell_type": "markdown",
   "id": "093e4e11",
   "metadata": {},
   "source": [
    "Nuestras variables categóricas (Sexo, Diabetes y Fumadores) son variables binarias. Por lo tanto, basta con asignar 0's y 1's para codificar. "
   ]
  },
  {
   "cell_type": "code",
   "execution_count": 38,
   "id": "f5b3965f",
   "metadata": {},
   "outputs": [
    {
     "data": {
      "application/vnd.microsoft.datawrangler.viewer.v0+json": {
       "columns": [
        {
         "name": "index",
         "rawType": "int64",
         "type": "integer"
        },
        {
         "name": "Age",
         "rawType": "int64",
         "type": "integer"
        },
        {
         "name": "Sex",
         "rawType": "float64",
         "type": "float"
        },
        {
         "name": "TCh",
         "rawType": "int64",
         "type": "integer"
        },
        {
         "name": "HCh",
         "rawType": "int64",
         "type": "integer"
        },
        {
         "name": "LCh",
         "rawType": "int64",
         "type": "integer"
        },
        {
         "name": "Tr",
         "rawType": "int64",
         "type": "integer"
        },
        {
         "name": "BPS",
         "rawType": "int64",
         "type": "integer"
        },
        {
         "name": "Sm",
         "rawType": "float64",
         "type": "float"
        },
        {
         "name": "Diabetes",
         "rawType": "float64",
         "type": "float"
        },
        {
         "name": "Pred",
         "rawType": "object",
         "type": "string"
        }
       ],
       "conversionMethod": "pd.DataFrame",
       "ref": "f192eb4a-d292-429a-9a7c-3ef3e2fb42ca",
       "rows": [
        [
         "0",
         "50",
         "1.0",
         "272",
         "68",
         "188",
         "82",
         "124",
         "0.0",
         "0.0",
         "High"
        ],
        [
         "1",
         "29",
         "0.0",
         "275",
         "68",
         "183",
         "84",
         "129",
         "0.0",
         "0.0",
         "High"
        ],
        [
         "2",
         "50",
         "1.0",
         "268",
         "55",
         "189",
         "111",
         "119",
         "0.0",
         "0.0",
         "High"
        ],
        [
         "3",
         "78",
         "0.0",
         "194",
         "50",
         "120",
         "94",
         "113",
         "0.0",
         "0.0",
         "High"
        ],
        [
         "4",
         "63",
         "1.0",
         "229",
         "35",
         "182",
         "214",
         "160",
         "1.0",
         "1.0",
         "High"
        ]
       ],
       "shape": {
        "columns": 10,
        "rows": 5
       }
      },
      "text/html": [
       "<div>\n",
       "<style scoped>\n",
       "    .dataframe tbody tr th:only-of-type {\n",
       "        vertical-align: middle;\n",
       "    }\n",
       "\n",
       "    .dataframe tbody tr th {\n",
       "        vertical-align: top;\n",
       "    }\n",
       "\n",
       "    .dataframe thead th {\n",
       "        text-align: right;\n",
       "    }\n",
       "</style>\n",
       "<table border=\"1\" class=\"dataframe\">\n",
       "  <thead>\n",
       "    <tr style=\"text-align: right;\">\n",
       "      <th></th>\n",
       "      <th>Age</th>\n",
       "      <th>Sex</th>\n",
       "      <th>TCh</th>\n",
       "      <th>HCh</th>\n",
       "      <th>LCh</th>\n",
       "      <th>Tr</th>\n",
       "      <th>BPS</th>\n",
       "      <th>Sm</th>\n",
       "      <th>Diabetes</th>\n",
       "      <th>Pred</th>\n",
       "    </tr>\n",
       "  </thead>\n",
       "  <tbody>\n",
       "    <tr>\n",
       "      <th>0</th>\n",
       "      <td>50</td>\n",
       "      <td>1.0</td>\n",
       "      <td>272</td>\n",
       "      <td>68</td>\n",
       "      <td>188</td>\n",
       "      <td>82</td>\n",
       "      <td>124</td>\n",
       "      <td>0.0</td>\n",
       "      <td>0.0</td>\n",
       "      <td>High</td>\n",
       "    </tr>\n",
       "    <tr>\n",
       "      <th>1</th>\n",
       "      <td>29</td>\n",
       "      <td>0.0</td>\n",
       "      <td>275</td>\n",
       "      <td>68</td>\n",
       "      <td>183</td>\n",
       "      <td>84</td>\n",
       "      <td>129</td>\n",
       "      <td>0.0</td>\n",
       "      <td>0.0</td>\n",
       "      <td>High</td>\n",
       "    </tr>\n",
       "    <tr>\n",
       "      <th>2</th>\n",
       "      <td>50</td>\n",
       "      <td>1.0</td>\n",
       "      <td>268</td>\n",
       "      <td>55</td>\n",
       "      <td>189</td>\n",
       "      <td>111</td>\n",
       "      <td>119</td>\n",
       "      <td>0.0</td>\n",
       "      <td>0.0</td>\n",
       "      <td>High</td>\n",
       "    </tr>\n",
       "    <tr>\n",
       "      <th>3</th>\n",
       "      <td>78</td>\n",
       "      <td>0.0</td>\n",
       "      <td>194</td>\n",
       "      <td>50</td>\n",
       "      <td>120</td>\n",
       "      <td>94</td>\n",
       "      <td>113</td>\n",
       "      <td>0.0</td>\n",
       "      <td>0.0</td>\n",
       "      <td>High</td>\n",
       "    </tr>\n",
       "    <tr>\n",
       "      <th>4</th>\n",
       "      <td>63</td>\n",
       "      <td>1.0</td>\n",
       "      <td>229</td>\n",
       "      <td>35</td>\n",
       "      <td>182</td>\n",
       "      <td>214</td>\n",
       "      <td>160</td>\n",
       "      <td>1.0</td>\n",
       "      <td>1.0</td>\n",
       "      <td>High</td>\n",
       "    </tr>\n",
       "  </tbody>\n",
       "</table>\n",
       "</div>"
      ],
      "text/plain": [
       "   Age  Sex  TCh  HCh  LCh   Tr  BPS   Sm  Diabetes  Pred\n",
       "0   50  1.0  272   68  188   82  124  0.0       0.0  High\n",
       "1   29  0.0  275   68  183   84  129  0.0       0.0  High\n",
       "2   50  1.0  268   55  189  111  119  0.0       0.0  High\n",
       "3   78  0.0  194   50  120   94  113  0.0       0.0  High\n",
       "4   63  1.0  229   35  182  214  160  1.0       1.0  High"
      ]
     },
     "execution_count": 38,
     "metadata": {},
     "output_type": "execute_result"
    }
   ],
   "source": [
    "df['Sex'] = df['Sex'].map({'Female': 0.0, 'Male': 1.0})\n",
    "df['Diabetes'] = df['Diabetes'].map({'No': 0.0, 'Yes': 1.0})\n",
    "df['Sm'] = df['Sm'].map({'Non-smoker': 0.0, 'Smoker': 1.0})\n",
    "df.head()"
   ]
  },
  {
   "cell_type": "markdown",
   "id": "612c7ec5",
   "metadata": {},
   "source": [
    "## <font color= #4783bf> Preprocesamiento </font>"
   ]
  },
  {
   "cell_type": "markdown",
   "id": "1542bd8b",
   "metadata": {},
   "source": [
    "Con finalidad de observar nuestros datos, realizaremos una reducción de dimensionalidad con LDA:"
   ]
  },
  {
   "cell_type": "code",
   "execution_count": 40,
   "id": "89959412",
   "metadata": {},
   "outputs": [],
   "source": [
    "drop_ID = [75, 76, 77, 3, 80, 74, 0, ]\n",
    "\n",
    "# Seccionar los datos\n",
    "X = df.drop(columns='Pred')\n",
    "y = df['Pred']\n",
    "\n",
    "# Prunear los \"atípicos\"\n",
    "X_clean = X.drop(drop_ID)\n",
    "y_clean = y.drop(drop_ID)"
   ]
  },
  {
   "cell_type": "code",
   "execution_count": 41,
   "id": "d294aa2a",
   "metadata": {},
   "outputs": [
    {
     "data": {
      "application/vnd.plotly.v1+json": {
       "config": {
        "plotlyServerURL": "https://plot.ly"
       },
       "data": [
        {
         "customdata": [
          [
           0,
           "High"
          ],
          [
           1,
           "High"
          ],
          [
           2,
           "High"
          ],
          [
           3,
           "High"
          ],
          [
           4,
           "High"
          ],
          [
           5,
           "High"
          ],
          [
           6,
           "High"
          ],
          [
           7,
           "High"
          ],
          [
           8,
           "High"
          ],
          [
           9,
           "High"
          ],
          [
           10,
           "High"
          ],
          [
           11,
           "High"
          ],
          [
           12,
           "High"
          ],
          [
           13,
           "High"
          ],
          [
           14,
           "High"
          ],
          [
           15,
           "High"
          ],
          [
           16,
           "High"
          ],
          [
           17,
           "High"
          ],
          [
           18,
           "High"
          ],
          [
           19,
           "High"
          ],
          [
           20,
           "High"
          ],
          [
           21,
           "High"
          ],
          [
           22,
           "High"
          ],
          [
           23,
           "High"
          ],
          [
           24,
           "High"
          ],
          [
           25,
           "High"
          ],
          [
           26,
           "High"
          ],
          [
           27,
           "High"
          ],
          [
           28,
           "High"
          ],
          [
           29,
           "High"
          ],
          [
           30,
           "High"
          ],
          [
           31,
           "High"
          ],
          [
           32,
           "High"
          ],
          [
           33,
           "High"
          ],
          [
           34,
           "High"
          ],
          [
           35,
           "High"
          ],
          [
           36,
           "High"
          ],
          [
           37,
           "High"
          ]
         ],
         "hovertemplate": "True Class=%{customdata[1]}<br>LD1=%{x}<br>LD2=%{y}<br>Data ID=%{customdata[0]}<extra></extra>",
         "legendgroup": "High",
         "marker": {
          "color": "#f01d0f",
          "line": {
           "color": "DarkSlateGrey",
           "width": 1
          },
          "size": 8,
          "symbol": "circle"
         },
         "mode": "markers",
         "name": "High",
         "orientation": "v",
         "showlegend": true,
         "type": "scatter",
         "x": {
          "bdata": "cOixkb1v8T97lxCfnMjvP0m7S3pX5M8/n+9LllAa8D/QDVzyNEMQwNA2MsTDOfa/g2zT3FsDC8Ck86NQvJ3iv0c0YVvFzvG/WpI79VcR/b8Il0s9i8f6vxAbGEkgjNO/uemL1T7K9b8KlJGsK0j8vxzA4Wct7g3AJqmEWDiewL9NWxudG2cAwOkXDhdg2wbAiqzXELqMtL9ti/2yHCrxv5VBLQZc2gLAJp3OC0U35L9/AfW1bwP6v/iygulDdvO/OHAooj1T9b9tfIPKBq0HwIoXns8cR9u/4jtqc3EV+r8BEh5APM3lP/eT2bGSpQ3A7XAhinTd7r9f4wciSIffv+QPT3AqaAHA5pxY97Mu9r+gXRDYGhvhv00OZUcJe/i/IdFNFznRA8AgBVu9A+oDwA==",
          "dtype": "f8"
         },
         "xaxis": "x",
         "y": {
          "bdata": "ZaAy2U0S4L/GeJAjAni6PxLTYJkj4dM/BJC+X7GI8j/y3tz3nugBwK6b8Lx3P/O/KyTWgEMs6z9EDsOXnAruPzF9a7vslvq/9rYPjmLY9L/kDJcUUPf6v/qziqIGws2/viYTbhSW/r+s5LMXr5vKv+VcReJuHfa/4LSi7FII679zos+QBrHNPyjHgpAE3+e/5kUy1XiM67/Ax0EucAnjv0cZWB5CLd+/bYGdjwME07/s1r6m1uv2v9qk6JI9ceA/UMhazQf48z/tEovZYdHxP7vkR+waHeQ/lCGqJv8zBEDGycbVZqnOP4w77jdQYOi/mmJbTkxy47+PIdNFULnzv2AlvmdF+Pi/MLTFdIWduz97GjSeU+fiv+JrsmLYZvg/iVk2fqjA/T8qed4DoH3zPw==",
          "dtype": "f8"
         },
         "yaxis": "y"
        },
        {
         "customdata": [
          [
           38,
           "Low"
          ],
          [
           39,
           "Low"
          ],
          [
           40,
           "Low"
          ],
          [
           41,
           "Low"
          ],
          [
           42,
           "Low"
          ],
          [
           43,
           "Low"
          ],
          [
           44,
           "Low"
          ],
          [
           45,
           "Low"
          ],
          [
           46,
           "Low"
          ],
          [
           47,
           "Low"
          ],
          [
           48,
           "Low"
          ],
          [
           49,
           "Low"
          ],
          [
           50,
           "Low"
          ],
          [
           51,
           "Low"
          ],
          [
           52,
           "Low"
          ],
          [
           53,
           "Low"
          ],
          [
           54,
           "Low"
          ],
          [
           55,
           "Low"
          ],
          [
           56,
           "Low"
          ],
          [
           57,
           "Low"
          ],
          [
           58,
           "Low"
          ],
          [
           59,
           "Low"
          ],
          [
           60,
           "Low"
          ],
          [
           61,
           "Low"
          ],
          [
           62,
           "Low"
          ],
          [
           63,
           "Low"
          ],
          [
           64,
           "Low"
          ],
          [
           65,
           "Low"
          ],
          [
           66,
           "Low"
          ],
          [
           67,
           "Low"
          ],
          [
           68,
           "Low"
          ],
          [
           69,
           "Low"
          ],
          [
           70,
           "Low"
          ],
          [
           71,
           "Low"
          ],
          [
           72,
           "Low"
          ],
          [
           73,
           "Low"
          ],
          [
           74,
           "Low"
          ],
          [
           75,
           "Low"
          ],
          [
           76,
           "Low"
          ],
          [
           77,
           "Low"
          ]
         ],
         "hovertemplate": "True Class=%{customdata[1]}<br>LD1=%{x}<br>LD2=%{y}<br>Data ID=%{customdata[0]}<extra></extra>",
         "legendgroup": "Low",
         "marker": {
          "color": "#86bf55",
          "line": {
           "color": "DarkSlateGrey",
           "width": 1
          },
          "size": 8,
          "symbol": "circle"
         },
         "mode": "markers",
         "name": "Low",
         "orientation": "v",
         "showlegend": true,
         "type": "scatter",
         "x": {
          "bdata": "b2gybqY3+D+qDh1DS5X3PxamGZlNrfQ/HwzpTnq5+T8/3lM7cVLuPxzdtLSxe+U/rhK/9EHt9T8BHUYuQmz7P4F9vYPIF/o/vSgc3hE28z8/PoHHR5PzPxnU8ejlU/M/z1+Zjc998j++gPVJl+3pP+cMgxYdovI/B0aNgRq5+D9gIcob20z1P0i5QgKJV/U/eSPu3Tyr8z9tPZKp5vf2P18uhT5yxPY/4r7WX0Lo8j9IYM+YiIf6P5wM/EVnluk/vDp/0nnp7z85XR2b03v0P7Nd4Nj+/PY/i0DjkOlT/D+oWXE8ZtXuPxde3qm2n/M/PM/mwVyc+D+qhTGLwun2P8c4+nFGW/U/acvij4KM+D94dAGIxbL5Pw1Xj2/TQss/wvDaBWxy07996CX28WX9v/9wRRp4lPy/tWEBBRuoBMA=",
          "dtype": "f8"
         },
         "xaxis": "x",
         "y": {
          "bdata": "QoDEuX9exz+a4r/hOmDuv7ZGjXPnWsO/6vWDgVCZwj+e6/H6qhzYv/oEUnJHk8S/S1xXziOp8L/k6km5DkbKP5wyZlLUscg/9m2Jmj0z4L96Ej1QE0/tvz+Uc4XzdNa/6VmalE1E1L+CRpcecVfpv+JPLH3Ln7k/ytrIhg9igr/0EBok+fXyv4ASfAw4O+y/JbFyKkcm3T/SZVuBn7H1vykitBRVVPe/HJHYuuu/+b+OY0NrKHHnvx7TxVgMJee/FcwEOwNawz/U8yuhNOfVP345VdZYpOm/sIyI9AUQ1z8wp4oJuyHhvzhRR/nIsuq/B9Z7wLEMvL/gPTkXggWsP5K9ql1vqfG/IzlQxFZZ479gIKU6683RP99rX80XiNc/xXC8AYZP1z+mo6aOs3kGwG6g+PoZDOY/4NuauMRG9r8=",
          "dtype": "f8"
         },
         "yaxis": "y"
        },
        {
         "customdata": [
          [
           78,
           "Medium"
          ],
          [
           79,
           "Medium"
          ],
          [
           80,
           "Medium"
          ],
          [
           81,
           "Medium"
          ],
          [
           82,
           "Medium"
          ],
          [
           83,
           "Medium"
          ],
          [
           84,
           "Medium"
          ],
          [
           85,
           "Medium"
          ],
          [
           86,
           "Medium"
          ],
          [
           87,
           "Medium"
          ],
          [
           88,
           "Medium"
          ],
          [
           89,
           "Medium"
          ],
          [
           90,
           "Medium"
          ],
          [
           91,
           "Medium"
          ],
          [
           92,
           "Medium"
          ],
          [
           93,
           "Medium"
          ],
          [
           94,
           "Medium"
          ],
          [
           95,
           "Medium"
          ],
          [
           96,
           "Medium"
          ],
          [
           97,
           "Medium"
          ],
          [
           98,
           "Medium"
          ],
          [
           99,
           "Medium"
          ],
          [
           100,
           "Medium"
          ],
          [
           101,
           "Medium"
          ],
          [
           102,
           "Medium"
          ],
          [
           103,
           "Medium"
          ],
          [
           104,
           "Medium"
          ],
          [
           105,
           "Medium"
          ],
          [
           106,
           "Medium"
          ],
          [
           107,
           "Medium"
          ],
          [
           108,
           "Medium"
          ],
          [
           109,
           "Medium"
          ],
          [
           110,
           "Medium"
          ],
          [
           111,
           "Medium"
          ],
          [
           112,
           "Medium"
          ],
          [
           113,
           "Medium"
          ],
          [
           114,
           "Medium"
          ],
          [
           115,
           "Medium"
          ],
          [
           116,
           "Medium"
          ],
          [
           117,
           "Medium"
          ],
          [
           118,
           "Medium"
          ]
         ],
         "hovertemplate": "True Class=%{customdata[1]}<br>LD1=%{x}<br>LD2=%{y}<br>Data ID=%{customdata[0]}<extra></extra>",
         "legendgroup": "Medium",
         "marker": {
          "color": "#f0bc4c",
          "line": {
           "color": "DarkSlateGrey",
           "width": 1
          },
          "size": 8,
          "symbol": "circle"
         },
         "mode": "markers",
         "name": "Medium",
         "orientation": "v",
         "showlegend": true,
         "type": "scatter",
         "x": {
          "bdata": "NfHdckdH9T9UbUrI87bqPw6k8kjxTfk/IJ2YzaLz0j+klQJDpF3gv9eQmuslFts/qkVfAjpV6z9D/hmDanfjP40zcTl0kPI/WX/NmCft4D8UsyFEB/DSP0Z0zlU9VfQ/vHxfKtzY0r+WYOz4vpatP1cX7d+GZNa/hqfSMw4r2r/Yx4YBjli/v/C+xefDsbA/5nx6HOtx2L/IOZJ+FEnBPxzgl9WX+uI/j9j3mWp11L8o5qenTXzLv/kVQJ6oZdc/6i5cTvsLyb8lxwZYVnSxv+mkPf+fwec/N411GVus4z/XFwdmUjLbP1XWqQkIVPA/zmFZBKsr0L90jjPe0fjqPxlQDyfBu+4/rlKivPuyt7//eZP+sjnfP2J4u/NOL6k/L+Z2gSL5mT89sOU1FEDiP1jglmhWxuE/DEjyPtFr8b+X/pNj7+Lqvw==",
          "dtype": "f8"
         },
         "xaxis": "x",
         "y": {
          "bdata": "mPwVh7Fx4j86iSzINDrkvwbnk9KLlem/LXlw8JzlsL9zilqb8p8FQKs6osVq2fM/M0nkra7t0j/PqLZ++1TiP0btwkQmHc2/gR8wpD56+j9JDUl9Rq33v2Qv7zPnBcQ/aKS7GGXj3r9BvENKUnfSv1FNHXbuQfk/yZySLEZWCEDuczRRA67/P7oaeC2CcfM/OD1aUPmb+z/nLeaMmQbOP6W59mUZaNA/u/y1uNrwAECT922zKtL1P7c/C7Cje/E/v/XtqMMNBkDkk92vUZ30P1/w51taZ/C/1UAvLmLdnr905rknqomxP6fTIhAh3/c/9LQoPSK49j8yEA0SN6DUPyDfa1Y3Wdy/3pqJ185p4T9XTz0AzZXVP+pSeksus88/4NmdGOsF4j/qxbvJwIKEv333eM0YSPC/Sy5K1Ca9+T90l+wNojLXvw==",
          "dtype": "f8"
         },
         "yaxis": "y"
        }
       ],
       "layout": {
        "height": 500,
        "legend": {
         "title": {
          "text": "True Class"
         },
         "tracegroupgap": 0
        },
        "template": {
         "data": {
          "bar": [
           {
            "error_x": {
             "color": "#2a3f5f"
            },
            "error_y": {
             "color": "#2a3f5f"
            },
            "marker": {
             "line": {
              "color": "#E5ECF6",
              "width": 0.5
             },
             "pattern": {
              "fillmode": "overlay",
              "size": 10,
              "solidity": 0.2
             }
            },
            "type": "bar"
           }
          ],
          "barpolar": [
           {
            "marker": {
             "line": {
              "color": "#E5ECF6",
              "width": 0.5
             },
             "pattern": {
              "fillmode": "overlay",
              "size": 10,
              "solidity": 0.2
             }
            },
            "type": "barpolar"
           }
          ],
          "carpet": [
           {
            "aaxis": {
             "endlinecolor": "#2a3f5f",
             "gridcolor": "white",
             "linecolor": "white",
             "minorgridcolor": "white",
             "startlinecolor": "#2a3f5f"
            },
            "baxis": {
             "endlinecolor": "#2a3f5f",
             "gridcolor": "white",
             "linecolor": "white",
             "minorgridcolor": "white",
             "startlinecolor": "#2a3f5f"
            },
            "type": "carpet"
           }
          ],
          "choropleth": [
           {
            "colorbar": {
             "outlinewidth": 0,
             "ticks": ""
            },
            "type": "choropleth"
           }
          ],
          "contour": [
           {
            "colorbar": {
             "outlinewidth": 0,
             "ticks": ""
            },
            "colorscale": [
             [
              0,
              "#0d0887"
             ],
             [
              0.1111111111111111,
              "#46039f"
             ],
             [
              0.2222222222222222,
              "#7201a8"
             ],
             [
              0.3333333333333333,
              "#9c179e"
             ],
             [
              0.4444444444444444,
              "#bd3786"
             ],
             [
              0.5555555555555556,
              "#d8576b"
             ],
             [
              0.6666666666666666,
              "#ed7953"
             ],
             [
              0.7777777777777778,
              "#fb9f3a"
             ],
             [
              0.8888888888888888,
              "#fdca26"
             ],
             [
              1,
              "#f0f921"
             ]
            ],
            "type": "contour"
           }
          ],
          "contourcarpet": [
           {
            "colorbar": {
             "outlinewidth": 0,
             "ticks": ""
            },
            "type": "contourcarpet"
           }
          ],
          "heatmap": [
           {
            "colorbar": {
             "outlinewidth": 0,
             "ticks": ""
            },
            "colorscale": [
             [
              0,
              "#0d0887"
             ],
             [
              0.1111111111111111,
              "#46039f"
             ],
             [
              0.2222222222222222,
              "#7201a8"
             ],
             [
              0.3333333333333333,
              "#9c179e"
             ],
             [
              0.4444444444444444,
              "#bd3786"
             ],
             [
              0.5555555555555556,
              "#d8576b"
             ],
             [
              0.6666666666666666,
              "#ed7953"
             ],
             [
              0.7777777777777778,
              "#fb9f3a"
             ],
             [
              0.8888888888888888,
              "#fdca26"
             ],
             [
              1,
              "#f0f921"
             ]
            ],
            "type": "heatmap"
           }
          ],
          "histogram": [
           {
            "marker": {
             "pattern": {
              "fillmode": "overlay",
              "size": 10,
              "solidity": 0.2
             }
            },
            "type": "histogram"
           }
          ],
          "histogram2d": [
           {
            "colorbar": {
             "outlinewidth": 0,
             "ticks": ""
            },
            "colorscale": [
             [
              0,
              "#0d0887"
             ],
             [
              0.1111111111111111,
              "#46039f"
             ],
             [
              0.2222222222222222,
              "#7201a8"
             ],
             [
              0.3333333333333333,
              "#9c179e"
             ],
             [
              0.4444444444444444,
              "#bd3786"
             ],
             [
              0.5555555555555556,
              "#d8576b"
             ],
             [
              0.6666666666666666,
              "#ed7953"
             ],
             [
              0.7777777777777778,
              "#fb9f3a"
             ],
             [
              0.8888888888888888,
              "#fdca26"
             ],
             [
              1,
              "#f0f921"
             ]
            ],
            "type": "histogram2d"
           }
          ],
          "histogram2dcontour": [
           {
            "colorbar": {
             "outlinewidth": 0,
             "ticks": ""
            },
            "colorscale": [
             [
              0,
              "#0d0887"
             ],
             [
              0.1111111111111111,
              "#46039f"
             ],
             [
              0.2222222222222222,
              "#7201a8"
             ],
             [
              0.3333333333333333,
              "#9c179e"
             ],
             [
              0.4444444444444444,
              "#bd3786"
             ],
             [
              0.5555555555555556,
              "#d8576b"
             ],
             [
              0.6666666666666666,
              "#ed7953"
             ],
             [
              0.7777777777777778,
              "#fb9f3a"
             ],
             [
              0.8888888888888888,
              "#fdca26"
             ],
             [
              1,
              "#f0f921"
             ]
            ],
            "type": "histogram2dcontour"
           }
          ],
          "mesh3d": [
           {
            "colorbar": {
             "outlinewidth": 0,
             "ticks": ""
            },
            "type": "mesh3d"
           }
          ],
          "parcoords": [
           {
            "line": {
             "colorbar": {
              "outlinewidth": 0,
              "ticks": ""
             }
            },
            "type": "parcoords"
           }
          ],
          "pie": [
           {
            "automargin": true,
            "type": "pie"
           }
          ],
          "scatter": [
           {
            "fillpattern": {
             "fillmode": "overlay",
             "size": 10,
             "solidity": 0.2
            },
            "type": "scatter"
           }
          ],
          "scatter3d": [
           {
            "line": {
             "colorbar": {
              "outlinewidth": 0,
              "ticks": ""
             }
            },
            "marker": {
             "colorbar": {
              "outlinewidth": 0,
              "ticks": ""
             }
            },
            "type": "scatter3d"
           }
          ],
          "scattercarpet": [
           {
            "marker": {
             "colorbar": {
              "outlinewidth": 0,
              "ticks": ""
             }
            },
            "type": "scattercarpet"
           }
          ],
          "scattergeo": [
           {
            "marker": {
             "colorbar": {
              "outlinewidth": 0,
              "ticks": ""
             }
            },
            "type": "scattergeo"
           }
          ],
          "scattergl": [
           {
            "marker": {
             "colorbar": {
              "outlinewidth": 0,
              "ticks": ""
             }
            },
            "type": "scattergl"
           }
          ],
          "scattermap": [
           {
            "marker": {
             "colorbar": {
              "outlinewidth": 0,
              "ticks": ""
             }
            },
            "type": "scattermap"
           }
          ],
          "scattermapbox": [
           {
            "marker": {
             "colorbar": {
              "outlinewidth": 0,
              "ticks": ""
             }
            },
            "type": "scattermapbox"
           }
          ],
          "scatterpolar": [
           {
            "marker": {
             "colorbar": {
              "outlinewidth": 0,
              "ticks": ""
             }
            },
            "type": "scatterpolar"
           }
          ],
          "scatterpolargl": [
           {
            "marker": {
             "colorbar": {
              "outlinewidth": 0,
              "ticks": ""
             }
            },
            "type": "scatterpolargl"
           }
          ],
          "scatterternary": [
           {
            "marker": {
             "colorbar": {
              "outlinewidth": 0,
              "ticks": ""
             }
            },
            "type": "scatterternary"
           }
          ],
          "surface": [
           {
            "colorbar": {
             "outlinewidth": 0,
             "ticks": ""
            },
            "colorscale": [
             [
              0,
              "#0d0887"
             ],
             [
              0.1111111111111111,
              "#46039f"
             ],
             [
              0.2222222222222222,
              "#7201a8"
             ],
             [
              0.3333333333333333,
              "#9c179e"
             ],
             [
              0.4444444444444444,
              "#bd3786"
             ],
             [
              0.5555555555555556,
              "#d8576b"
             ],
             [
              0.6666666666666666,
              "#ed7953"
             ],
             [
              0.7777777777777778,
              "#fb9f3a"
             ],
             [
              0.8888888888888888,
              "#fdca26"
             ],
             [
              1,
              "#f0f921"
             ]
            ],
            "type": "surface"
           }
          ],
          "table": [
           {
            "cells": {
             "fill": {
              "color": "#EBF0F8"
             },
             "line": {
              "color": "white"
             }
            },
            "header": {
             "fill": {
              "color": "#C8D4E3"
             },
             "line": {
              "color": "white"
             }
            },
            "type": "table"
           }
          ]
         },
         "layout": {
          "annotationdefaults": {
           "arrowcolor": "#2a3f5f",
           "arrowhead": 0,
           "arrowwidth": 1
          },
          "autotypenumbers": "strict",
          "coloraxis": {
           "colorbar": {
            "outlinewidth": 0,
            "ticks": ""
           }
          },
          "colorscale": {
           "diverging": [
            [
             0,
             "#8e0152"
            ],
            [
             0.1,
             "#c51b7d"
            ],
            [
             0.2,
             "#de77ae"
            ],
            [
             0.3,
             "#f1b6da"
            ],
            [
             0.4,
             "#fde0ef"
            ],
            [
             0.5,
             "#f7f7f7"
            ],
            [
             0.6,
             "#e6f5d0"
            ],
            [
             0.7,
             "#b8e186"
            ],
            [
             0.8,
             "#7fbc41"
            ],
            [
             0.9,
             "#4d9221"
            ],
            [
             1,
             "#276419"
            ]
           ],
           "sequential": [
            [
             0,
             "#0d0887"
            ],
            [
             0.1111111111111111,
             "#46039f"
            ],
            [
             0.2222222222222222,
             "#7201a8"
            ],
            [
             0.3333333333333333,
             "#9c179e"
            ],
            [
             0.4444444444444444,
             "#bd3786"
            ],
            [
             0.5555555555555556,
             "#d8576b"
            ],
            [
             0.6666666666666666,
             "#ed7953"
            ],
            [
             0.7777777777777778,
             "#fb9f3a"
            ],
            [
             0.8888888888888888,
             "#fdca26"
            ],
            [
             1,
             "#f0f921"
            ]
           ],
           "sequentialminus": [
            [
             0,
             "#0d0887"
            ],
            [
             0.1111111111111111,
             "#46039f"
            ],
            [
             0.2222222222222222,
             "#7201a8"
            ],
            [
             0.3333333333333333,
             "#9c179e"
            ],
            [
             0.4444444444444444,
             "#bd3786"
            ],
            [
             0.5555555555555556,
             "#d8576b"
            ],
            [
             0.6666666666666666,
             "#ed7953"
            ],
            [
             0.7777777777777778,
             "#fb9f3a"
            ],
            [
             0.8888888888888888,
             "#fdca26"
            ],
            [
             1,
             "#f0f921"
            ]
           ]
          },
          "colorway": [
           "#636efa",
           "#EF553B",
           "#00cc96",
           "#ab63fa",
           "#FFA15A",
           "#19d3f3",
           "#FF6692",
           "#B6E880",
           "#FF97FF",
           "#FECB52"
          ],
          "font": {
           "color": "#2a3f5f"
          },
          "geo": {
           "bgcolor": "white",
           "lakecolor": "white",
           "landcolor": "#E5ECF6",
           "showlakes": true,
           "showland": true,
           "subunitcolor": "white"
          },
          "hoverlabel": {
           "align": "left"
          },
          "hovermode": "closest",
          "mapbox": {
           "style": "light"
          },
          "paper_bgcolor": "white",
          "plot_bgcolor": "#E5ECF6",
          "polar": {
           "angularaxis": {
            "gridcolor": "white",
            "linecolor": "white",
            "ticks": ""
           },
           "bgcolor": "#E5ECF6",
           "radialaxis": {
            "gridcolor": "white",
            "linecolor": "white",
            "ticks": ""
           }
          },
          "scene": {
           "xaxis": {
            "backgroundcolor": "#E5ECF6",
            "gridcolor": "white",
            "gridwidth": 2,
            "linecolor": "white",
            "showbackground": true,
            "ticks": "",
            "zerolinecolor": "white"
           },
           "yaxis": {
            "backgroundcolor": "#E5ECF6",
            "gridcolor": "white",
            "gridwidth": 2,
            "linecolor": "white",
            "showbackground": true,
            "ticks": "",
            "zerolinecolor": "white"
           },
           "zaxis": {
            "backgroundcolor": "#E5ECF6",
            "gridcolor": "white",
            "gridwidth": 2,
            "linecolor": "white",
            "showbackground": true,
            "ticks": "",
            "zerolinecolor": "white"
           }
          },
          "shapedefaults": {
           "line": {
            "color": "#2a3f5f"
           }
          },
          "ternary": {
           "aaxis": {
            "gridcolor": "white",
            "linecolor": "white",
            "ticks": ""
           },
           "baxis": {
            "gridcolor": "white",
            "linecolor": "white",
            "ticks": ""
           },
           "bgcolor": "#E5ECF6",
           "caxis": {
            "gridcolor": "white",
            "linecolor": "white",
            "ticks": ""
           }
          },
          "title": {
           "x": 0.05
          },
          "xaxis": {
           "automargin": true,
           "gridcolor": "white",
           "linecolor": "white",
           "ticks": "",
           "title": {
            "standoff": 15
           },
           "zerolinecolor": "white",
           "zerolinewidth": 2
          },
          "yaxis": {
           "automargin": true,
           "gridcolor": "white",
           "linecolor": "white",
           "ticks": "",
           "title": {
            "standoff": 15
           },
           "zerolinecolor": "white",
           "zerolinewidth": 2
          }
         }
        },
        "title": {
         "text": "LDA for All Data with Class Label"
        },
        "width": 700,
        "xaxis": {
         "anchor": "y",
         "domain": [
          0,
          1
         ],
         "title": {
          "text": "LD1"
         }
        },
        "yaxis": {
         "anchor": "x",
         "domain": [
          0,
          1
         ],
         "title": {
          "text": "LD2"
         }
        }
       }
      }
     },
     "metadata": {},
     "output_type": "display_data"
    }
   ],
   "source": [
    "# Color Palette\n",
    "custom_palette = {\n",
    "    'High': '#f01d0f',                 # Red\n",
    "    'Medium': '#f0bc4c',               # Yellow\n",
    "    'Low': '#86bf55'                   # Green\n",
    "}\n",
    "\n",
    "# Dimensionality Reduction\n",
    "lda = LDA()\n",
    "X_lda = lda.fit_transform(X, y)\n",
    "\n",
    "# Prepare DataFrame for Plotly\n",
    "X_truth_df = pd.DataFrame(X_lda, columns=['LD1', 'LD2'])\n",
    "X_truth_df['True Class'] = y.loc[X.index].reset_index(drop=True)\n",
    "X_truth_df['Data ID'] = X.index  \n",
    "\n",
    "# Plotly Scatter Plot\n",
    "fig = px.scatter(\n",
    "    X_truth_df, \n",
    "    x='LD1', \n",
    "    y='LD2', \n",
    "    color='True Class',\n",
    "    title='LDA for All Data with Class Label',\n",
    "    labels={'LD1': 'LD1', 'LD2': 'LD2'},\n",
    "    color_discrete_map=custom_palette,\n",
    "    hover_data=['Data ID', 'True Class']  # Include ID in hover\n",
    ")\n",
    "\n",
    "fig.update_traces(marker=dict(size=8, line=dict(width=1, color='DarkSlateGrey')))\n",
    "fig.update_layout(width=700, height=500)\n",
    "fig.show()"
   ]
  },
  {
   "cell_type": "markdown",
   "id": "4a6095de",
   "metadata": {},
   "source": [
    "En base a la gráfica, podemos observar que tenemos algunos datos que producen ruido dentro de las clases. Puede ser debido a un mislabeling o a datos atípicos que se colaron dentro de cierta clase. Con el objetivo de que nuestro modelo pueda predecir de la mejor manera, se eliminarán estos datos atípicos antes de hacer el train-test-split."
   ]
  },
  {
   "cell_type": "code",
   "execution_count": 42,
   "id": "b00925dc",
   "metadata": {},
   "outputs": [],
   "source": [
    "# Codificar la y\n",
    "label_map = {0: 'Low', 1: 'Medium', 2:'High'}\n",
    "y_test_named = y.map(label_map) \n",
    "\n",
    "# Train-Test-Split\n",
    "# X_train, X_test, Y_train, Y_test = train_test_split(x,y,random_state=42, test_size=0.2, stratify=y)\n",
    "X_train, X_test, y_train, y_test = train_test_split(X_clean, y_clean, test_size=0.2, random_state=12, stratify=y_clean)"
   ]
  },
  {
   "cell_type": "markdown",
   "id": "4fa03c8e",
   "metadata": {},
   "source": [
    "# <font color= #79b0e9> **1. Logistic Regression** </font> "
   ]
  },
  {
   "cell_type": "markdown",
   "id": "29f17e86",
   "metadata": {},
   "source": [
    "## <font color= #4783bf> Modelo Log Reg, V1 (Estandarización) </font>\n",
    "\n",
    "Este primer modelo va a ser el más sencillo, con el único tratamiento a los datos siendo una estandarización con `StandardScaler` (aparte de la codificación necesaria para trabajar con el modelo)."
   ]
  },
  {
   "cell_type": "code",
   "execution_count": 43,
   "id": "6b91a6a7",
   "metadata": {},
   "outputs": [],
   "source": [
    "scaler = StandardScaler()\n",
    "X_train_scaled = pd.DataFrame(scaler.fit_transform(X_train), columns=X_train.columns)\n",
    "X_test_scaled = pd.DataFrame(scaler.fit_transform(X_test), columns=X_test.columns)"
   ]
  },
  {
   "cell_type": "code",
   "execution_count": 44,
   "id": "3977eef9",
   "metadata": {},
   "outputs": [
    {
     "data": {
      "text/html": [
       "<style>#sk-container-id-1 {\n",
       "  /* Definition of color scheme common for light and dark mode */\n",
       "  --sklearn-color-text: #000;\n",
       "  --sklearn-color-text-muted: #666;\n",
       "  --sklearn-color-line: gray;\n",
       "  /* Definition of color scheme for unfitted estimators */\n",
       "  --sklearn-color-unfitted-level-0: #fff5e6;\n",
       "  --sklearn-color-unfitted-level-1: #f6e4d2;\n",
       "  --sklearn-color-unfitted-level-2: #ffe0b3;\n",
       "  --sklearn-color-unfitted-level-3: chocolate;\n",
       "  /* Definition of color scheme for fitted estimators */\n",
       "  --sklearn-color-fitted-level-0: #f0f8ff;\n",
       "  --sklearn-color-fitted-level-1: #d4ebff;\n",
       "  --sklearn-color-fitted-level-2: #b3dbfd;\n",
       "  --sklearn-color-fitted-level-3: cornflowerblue;\n",
       "\n",
       "  /* Specific color for light theme */\n",
       "  --sklearn-color-text-on-default-background: var(--sg-text-color, var(--theme-code-foreground, var(--jp-content-font-color1, black)));\n",
       "  --sklearn-color-background: var(--sg-background-color, var(--theme-background, var(--jp-layout-color0, white)));\n",
       "  --sklearn-color-border-box: var(--sg-text-color, var(--theme-code-foreground, var(--jp-content-font-color1, black)));\n",
       "  --sklearn-color-icon: #696969;\n",
       "\n",
       "  @media (prefers-color-scheme: dark) {\n",
       "    /* Redefinition of color scheme for dark theme */\n",
       "    --sklearn-color-text-on-default-background: var(--sg-text-color, var(--theme-code-foreground, var(--jp-content-font-color1, white)));\n",
       "    --sklearn-color-background: var(--sg-background-color, var(--theme-background, var(--jp-layout-color0, #111)));\n",
       "    --sklearn-color-border-box: var(--sg-text-color, var(--theme-code-foreground, var(--jp-content-font-color1, white)));\n",
       "    --sklearn-color-icon: #878787;\n",
       "  }\n",
       "}\n",
       "\n",
       "#sk-container-id-1 {\n",
       "  color: var(--sklearn-color-text);\n",
       "}\n",
       "\n",
       "#sk-container-id-1 pre {\n",
       "  padding: 0;\n",
       "}\n",
       "\n",
       "#sk-container-id-1 input.sk-hidden--visually {\n",
       "  border: 0;\n",
       "  clip: rect(1px 1px 1px 1px);\n",
       "  clip: rect(1px, 1px, 1px, 1px);\n",
       "  height: 1px;\n",
       "  margin: -1px;\n",
       "  overflow: hidden;\n",
       "  padding: 0;\n",
       "  position: absolute;\n",
       "  width: 1px;\n",
       "}\n",
       "\n",
       "#sk-container-id-1 div.sk-dashed-wrapped {\n",
       "  border: 1px dashed var(--sklearn-color-line);\n",
       "  margin: 0 0.4em 0.5em 0.4em;\n",
       "  box-sizing: border-box;\n",
       "  padding-bottom: 0.4em;\n",
       "  background-color: var(--sklearn-color-background);\n",
       "}\n",
       "\n",
       "#sk-container-id-1 div.sk-container {\n",
       "  /* jupyter's `normalize.less` sets `[hidden] { display: none; }`\n",
       "     but bootstrap.min.css set `[hidden] { display: none !important; }`\n",
       "     so we also need the `!important` here to be able to override the\n",
       "     default hidden behavior on the sphinx rendered scikit-learn.org.\n",
       "     See: https://github.com/scikit-learn/scikit-learn/issues/21755 */\n",
       "  display: inline-block !important;\n",
       "  position: relative;\n",
       "}\n",
       "\n",
       "#sk-container-id-1 div.sk-text-repr-fallback {\n",
       "  display: none;\n",
       "}\n",
       "\n",
       "div.sk-parallel-item,\n",
       "div.sk-serial,\n",
       "div.sk-item {\n",
       "  /* draw centered vertical line to link estimators */\n",
       "  background-image: linear-gradient(var(--sklearn-color-text-on-default-background), var(--sklearn-color-text-on-default-background));\n",
       "  background-size: 2px 100%;\n",
       "  background-repeat: no-repeat;\n",
       "  background-position: center center;\n",
       "}\n",
       "\n",
       "/* Parallel-specific style estimator block */\n",
       "\n",
       "#sk-container-id-1 div.sk-parallel-item::after {\n",
       "  content: \"\";\n",
       "  width: 100%;\n",
       "  border-bottom: 2px solid var(--sklearn-color-text-on-default-background);\n",
       "  flex-grow: 1;\n",
       "}\n",
       "\n",
       "#sk-container-id-1 div.sk-parallel {\n",
       "  display: flex;\n",
       "  align-items: stretch;\n",
       "  justify-content: center;\n",
       "  background-color: var(--sklearn-color-background);\n",
       "  position: relative;\n",
       "}\n",
       "\n",
       "#sk-container-id-1 div.sk-parallel-item {\n",
       "  display: flex;\n",
       "  flex-direction: column;\n",
       "}\n",
       "\n",
       "#sk-container-id-1 div.sk-parallel-item:first-child::after {\n",
       "  align-self: flex-end;\n",
       "  width: 50%;\n",
       "}\n",
       "\n",
       "#sk-container-id-1 div.sk-parallel-item:last-child::after {\n",
       "  align-self: flex-start;\n",
       "  width: 50%;\n",
       "}\n",
       "\n",
       "#sk-container-id-1 div.sk-parallel-item:only-child::after {\n",
       "  width: 0;\n",
       "}\n",
       "\n",
       "/* Serial-specific style estimator block */\n",
       "\n",
       "#sk-container-id-1 div.sk-serial {\n",
       "  display: flex;\n",
       "  flex-direction: column;\n",
       "  align-items: center;\n",
       "  background-color: var(--sklearn-color-background);\n",
       "  padding-right: 1em;\n",
       "  padding-left: 1em;\n",
       "}\n",
       "\n",
       "\n",
       "/* Toggleable style: style used for estimator/Pipeline/ColumnTransformer box that is\n",
       "clickable and can be expanded/collapsed.\n",
       "- Pipeline and ColumnTransformer use this feature and define the default style\n",
       "- Estimators will overwrite some part of the style using the `sk-estimator` class\n",
       "*/\n",
       "\n",
       "/* Pipeline and ColumnTransformer style (default) */\n",
       "\n",
       "#sk-container-id-1 div.sk-toggleable {\n",
       "  /* Default theme specific background. It is overwritten whether we have a\n",
       "  specific estimator or a Pipeline/ColumnTransformer */\n",
       "  background-color: var(--sklearn-color-background);\n",
       "}\n",
       "\n",
       "/* Toggleable label */\n",
       "#sk-container-id-1 label.sk-toggleable__label {\n",
       "  cursor: pointer;\n",
       "  display: flex;\n",
       "  width: 100%;\n",
       "  margin-bottom: 0;\n",
       "  padding: 0.5em;\n",
       "  box-sizing: border-box;\n",
       "  text-align: center;\n",
       "  align-items: start;\n",
       "  justify-content: space-between;\n",
       "  gap: 0.5em;\n",
       "}\n",
       "\n",
       "#sk-container-id-1 label.sk-toggleable__label .caption {\n",
       "  font-size: 0.6rem;\n",
       "  font-weight: lighter;\n",
       "  color: var(--sklearn-color-text-muted);\n",
       "}\n",
       "\n",
       "#sk-container-id-1 label.sk-toggleable__label-arrow:before {\n",
       "  /* Arrow on the left of the label */\n",
       "  content: \"▸\";\n",
       "  float: left;\n",
       "  margin-right: 0.25em;\n",
       "  color: var(--sklearn-color-icon);\n",
       "}\n",
       "\n",
       "#sk-container-id-1 label.sk-toggleable__label-arrow:hover:before {\n",
       "  color: var(--sklearn-color-text);\n",
       "}\n",
       "\n",
       "/* Toggleable content - dropdown */\n",
       "\n",
       "#sk-container-id-1 div.sk-toggleable__content {\n",
       "  max-height: 0;\n",
       "  max-width: 0;\n",
       "  overflow: hidden;\n",
       "  text-align: left;\n",
       "  /* unfitted */\n",
       "  background-color: var(--sklearn-color-unfitted-level-0);\n",
       "}\n",
       "\n",
       "#sk-container-id-1 div.sk-toggleable__content.fitted {\n",
       "  /* fitted */\n",
       "  background-color: var(--sklearn-color-fitted-level-0);\n",
       "}\n",
       "\n",
       "#sk-container-id-1 div.sk-toggleable__content pre {\n",
       "  margin: 0.2em;\n",
       "  border-radius: 0.25em;\n",
       "  color: var(--sklearn-color-text);\n",
       "  /* unfitted */\n",
       "  background-color: var(--sklearn-color-unfitted-level-0);\n",
       "}\n",
       "\n",
       "#sk-container-id-1 div.sk-toggleable__content.fitted pre {\n",
       "  /* unfitted */\n",
       "  background-color: var(--sklearn-color-fitted-level-0);\n",
       "}\n",
       "\n",
       "#sk-container-id-1 input.sk-toggleable__control:checked~div.sk-toggleable__content {\n",
       "  /* Expand drop-down */\n",
       "  max-height: 200px;\n",
       "  max-width: 100%;\n",
       "  overflow: auto;\n",
       "}\n",
       "\n",
       "#sk-container-id-1 input.sk-toggleable__control:checked~label.sk-toggleable__label-arrow:before {\n",
       "  content: \"▾\";\n",
       "}\n",
       "\n",
       "/* Pipeline/ColumnTransformer-specific style */\n",
       "\n",
       "#sk-container-id-1 div.sk-label input.sk-toggleable__control:checked~label.sk-toggleable__label {\n",
       "  color: var(--sklearn-color-text);\n",
       "  background-color: var(--sklearn-color-unfitted-level-2);\n",
       "}\n",
       "\n",
       "#sk-container-id-1 div.sk-label.fitted input.sk-toggleable__control:checked~label.sk-toggleable__label {\n",
       "  background-color: var(--sklearn-color-fitted-level-2);\n",
       "}\n",
       "\n",
       "/* Estimator-specific style */\n",
       "\n",
       "/* Colorize estimator box */\n",
       "#sk-container-id-1 div.sk-estimator input.sk-toggleable__control:checked~label.sk-toggleable__label {\n",
       "  /* unfitted */\n",
       "  background-color: var(--sklearn-color-unfitted-level-2);\n",
       "}\n",
       "\n",
       "#sk-container-id-1 div.sk-estimator.fitted input.sk-toggleable__control:checked~label.sk-toggleable__label {\n",
       "  /* fitted */\n",
       "  background-color: var(--sklearn-color-fitted-level-2);\n",
       "}\n",
       "\n",
       "#sk-container-id-1 div.sk-label label.sk-toggleable__label,\n",
       "#sk-container-id-1 div.sk-label label {\n",
       "  /* The background is the default theme color */\n",
       "  color: var(--sklearn-color-text-on-default-background);\n",
       "}\n",
       "\n",
       "/* On hover, darken the color of the background */\n",
       "#sk-container-id-1 div.sk-label:hover label.sk-toggleable__label {\n",
       "  color: var(--sklearn-color-text);\n",
       "  background-color: var(--sklearn-color-unfitted-level-2);\n",
       "}\n",
       "\n",
       "/* Label box, darken color on hover, fitted */\n",
       "#sk-container-id-1 div.sk-label.fitted:hover label.sk-toggleable__label.fitted {\n",
       "  color: var(--sklearn-color-text);\n",
       "  background-color: var(--sklearn-color-fitted-level-2);\n",
       "}\n",
       "\n",
       "/* Estimator label */\n",
       "\n",
       "#sk-container-id-1 div.sk-label label {\n",
       "  font-family: monospace;\n",
       "  font-weight: bold;\n",
       "  display: inline-block;\n",
       "  line-height: 1.2em;\n",
       "}\n",
       "\n",
       "#sk-container-id-1 div.sk-label-container {\n",
       "  text-align: center;\n",
       "}\n",
       "\n",
       "/* Estimator-specific */\n",
       "#sk-container-id-1 div.sk-estimator {\n",
       "  font-family: monospace;\n",
       "  border: 1px dotted var(--sklearn-color-border-box);\n",
       "  border-radius: 0.25em;\n",
       "  box-sizing: border-box;\n",
       "  margin-bottom: 0.5em;\n",
       "  /* unfitted */\n",
       "  background-color: var(--sklearn-color-unfitted-level-0);\n",
       "}\n",
       "\n",
       "#sk-container-id-1 div.sk-estimator.fitted {\n",
       "  /* fitted */\n",
       "  background-color: var(--sklearn-color-fitted-level-0);\n",
       "}\n",
       "\n",
       "/* on hover */\n",
       "#sk-container-id-1 div.sk-estimator:hover {\n",
       "  /* unfitted */\n",
       "  background-color: var(--sklearn-color-unfitted-level-2);\n",
       "}\n",
       "\n",
       "#sk-container-id-1 div.sk-estimator.fitted:hover {\n",
       "  /* fitted */\n",
       "  background-color: var(--sklearn-color-fitted-level-2);\n",
       "}\n",
       "\n",
       "/* Specification for estimator info (e.g. \"i\" and \"?\") */\n",
       "\n",
       "/* Common style for \"i\" and \"?\" */\n",
       "\n",
       ".sk-estimator-doc-link,\n",
       "a:link.sk-estimator-doc-link,\n",
       "a:visited.sk-estimator-doc-link {\n",
       "  float: right;\n",
       "  font-size: smaller;\n",
       "  line-height: 1em;\n",
       "  font-family: monospace;\n",
       "  background-color: var(--sklearn-color-background);\n",
       "  border-radius: 1em;\n",
       "  height: 1em;\n",
       "  width: 1em;\n",
       "  text-decoration: none !important;\n",
       "  margin-left: 0.5em;\n",
       "  text-align: center;\n",
       "  /* unfitted */\n",
       "  border: var(--sklearn-color-unfitted-level-1) 1pt solid;\n",
       "  color: var(--sklearn-color-unfitted-level-1);\n",
       "}\n",
       "\n",
       ".sk-estimator-doc-link.fitted,\n",
       "a:link.sk-estimator-doc-link.fitted,\n",
       "a:visited.sk-estimator-doc-link.fitted {\n",
       "  /* fitted */\n",
       "  border: var(--sklearn-color-fitted-level-1) 1pt solid;\n",
       "  color: var(--sklearn-color-fitted-level-1);\n",
       "}\n",
       "\n",
       "/* On hover */\n",
       "div.sk-estimator:hover .sk-estimator-doc-link:hover,\n",
       ".sk-estimator-doc-link:hover,\n",
       "div.sk-label-container:hover .sk-estimator-doc-link:hover,\n",
       ".sk-estimator-doc-link:hover {\n",
       "  /* unfitted */\n",
       "  background-color: var(--sklearn-color-unfitted-level-3);\n",
       "  color: var(--sklearn-color-background);\n",
       "  text-decoration: none;\n",
       "}\n",
       "\n",
       "div.sk-estimator.fitted:hover .sk-estimator-doc-link.fitted:hover,\n",
       ".sk-estimator-doc-link.fitted:hover,\n",
       "div.sk-label-container:hover .sk-estimator-doc-link.fitted:hover,\n",
       ".sk-estimator-doc-link.fitted:hover {\n",
       "  /* fitted */\n",
       "  background-color: var(--sklearn-color-fitted-level-3);\n",
       "  color: var(--sklearn-color-background);\n",
       "  text-decoration: none;\n",
       "}\n",
       "\n",
       "/* Span, style for the box shown on hovering the info icon */\n",
       ".sk-estimator-doc-link span {\n",
       "  display: none;\n",
       "  z-index: 9999;\n",
       "  position: relative;\n",
       "  font-weight: normal;\n",
       "  right: .2ex;\n",
       "  padding: .5ex;\n",
       "  margin: .5ex;\n",
       "  width: min-content;\n",
       "  min-width: 20ex;\n",
       "  max-width: 50ex;\n",
       "  color: var(--sklearn-color-text);\n",
       "  box-shadow: 2pt 2pt 4pt #999;\n",
       "  /* unfitted */\n",
       "  background: var(--sklearn-color-unfitted-level-0);\n",
       "  border: .5pt solid var(--sklearn-color-unfitted-level-3);\n",
       "}\n",
       "\n",
       ".sk-estimator-doc-link.fitted span {\n",
       "  /* fitted */\n",
       "  background: var(--sklearn-color-fitted-level-0);\n",
       "  border: var(--sklearn-color-fitted-level-3);\n",
       "}\n",
       "\n",
       ".sk-estimator-doc-link:hover span {\n",
       "  display: block;\n",
       "}\n",
       "\n",
       "/* \"?\"-specific style due to the `<a>` HTML tag */\n",
       "\n",
       "#sk-container-id-1 a.estimator_doc_link {\n",
       "  float: right;\n",
       "  font-size: 1rem;\n",
       "  line-height: 1em;\n",
       "  font-family: monospace;\n",
       "  background-color: var(--sklearn-color-background);\n",
       "  border-radius: 1rem;\n",
       "  height: 1rem;\n",
       "  width: 1rem;\n",
       "  text-decoration: none;\n",
       "  /* unfitted */\n",
       "  color: var(--sklearn-color-unfitted-level-1);\n",
       "  border: var(--sklearn-color-unfitted-level-1) 1pt solid;\n",
       "}\n",
       "\n",
       "#sk-container-id-1 a.estimator_doc_link.fitted {\n",
       "  /* fitted */\n",
       "  border: var(--sklearn-color-fitted-level-1) 1pt solid;\n",
       "  color: var(--sklearn-color-fitted-level-1);\n",
       "}\n",
       "\n",
       "/* On hover */\n",
       "#sk-container-id-1 a.estimator_doc_link:hover {\n",
       "  /* unfitted */\n",
       "  background-color: var(--sklearn-color-unfitted-level-3);\n",
       "  color: var(--sklearn-color-background);\n",
       "  text-decoration: none;\n",
       "}\n",
       "\n",
       "#sk-container-id-1 a.estimator_doc_link.fitted:hover {\n",
       "  /* fitted */\n",
       "  background-color: var(--sklearn-color-fitted-level-3);\n",
       "}\n",
       "</style><div id=\"sk-container-id-1\" class=\"sk-top-container\"><div class=\"sk-text-repr-fallback\"><pre>LogisticRegression()</pre><b>In a Jupyter environment, please rerun this cell to show the HTML representation or trust the notebook. <br />On GitHub, the HTML representation is unable to render, please try loading this page with nbviewer.org.</b></div><div class=\"sk-container\" hidden><div class=\"sk-item\"><div class=\"sk-estimator fitted sk-toggleable\"><input class=\"sk-toggleable__control sk-hidden--visually\" id=\"sk-estimator-id-1\" type=\"checkbox\" checked><label for=\"sk-estimator-id-1\" class=\"sk-toggleable__label fitted sk-toggleable__label-arrow\"><div><div>LogisticRegression</div></div><div><a class=\"sk-estimator-doc-link fitted\" rel=\"noreferrer\" target=\"_blank\" href=\"https://scikit-learn.org/1.6/modules/generated/sklearn.linear_model.LogisticRegression.html\">?<span>Documentation for LogisticRegression</span></a><span class=\"sk-estimator-doc-link fitted\">i<span>Fitted</span></span></div></label><div class=\"sk-toggleable__content fitted\"><pre>LogisticRegression()</pre></div> </div></div></div></div>"
      ],
      "text/plain": [
       "LogisticRegression()"
      ]
     },
     "execution_count": 44,
     "metadata": {},
     "output_type": "execute_result"
    }
   ],
   "source": [
    "logregv1 = LogisticRegression()\n",
    "logregv1.fit(X_train_scaled, y_train)"
   ]
  },
  {
   "cell_type": "code",
   "execution_count": 45,
   "id": "85e53c31",
   "metadata": {},
   "outputs": [],
   "source": [
    "y_pred_v1 = logregv1.predict(X_test_scaled)"
   ]
  },
  {
   "cell_type": "code",
   "execution_count": 46,
   "id": "87b6b1a0",
   "metadata": {},
   "outputs": [
    {
     "data": {
      "text/plain": [
       "{'C': 1.0,\n",
       " 'class_weight': None,\n",
       " 'dual': False,\n",
       " 'fit_intercept': True,\n",
       " 'intercept_scaling': 1,\n",
       " 'l1_ratio': None,\n",
       " 'max_iter': 100,\n",
       " 'multi_class': 'deprecated',\n",
       " 'n_jobs': None,\n",
       " 'penalty': 'l2',\n",
       " 'random_state': None,\n",
       " 'solver': 'lbfgs',\n",
       " 'tol': 0.0001,\n",
       " 'verbose': 0,\n",
       " 'warm_start': False}"
      ]
     },
     "execution_count": 46,
     "metadata": {},
     "output_type": "execute_result"
    }
   ],
   "source": [
    "# Parámetros\n",
    "logregv1.get_params()"
   ]
  },
  {
   "cell_type": "code",
   "execution_count": 47,
   "id": "d88bea6d",
   "metadata": {},
   "outputs": [
    {
     "data": {
      "image/png": "[encoded data removed]",
      "text/plain": [
       "<Figure size 640x480 with 2 Axes>"
      ]
     },
     "metadata": {},
     "output_type": "display_data"
    }
   ],
   "source": [
    "cmv1 = confusion_matrix(y_test, y_pred_v1)\n",
    "cmv1_display = ConfusionMatrixDisplay(cmv1, display_labels=['Low', 'Medium', 'High'])\n",
    "cmv1_display.plot()\n",
    "plt.show()"
   ]
  },
  {
   "cell_type": "markdown",
   "id": "18374894",
   "metadata": {},
   "source": [
    "La primera versión del modelo de Regresión Logística, que no tiene ningún tuneo de hiperparámetros, comete algunos errores, pero en general predice bien las clases."
   ]
  },
  {
   "cell_type": "code",
   "execution_count": 48,
   "id": "56cd3e7d",
   "metadata": {},
   "outputs": [
    {
     "name": "stdout",
     "output_type": "stream",
     "text": [
      "Accuracy: 0.8696\n",
      "Precision: 0.8870\n",
      "Recall: 0.8696\n",
      "F1-Score: 0.8682\n"
     ]
    }
   ],
   "source": [
    "#Resultados - V1\n",
    "print(f\"Accuracy: {accuracy_score(y_test, y_pred_v1):.4f}\")\n",
    "print(f\"Precision: {precision_score(y_test, y_pred_v1, average='weighted'):.4f}\")\n",
    "print(f\"Recall: {recall_score(y_test, y_pred_v1, average='weighted'):.4f}\")\n",
    "print(f\"F1-Score: {f1_score(y_test, y_pred_v1, average='weighted'):.4f}\")"
   ]
  },
  {
   "cell_type": "markdown",
   "id": "8eb39c1f",
   "metadata": {},
   "source": [
    "Universalmente, tenemos una score de 0.86, lo que no es malo, pero tiene espacio de mejora."
   ]
  },
  {
   "cell_type": "code",
   "execution_count": 49,
   "id": "98a12609",
   "metadata": {},
   "outputs": [
    {
     "data": {
      "application/vnd.microsoft.datawrangler.viewer.v0+json": {
       "columns": [
        {
         "name": "index",
         "rawType": "int64",
         "type": "integer"
        },
        {
         "name": "Feature",
         "rawType": "object",
         "type": "string"
        },
        {
         "name": "Coef",
         "rawType": "float64",
         "type": "float"
        }
       ],
       "conversionMethod": "pd.DataFrame",
       "ref": "7edd1cfa-0dca-49a7-a332-181a5043743a",
       "rows": [
        [
         "0",
         "Age",
         "-0.446650209225637"
        ],
        [
         "1",
         "Sex",
         "0.2973625645523248"
        ],
        [
         "2",
         "TCh",
         "0.2002069585945293"
        ],
        [
         "3",
         "HCh",
         "-0.9304042484591151"
        ],
        [
         "4",
         "LCh",
         "0.20823570136829392"
        ],
        [
         "5",
         "Tr",
         "1.3377488301609324"
        ],
        [
         "6",
         "BPS",
         "0.8560361630522378"
        ],
        [
         "7",
         "Sm",
         "0.86284473412838"
        ],
        [
         "8",
         "Diabetes",
         "0.5626656238786589"
        ]
       ],
       "shape": {
        "columns": 2,
        "rows": 9
       }
      },
      "text/html": [
       "<div>\n",
       "<style scoped>\n",
       "    .dataframe tbody tr th:only-of-type {\n",
       "        vertical-align: middle;\n",
       "    }\n",
       "\n",
       "    .dataframe tbody tr th {\n",
       "        vertical-align: top;\n",
       "    }\n",
       "\n",
       "    .dataframe thead th {\n",
       "        text-align: right;\n",
       "    }\n",
       "</style>\n",
       "<table border=\"1\" class=\"dataframe\">\n",
       "  <thead>\n",
       "    <tr style=\"text-align: right;\">\n",
       "      <th></th>\n",
       "      <th>Feature</th>\n",
       "      <th>Coef</th>\n",
       "    </tr>\n",
       "  </thead>\n",
       "  <tbody>\n",
       "    <tr>\n",
       "      <th>0</th>\n",
       "      <td>Age</td>\n",
       "      <td>-0.446650</td>\n",
       "    </tr>\n",
       "    <tr>\n",
       "      <th>1</th>\n",
       "      <td>Sex</td>\n",
       "      <td>0.297363</td>\n",
       "    </tr>\n",
       "    <tr>\n",
       "      <th>2</th>\n",
       "      <td>TCh</td>\n",
       "      <td>0.200207</td>\n",
       "    </tr>\n",
       "    <tr>\n",
       "      <th>3</th>\n",
       "      <td>HCh</td>\n",
       "      <td>-0.930404</td>\n",
       "    </tr>\n",
       "    <tr>\n",
       "      <th>4</th>\n",
       "      <td>LCh</td>\n",
       "      <td>0.208236</td>\n",
       "    </tr>\n",
       "    <tr>\n",
       "      <th>5</th>\n",
       "      <td>Tr</td>\n",
       "      <td>1.337749</td>\n",
       "    </tr>\n",
       "    <tr>\n",
       "      <th>6</th>\n",
       "      <td>BPS</td>\n",
       "      <td>0.856036</td>\n",
       "    </tr>\n",
       "    <tr>\n",
       "      <th>7</th>\n",
       "      <td>Sm</td>\n",
       "      <td>0.862845</td>\n",
       "    </tr>\n",
       "    <tr>\n",
       "      <th>8</th>\n",
       "      <td>Diabetes</td>\n",
       "      <td>0.562666</td>\n",
       "    </tr>\n",
       "  </tbody>\n",
       "</table>\n",
       "</div>"
      ],
      "text/plain": [
       "    Feature      Coef\n",
       "0       Age -0.446650\n",
       "1       Sex  0.297363\n",
       "2       TCh  0.200207\n",
       "3       HCh -0.930404\n",
       "4       LCh  0.208236\n",
       "5        Tr  1.337749\n",
       "6       BPS  0.856036\n",
       "7        Sm  0.862845\n",
       "8  Diabetes  0.562666"
      ]
     },
     "execution_count": 49,
     "metadata": {},
     "output_type": "execute_result"
    }
   ],
   "source": [
    "df_coef_v1 = pd.DataFrame({\n",
    "    'Feature': X_train_scaled.columns,\n",
    "    'Coef': logregv1.coef_[0]\n",
    "})\n",
    "\n",
    "df_coef_v1"
   ]
  },
  {
   "cell_type": "markdown",
   "id": "5a5d6ce9",
   "metadata": {},
   "source": [
    "Podemos ver que las variables más relevantes (esto lo podemos ver con sus coefficients) son *Tr*, *Sex* y *HCh*"
   ]
  },
  {
   "cell_type": "markdown",
   "id": "36f42597",
   "metadata": {},
   "source": [
    "## <font color= #4783bf> Modelo Log Reg, V2 (Estandarización + GridSearch) </font>\n",
    "\n",
    "Para el segundo modelo, aparte de la estandarización previamente hecha, también vamos a utilizar un GridSearch para encontrar los mejores hiperparámetros posibles."
   ]
  },
  {
   "cell_type": "code",
   "execution_count": 50,
   "id": "d2065d78",
   "metadata": {},
   "outputs": [
    {
     "name": "stdout",
     "output_type": "stream",
     "text": [
      "Fitting 5 folds for each of 42 candidates, totalling 210 fits\n"
     ]
    },
    {
     "data": {
      "text/html": [
       "<style>#sk-container-id-2 {\n",
       "  /* Definition of color scheme common for light and dark mode */\n",
       "  --sklearn-color-text: #000;\n",
       "  --sklearn-color-text-muted: #666;\n",
       "  --sklearn-color-line: gray;\n",
       "  /* Definition of color scheme for unfitted estimators */\n",
       "  --sklearn-color-unfitted-level-0: #fff5e6;\n",
       "  --sklearn-color-unfitted-level-1: #f6e4d2;\n",
       "  --sklearn-color-unfitted-level-2: #ffe0b3;\n",
       "  --sklearn-color-unfitted-level-3: chocolate;\n",
       "  /* Definition of color scheme for fitted estimators */\n",
       "  --sklearn-color-fitted-level-0: #f0f8ff;\n",
       "  --sklearn-color-fitted-level-1: #d4ebff;\n",
       "  --sklearn-color-fitted-level-2: #b3dbfd;\n",
       "  --sklearn-color-fitted-level-3: cornflowerblue;\n",
       "\n",
       "  /* Specific color for light theme */\n",
       "  --sklearn-color-text-on-default-background: var(--sg-text-color, var(--theme-code-foreground, var(--jp-content-font-color1, black)));\n",
       "  --sklearn-color-background: var(--sg-background-color, var(--theme-background, var(--jp-layout-color0, white)));\n",
       "  --sklearn-color-border-box: var(--sg-text-color, var(--theme-code-foreground, var(--jp-content-font-color1, black)));\n",
       "  --sklearn-color-icon: #696969;\n",
       "\n",
       "  @media (prefers-color-scheme: dark) {\n",
       "    /* Redefinition of color scheme for dark theme */\n",
       "    --sklearn-color-text-on-default-background: var(--sg-text-color, var(--theme-code-foreground, var(--jp-content-font-color1, white)));\n",
       "    --sklearn-color-background: var(--sg-background-color, var(--theme-background, var(--jp-layout-color0, #111)));\n",
       "    --sklearn-color-border-box: var(--sg-text-color, var(--theme-code-foreground, var(--jp-content-font-color1, white)));\n",
       "    --sklearn-color-icon: #878787;\n",
       "  }\n",
       "}\n",
       "\n",
       "#sk-container-id-2 {\n",
       "  color: var(--sklearn-color-text);\n",
       "}\n",
       "\n",
       "#sk-container-id-2 pre {\n",
       "  padding: 0;\n",
       "}\n",
       "\n",
       "#sk-container-id-2 input.sk-hidden--visually {\n",
       "  border: 0;\n",
       "  clip: rect(1px 1px 1px 1px);\n",
       "  clip: rect(1px, 1px, 1px, 1px);\n",
       "  height: 1px;\n",
       "  margin: -1px;\n",
       "  overflow: hidden;\n",
       "  padding: 0;\n",
       "  position: absolute;\n",
       "  width: 1px;\n",
       "}\n",
       "\n",
       "#sk-container-id-2 div.sk-dashed-wrapped {\n",
       "  border: 1px dashed var(--sklearn-color-line);\n",
       "  margin: 0 0.4em 0.5em 0.4em;\n",
       "  box-sizing: border-box;\n",
       "  padding-bottom: 0.4em;\n",
       "  background-color: var(--sklearn-color-background);\n",
       "}\n",
       "\n",
       "#sk-container-id-2 div.sk-container {\n",
       "  /* jupyter's `normalize.less` sets `[hidden] { display: none; }`\n",
       "     but bootstrap.min.css set `[hidden] { display: none !important; }`\n",
       "     so we also need the `!important` here to be able to override the\n",
       "     default hidden behavior on the sphinx rendered scikit-learn.org.\n",
       "     See: https://github.com/scikit-learn/scikit-learn/issues/21755 */\n",
       "  display: inline-block !important;\n",
       "  position: relative;\n",
       "}\n",
       "\n",
       "#sk-container-id-2 div.sk-text-repr-fallback {\n",
       "  display: none;\n",
       "}\n",
       "\n",
       "div.sk-parallel-item,\n",
       "div.sk-serial,\n",
       "div.sk-item {\n",
       "  /* draw centered vertical line to link estimators */\n",
       "  background-image: linear-gradient(var(--sklearn-color-text-on-default-background), var(--sklearn-color-text-on-default-background));\n",
       "  background-size: 2px 100%;\n",
       "  background-repeat: no-repeat;\n",
       "  background-position: center center;\n",
       "}\n",
       "\n",
       "/* Parallel-specific style estimator block */\n",
       "\n",
       "#sk-container-id-2 div.sk-parallel-item::after {\n",
       "  content: \"\";\n",
       "  width: 100%;\n",
       "  border-bottom: 2px solid var(--sklearn-color-text-on-default-background);\n",
       "  flex-grow: 1;\n",
       "}\n",
       "\n",
       "#sk-container-id-2 div.sk-parallel {\n",
       "  display: flex;\n",
       "  align-items: stretch;\n",
       "  justify-content: center;\n",
       "  background-color: var(--sklearn-color-background);\n",
       "  position: relative;\n",
       "}\n",
       "\n",
       "#sk-container-id-2 div.sk-parallel-item {\n",
       "  display: flex;\n",
       "  flex-direction: column;\n",
       "}\n",
       "\n",
       "#sk-container-id-2 div.sk-parallel-item:first-child::after {\n",
       "  align-self: flex-end;\n",
       "  width: 50%;\n",
       "}\n",
       "\n",
       "#sk-container-id-2 div.sk-parallel-item:last-child::after {\n",
       "  align-self: flex-start;\n",
       "  width: 50%;\n",
       "}\n",
       "\n",
       "#sk-container-id-2 div.sk-parallel-item:only-child::after {\n",
       "  width: 0;\n",
       "}\n",
       "\n",
       "/* Serial-specific style estimator block */\n",
       "\n",
       "#sk-container-id-2 div.sk-serial {\n",
       "  display: flex;\n",
       "  flex-direction: column;\n",
       "  align-items: center;\n",
       "  background-color: var(--sklearn-color-background);\n",
       "  padding-right: 1em;\n",
       "  padding-left: 1em;\n",
       "}\n",
       "\n",
       "\n",
       "/* Toggleable style: style used for estimator/Pipeline/ColumnTransformer box that is\n",
       "clickable and can be expanded/collapsed.\n",
       "- Pipeline and ColumnTransformer use this feature and define the default style\n",
       "- Estimators will overwrite some part of the style using the `sk-estimator` class\n",
       "*/\n",
       "\n",
       "/* Pipeline and ColumnTransformer style (default) */\n",
       "\n",
       "#sk-container-id-2 div.sk-toggleable {\n",
       "  /* Default theme specific background. It is overwritten whether we have a\n",
       "  specific estimator or a Pipeline/ColumnTransformer */\n",
       "  background-color: var(--sklearn-color-background);\n",
       "}\n",
       "\n",
       "/* Toggleable label */\n",
       "#sk-container-id-2 label.sk-toggleable__label {\n",
       "  cursor: pointer;\n",
       "  display: flex;\n",
       "  width: 100%;\n",
       "  margin-bottom: 0;\n",
       "  padding: 0.5em;\n",
       "  box-sizing: border-box;\n",
       "  text-align: center;\n",
       "  align-items: start;\n",
       "  justify-content: space-between;\n",
       "  gap: 0.5em;\n",
       "}\n",
       "\n",
       "#sk-container-id-2 label.sk-toggleable__label .caption {\n",
       "  font-size: 0.6rem;\n",
       "  font-weight: lighter;\n",
       "  color: var(--sklearn-color-text-muted);\n",
       "}\n",
       "\n",
       "#sk-container-id-2 label.sk-toggleable__label-arrow:before {\n",
       "  /* Arrow on the left of the label */\n",
       "  content: \"▸\";\n",
       "  float: left;\n",
       "  margin-right: 0.25em;\n",
       "  color: var(--sklearn-color-icon);\n",
       "}\n",
       "\n",
       "#sk-container-id-2 label.sk-toggleable__label-arrow:hover:before {\n",
       "  color: var(--sklearn-color-text);\n",
       "}\n",
       "\n",
       "/* Toggleable content - dropdown */\n",
       "\n",
       "#sk-container-id-2 div.sk-toggleable__content {\n",
       "  max-height: 0;\n",
       "  max-width: 0;\n",
       "  overflow: hidden;\n",
       "  text-align: left;\n",
       "  /* unfitted */\n",
       "  background-color: var(--sklearn-color-unfitted-level-0);\n",
       "}\n",
       "\n",
       "#sk-container-id-2 div.sk-toggleable__content.fitted {\n",
       "  /* fitted */\n",
       "  background-color: var(--sklearn-color-fitted-level-0);\n",
       "}\n",
       "\n",
       "#sk-container-id-2 div.sk-toggleable__content pre {\n",
       "  margin: 0.2em;\n",
       "  border-radius: 0.25em;\n",
       "  color: var(--sklearn-color-text);\n",
       "  /* unfitted */\n",
       "  background-color: var(--sklearn-color-unfitted-level-0);\n",
       "}\n",
       "\n",
       "#sk-container-id-2 div.sk-toggleable__content.fitted pre {\n",
       "  /* unfitted */\n",
       "  background-color: var(--sklearn-color-fitted-level-0);\n",
       "}\n",
       "\n",
       "#sk-container-id-2 input.sk-toggleable__control:checked~div.sk-toggleable__content {\n",
       "  /* Expand drop-down */\n",
       "  max-height: 200px;\n",
       "  max-width: 100%;\n",
       "  overflow: auto;\n",
       "}\n",
       "\n",
       "#sk-container-id-2 input.sk-toggleable__control:checked~label.sk-toggleable__label-arrow:before {\n",
       "  content: \"▾\";\n",
       "}\n",
       "\n",
       "/* Pipeline/ColumnTransformer-specific style */\n",
       "\n",
       "#sk-container-id-2 div.sk-label input.sk-toggleable__control:checked~label.sk-toggleable__label {\n",
       "  color: var(--sklearn-color-text);\n",
       "  background-color: var(--sklearn-color-unfitted-level-2);\n",
       "}\n",
       "\n",
       "#sk-container-id-2 div.sk-label.fitted input.sk-toggleable__control:checked~label.sk-toggleable__label {\n",
       "  background-color: var(--sklearn-color-fitted-level-2);\n",
       "}\n",
       "\n",
       "/* Estimator-specific style */\n",
       "\n",
       "/* Colorize estimator box */\n",
       "#sk-container-id-2 div.sk-estimator input.sk-toggleable__control:checked~label.sk-toggleable__label {\n",
       "  /* unfitted */\n",
       "  background-color: var(--sklearn-color-unfitted-level-2);\n",
       "}\n",
       "\n",
       "#sk-container-id-2 div.sk-estimator.fitted input.sk-toggleable__control:checked~label.sk-toggleable__label {\n",
       "  /* fitted */\n",
       "  background-color: var(--sklearn-color-fitted-level-2);\n",
       "}\n",
       "\n",
       "#sk-container-id-2 div.sk-label label.sk-toggleable__label,\n",
       "#sk-container-id-2 div.sk-label label {\n",
       "  /* The background is the default theme color */\n",
       "  color: var(--sklearn-color-text-on-default-background);\n",
       "}\n",
       "\n",
       "/* On hover, darken the color of the background */\n",
       "#sk-container-id-2 div.sk-label:hover label.sk-toggleable__label {\n",
       "  color: var(--sklearn-color-text);\n",
       "  background-color: var(--sklearn-color-unfitted-level-2);\n",
       "}\n",
       "\n",
       "/* Label box, darken color on hover, fitted */\n",
       "#sk-container-id-2 div.sk-label.fitted:hover label.sk-toggleable__label.fitted {\n",
       "  color: var(--sklearn-color-text);\n",
       "  background-color: var(--sklearn-color-fitted-level-2);\n",
       "}\n",
       "\n",
       "/* Estimator label */\n",
       "\n",
       "#sk-container-id-2 div.sk-label label {\n",
       "  font-family: monospace;\n",
       "  font-weight: bold;\n",
       "  display: inline-block;\n",
       "  line-height: 1.2em;\n",
       "}\n",
       "\n",
       "#sk-container-id-2 div.sk-label-container {\n",
       "  text-align: center;\n",
       "}\n",
       "\n",
       "/* Estimator-specific */\n",
       "#sk-container-id-2 div.sk-estimator {\n",
       "  font-family: monospace;\n",
       "  border: 1px dotted var(--sklearn-color-border-box);\n",
       "  border-radius: 0.25em;\n",
       "  box-sizing: border-box;\n",
       "  margin-bottom: 0.5em;\n",
       "  /* unfitted */\n",
       "  background-color: var(--sklearn-color-unfitted-level-0);\n",
       "}\n",
       "\n",
       "#sk-container-id-2 div.sk-estimator.fitted {\n",
       "  /* fitted */\n",
       "  background-color: var(--sklearn-color-fitted-level-0);\n",
       "}\n",
       "\n",
       "/* on hover */\n",
       "#sk-container-id-2 div.sk-estimator:hover {\n",
       "  /* unfitted */\n",
       "  background-color: var(--sklearn-color-unfitted-level-2);\n",
       "}\n",
       "\n",
       "#sk-container-id-2 div.sk-estimator.fitted:hover {\n",
       "  /* fitted */\n",
       "  background-color: var(--sklearn-color-fitted-level-2);\n",
       "}\n",
       "\n",
       "/* Specification for estimator info (e.g. \"i\" and \"?\") */\n",
       "\n",
       "/* Common style for \"i\" and \"?\" */\n",
       "\n",
       ".sk-estimator-doc-link,\n",
       "a:link.sk-estimator-doc-link,\n",
       "a:visited.sk-estimator-doc-link {\n",
       "  float: right;\n",
       "  font-size: smaller;\n",
       "  line-height: 1em;\n",
       "  font-family: monospace;\n",
       "  background-color: var(--sklearn-color-background);\n",
       "  border-radius: 1em;\n",
       "  height: 1em;\n",
       "  width: 1em;\n",
       "  text-decoration: none !important;\n",
       "  margin-left: 0.5em;\n",
       "  text-align: center;\n",
       "  /* unfitted */\n",
       "  border: var(--sklearn-color-unfitted-level-1) 1pt solid;\n",
       "  color: var(--sklearn-color-unfitted-level-1);\n",
       "}\n",
       "\n",
       ".sk-estimator-doc-link.fitted,\n",
       "a:link.sk-estimator-doc-link.fitted,\n",
       "a:visited.sk-estimator-doc-link.fitted {\n",
       "  /* fitted */\n",
       "  border: var(--sklearn-color-fitted-level-1) 1pt solid;\n",
       "  color: var(--sklearn-color-fitted-level-1);\n",
       "}\n",
       "\n",
       "/* On hover */\n",
       "div.sk-estimator:hover .sk-estimator-doc-link:hover,\n",
       ".sk-estimator-doc-link:hover,\n",
       "div.sk-label-container:hover .sk-estimator-doc-link:hover,\n",
       ".sk-estimator-doc-link:hover {\n",
       "  /* unfitted */\n",
       "  background-color: var(--sklearn-color-unfitted-level-3);\n",
       "  color: var(--sklearn-color-background);\n",
       "  text-decoration: none;\n",
       "}\n",
       "\n",
       "div.sk-estimator.fitted:hover .sk-estimator-doc-link.fitted:hover,\n",
       ".sk-estimator-doc-link.fitted:hover,\n",
       "div.sk-label-container:hover .sk-estimator-doc-link.fitted:hover,\n",
       ".sk-estimator-doc-link.fitted:hover {\n",
       "  /* fitted */\n",
       "  background-color: var(--sklearn-color-fitted-level-3);\n",
       "  color: var(--sklearn-color-background);\n",
       "  text-decoration: none;\n",
       "}\n",
       "\n",
       "/* Span, style for the box shown on hovering the info icon */\n",
       ".sk-estimator-doc-link span {\n",
       "  display: none;\n",
       "  z-index: 9999;\n",
       "  position: relative;\n",
       "  font-weight: normal;\n",
       "  right: .2ex;\n",
       "  padding: .5ex;\n",
       "  margin: .5ex;\n",
       "  width: min-content;\n",
       "  min-width: 20ex;\n",
       "  max-width: 50ex;\n",
       "  color: var(--sklearn-color-text);\n",
       "  box-shadow: 2pt 2pt 4pt #999;\n",
       "  /* unfitted */\n",
       "  background: var(--sklearn-color-unfitted-level-0);\n",
       "  border: .5pt solid var(--sklearn-color-unfitted-level-3);\n",
       "}\n",
       "\n",
       ".sk-estimator-doc-link.fitted span {\n",
       "  /* fitted */\n",
       "  background: var(--sklearn-color-fitted-level-0);\n",
       "  border: var(--sklearn-color-fitted-level-3);\n",
       "}\n",
       "\n",
       ".sk-estimator-doc-link:hover span {\n",
       "  display: block;\n",
       "}\n",
       "\n",
       "/* \"?\"-specific style due to the `<a>` HTML tag */\n",
       "\n",
       "#sk-container-id-2 a.estimator_doc_link {\n",
       "  float: right;\n",
       "  font-size: 1rem;\n",
       "  line-height: 1em;\n",
       "  font-family: monospace;\n",
       "  background-color: var(--sklearn-color-background);\n",
       "  border-radius: 1rem;\n",
       "  height: 1rem;\n",
       "  width: 1rem;\n",
       "  text-decoration: none;\n",
       "  /* unfitted */\n",
       "  color: var(--sklearn-color-unfitted-level-1);\n",
       "  border: var(--sklearn-color-unfitted-level-1) 1pt solid;\n",
       "}\n",
       "\n",
       "#sk-container-id-2 a.estimator_doc_link.fitted {\n",
       "  /* fitted */\n",
       "  border: var(--sklearn-color-fitted-level-1) 1pt solid;\n",
       "  color: var(--sklearn-color-fitted-level-1);\n",
       "}\n",
       "\n",
       "/* On hover */\n",
       "#sk-container-id-2 a.estimator_doc_link:hover {\n",
       "  /* unfitted */\n",
       "  background-color: var(--sklearn-color-unfitted-level-3);\n",
       "  color: var(--sklearn-color-background);\n",
       "  text-decoration: none;\n",
       "}\n",
       "\n",
       "#sk-container-id-2 a.estimator_doc_link.fitted:hover {\n",
       "  /* fitted */\n",
       "  background-color: var(--sklearn-color-fitted-level-3);\n",
       "}\n",
       "</style><div id=\"sk-container-id-2\" class=\"sk-top-container\"><div class=\"sk-text-repr-fallback\"><pre>GridSearchCV(cv=5,\n",
       "             estimator=Pipeline(steps=[(&#x27;scaler&#x27;, StandardScaler()),\n",
       "                                       (&#x27;logreg&#x27;,\n",
       "                                        LogisticRegression(max_iter=10000))]),\n",
       "             n_jobs=-1,\n",
       "             param_grid=[{&#x27;logreg__C&#x27;: [0.001, 0.01, 0.1, 1, 10, 100],\n",
       "                          &#x27;logreg__penalty&#x27;: [&#x27;l1&#x27;],\n",
       "                          &#x27;logreg__solver&#x27;: [&#x27;liblinear&#x27;, &#x27;saga&#x27;]},\n",
       "                         {&#x27;logreg__C&#x27;: [0.001, 0.01, 0.1, 1, 10, 100],\n",
       "                          &#x27;logreg__penalty&#x27;: [&#x27;l2&#x27;],\n",
       "                          &#x27;logreg__solver&#x27;: [&#x27;liblinear&#x27;, &#x27;saga&#x27;]},\n",
       "                         {&#x27;logreg__C&#x27;: [0.001, 0.01, 0.1, 1, 10, 100],\n",
       "                          &#x27;logreg__l1_ratio&#x27;: [0.1, 0.5, 0.9],\n",
       "                          &#x27;logreg__penalty&#x27;: [&#x27;elasticnet&#x27;],\n",
       "                          &#x27;logreg__solver&#x27;: [&#x27;saga&#x27;]}],\n",
       "             scoring=&#x27;accuracy&#x27;, verbose=2)</pre><b>In a Jupyter environment, please rerun this cell to show the HTML representation or trust the notebook. <br />On GitHub, the HTML representation is unable to render, please try loading this page with nbviewer.org.</b></div><div class=\"sk-container\" hidden><div class=\"sk-item sk-dashed-wrapped\"><div class=\"sk-label-container\"><div class=\"sk-label fitted sk-toggleable\"><input class=\"sk-toggleable__control sk-hidden--visually\" id=\"sk-estimator-id-2\" type=\"checkbox\" ><label for=\"sk-estimator-id-2\" class=\"sk-toggleable__label fitted sk-toggleable__label-arrow\"><div><div>GridSearchCV</div></div><div><a class=\"sk-estimator-doc-link fitted\" rel=\"noreferrer\" target=\"_blank\" href=\"https://scikit-learn.org/1.6/modules/generated/sklearn.model_selection.GridSearchCV.html\">?<span>Documentation for GridSearchCV</span></a><span class=\"sk-estimator-doc-link fitted\">i<span>Fitted</span></span></div></label><div class=\"sk-toggleable__content fitted\"><pre>GridSearchCV(cv=5,\n",
       "             estimator=Pipeline(steps=[(&#x27;scaler&#x27;, StandardScaler()),\n",
       "                                       (&#x27;logreg&#x27;,\n",
       "                                        LogisticRegression(max_iter=10000))]),\n",
       "             n_jobs=-1,\n",
       "             param_grid=[{&#x27;logreg__C&#x27;: [0.001, 0.01, 0.1, 1, 10, 100],\n",
       "                          &#x27;logreg__penalty&#x27;: [&#x27;l1&#x27;],\n",
       "                          &#x27;logreg__solver&#x27;: [&#x27;liblinear&#x27;, &#x27;saga&#x27;]},\n",
       "                         {&#x27;logreg__C&#x27;: [0.001, 0.01, 0.1, 1, 10, 100],\n",
       "                          &#x27;logreg__penalty&#x27;: [&#x27;l2&#x27;],\n",
       "                          &#x27;logreg__solver&#x27;: [&#x27;liblinear&#x27;, &#x27;saga&#x27;]},\n",
       "                         {&#x27;logreg__C&#x27;: [0.001, 0.01, 0.1, 1, 10, 100],\n",
       "                          &#x27;logreg__l1_ratio&#x27;: [0.1, 0.5, 0.9],\n",
       "                          &#x27;logreg__penalty&#x27;: [&#x27;elasticnet&#x27;],\n",
       "                          &#x27;logreg__solver&#x27;: [&#x27;saga&#x27;]}],\n",
       "             scoring=&#x27;accuracy&#x27;, verbose=2)</pre></div> </div></div><div class=\"sk-parallel\"><div class=\"sk-parallel-item\"><div class=\"sk-item\"><div class=\"sk-label-container\"><div class=\"sk-label fitted sk-toggleable\"><input class=\"sk-toggleable__control sk-hidden--visually\" id=\"sk-estimator-id-3\" type=\"checkbox\" ><label for=\"sk-estimator-id-3\" class=\"sk-toggleable__label fitted sk-toggleable__label-arrow\"><div><div>best_estimator_: Pipeline</div></div></label><div class=\"sk-toggleable__content fitted\"><pre>Pipeline(steps=[(&#x27;scaler&#x27;, StandardScaler()),\n",
       "                (&#x27;logreg&#x27;,\n",
       "                 LogisticRegression(C=1, l1_ratio=0.5, max_iter=10000,\n",
       "                                    penalty=&#x27;elasticnet&#x27;, solver=&#x27;saga&#x27;))])</pre></div> </div></div><div class=\"sk-serial\"><div class=\"sk-item\"><div class=\"sk-serial\"><div class=\"sk-item\"><div class=\"sk-estimator fitted sk-toggleable\"><input class=\"sk-toggleable__control sk-hidden--visually\" id=\"sk-estimator-id-4\" type=\"checkbox\" ><label for=\"sk-estimator-id-4\" class=\"sk-toggleable__label fitted sk-toggleable__label-arrow\"><div><div>StandardScaler</div></div><div><a class=\"sk-estimator-doc-link fitted\" rel=\"noreferrer\" target=\"_blank\" href=\"https://scikit-learn.org/1.6/modules/generated/sklearn.preprocessing.StandardScaler.html\">?<span>Documentation for StandardScaler</span></a></div></label><div class=\"sk-toggleable__content fitted\"><pre>StandardScaler()</pre></div> </div></div><div class=\"sk-item\"><div class=\"sk-estimator fitted sk-toggleable\"><input class=\"sk-toggleable__control sk-hidden--visually\" id=\"sk-estimator-id-5\" type=\"checkbox\" ><label for=\"sk-estimator-id-5\" class=\"sk-toggleable__label fitted sk-toggleable__label-arrow\"><div><div>LogisticRegression</div></div><div><a class=\"sk-estimator-doc-link fitted\" rel=\"noreferrer\" target=\"_blank\" href=\"https://scikit-learn.org/1.6/modules/generated/sklearn.linear_model.LogisticRegression.html\">?<span>Documentation for LogisticRegression</span></a></div></label><div class=\"sk-toggleable__content fitted\"><pre>LogisticRegression(C=1, l1_ratio=0.5, max_iter=10000, penalty=&#x27;elasticnet&#x27;,\n",
       "                   solver=&#x27;saga&#x27;)</pre></div> </div></div></div></div></div></div></div></div></div></div></div>"
      ],
      "text/plain": [
       "GridSearchCV(cv=5,\n",
       "             estimator=Pipeline(steps=[('scaler', StandardScaler()),\n",
       "                                       ('logreg',\n",
       "                                        LogisticRegression(max_iter=10000))]),\n",
       "             n_jobs=-1,\n",
       "             param_grid=[{'logreg__C': [0.001, 0.01, 0.1, 1, 10, 100],\n",
       "                          'logreg__penalty': ['l1'],\n",
       "                          'logreg__solver': ['liblinear', 'saga']},\n",
       "                         {'logreg__C': [0.001, 0.01, 0.1, 1, 10, 100],\n",
       "                          'logreg__penalty': ['l2'],\n",
       "                          'logreg__solver': ['liblinear', 'saga']},\n",
       "                         {'logreg__C': [0.001, 0.01, 0.1, 1, 10, 100],\n",
       "                          'logreg__l1_ratio': [0.1, 0.5, 0.9],\n",
       "                          'logreg__penalty': ['elasticnet'],\n",
       "                          'logreg__solver': ['saga']}],\n",
       "             scoring='accuracy', verbose=2)"
      ]
     },
     "execution_count": 50,
     "metadata": {},
     "output_type": "execute_result"
    }
   ],
   "source": [
    "pipe_v2 = Pipeline([\n",
    "    ('scaler', StandardScaler()),\n",
    "    ('logreg', LogisticRegression(max_iter=10_000))\n",
    "])\n",
    "\n",
    "# Parámetros del Gridsearch, generamos 3 subsets de parámetros\n",
    "param_grid = [\n",
    "    # Subset con penalización L1\n",
    "    {\n",
    "        'logreg__penalty': ['l1'],\n",
    "        'logreg__solver': ['liblinear', 'saga'],\n",
    "        'logreg__C': [0.001, 0.01, 0.1, 1, 10, 100]\n",
    "    },\n",
    "    # Subset con penalización L2\n",
    "    {\n",
    "        'logreg__penalty': ['l2'],\n",
    "        'logreg__solver': ['liblinear', 'saga'],\n",
    "        'logreg__C': [0.001, 0.01, 0.1, 1, 10, 100]\n",
    "    },\n",
    "    # Subset con penalización Elasticnet y l1_ratio\n",
    "    {\n",
    "        'logreg__penalty': ['elasticnet'],\n",
    "        'logreg__solver': ['saga'],\n",
    "        'logreg__C': [0.001, 0.01, 0.1, 1, 10, 100],\n",
    "        'logreg__l1_ratio': [0.1, 0.5, 0.9]\n",
    "    }\n",
    "]\n",
    "\n",
    "gridv2 = GridSearchCV(pipe_v2, param_grid, cv=5, scoring='accuracy', n_jobs=-1, verbose=2)\n",
    "gridv2.fit(X_train, y_train)"
   ]
  },
  {
   "cell_type": "code",
   "execution_count": 51,
   "id": "22017bb9",
   "metadata": {},
   "outputs": [
    {
     "name": "stdout",
     "output_type": "stream",
     "text": [
      "Mejores Parámetros: {'logreg__C': 1, 'logreg__l1_ratio': 0.5, 'logreg__penalty': 'elasticnet', 'logreg__solver': 'saga'}\n",
      "Mejor Accuracy:  0.7954248366013073\n"
     ]
    }
   ],
   "source": [
    "#Parámetros\n",
    "print('Mejores Parámetros:', gridv2.best_params_)\n",
    "print('Mejor Accuracy: ', gridv2.best_score_)"
   ]
  },
  {
   "cell_type": "markdown",
   "id": "cdc746fa",
   "metadata": {},
   "source": [
    "Los mejores parámetros que encontró GridSearch para la Regresión Logística y que utilizamos fueron:\n",
    "- C = 1\n",
    "- Penalización = Elastic Net\n",
    "- L1-ratio = 0.5\n",
    "- Solver = saga\n",
    "\n",
    "Esto quiere decir que nuestro modelo utiliza una Penalización mezclada de L1 y L2, en medidas iguales."
   ]
  },
  {
   "cell_type": "code",
   "execution_count": 52,
   "id": "d58f2e22",
   "metadata": {},
   "outputs": [],
   "source": [
    "y_pred_v2 = gridv2.predict(X_test)"
   ]
  },
  {
   "cell_type": "code",
   "execution_count": 53,
   "id": "61001168",
   "metadata": {},
   "outputs": [
    {
     "data": {
      "image/png": "[encoded data removed]",
      "text/plain": [
       "<Figure size 640x480 with 2 Axes>"
      ]
     },
     "metadata": {},
     "output_type": "display_data"
    }
   ],
   "source": [
    "cmv2 = confusion_matrix(y_test, y_pred_v2)\n",
    "cmv1_display = ConfusionMatrixDisplay(cmv2, display_labels=['Low', 'Medium', 'High'])\n",
    "cmv1_display.plot()\n",
    "plt.show()"
   ]
  },
  {
   "cell_type": "markdown",
   "id": "1efb2693",
   "metadata": {},
   "source": [
    "A comparación del modelo previo, obtuvimos predicciones Muy buenas en Low y Medium, mientras que 2 valores correspondientes a High se confundieron con las otras clases."
   ]
  },
  {
   "cell_type": "code",
   "execution_count": 77,
   "id": "53ae8f6c",
   "metadata": {},
   "outputs": [
    {
     "name": "stdout",
     "output_type": "stream",
     "text": [
      "Accuracy: 0.9130\n",
      "Precision: 0.9233\n",
      "Recall: 0.9130\n",
      "F1-Score: 0.9096\n"
     ]
    }
   ],
   "source": [
    "#Metriacas\n",
    "print(f\"Accuracy: {accuracy_score(y_test, y_pred_v2):.4f}\")\n",
    "print(f\"Precision: {precision_score(y_test, y_pred_v2, average='weighted'):.4f}\")\n",
    "print(f\"Recall: {recall_score(y_test, y_pred_v2, average='weighted'):.4f}\")\n",
    "print(f\"F1-Score: {f1_score(y_test, y_pred_v2, average='weighted'):.4f}\")"
   ]
  },
  {
   "cell_type": "markdown",
   "id": "c6fc8120",
   "metadata": {},
   "source": [
    "Alcanzamos una score de 0.91 :)"
   ]
  },
  {
   "cell_type": "markdown",
   "id": "942502be",
   "metadata": {},
   "source": [
    "## <font color= #4783bf> Modelo Log Reg, V3 (Feature Selection + Normalizer + LDA) </font>"
   ]
  },
  {
   "cell_type": "code",
   "execution_count": 100,
   "id": "af501ebe",
   "metadata": {},
   "outputs": [],
   "source": [
    "pipe_v3 = Pipeline(steps=[\n",
    "    ('feature_selection', VarianceThreshold()),\n",
    "    ('normalizer', Normalizer()),\n",
    "    ('dim_reduction', LDA())\n",
    "])\n",
    "\n",
    "X_train_logregv3 = pipe_v3.fit_transform(X_train, y_train)\n",
    "X_test_logregv3 = pipe_v3.transform(X_test)"
   ]
  },
  {
   "cell_type": "code",
   "execution_count": 101,
   "id": "0fa7430f",
   "metadata": {},
   "outputs": [],
   "source": [
    "logregv3 = LogisticRegression(C=0.1, solver='newton-cg', penalty='l2')\n",
    "logregv3.fit(X_train_logregv3, y_train)\n",
    "\n",
    "y_pred_v3 = logregv3.predict(X_test_logregv3)"
   ]
  },
  {
   "cell_type": "code",
   "execution_count": 102,
   "id": "a22ce119",
   "metadata": {},
   "outputs": [
    {
     "data": {
      "image/png": "[encoded data removed]",
      "text/plain": [
       "<Figure size 640x480 with 2 Axes>"
      ]
     },
     "metadata": {},
     "output_type": "display_data"
    }
   ],
   "source": [
    "cmv3 = confusion_matrix(y_test, y_pred_v3)\n",
    "cmv3_display = ConfusionMatrixDisplay(cmv3, display_labels=['Low', 'Medium', 'High'])\n",
    "cmv3_display.plot()\n",
    "plt.show()"
   ]
  },
  {
   "cell_type": "markdown",
   "id": "a608548a",
   "metadata": {},
   "source": [
    "Utilizando el Normalizador y además una reducción de dimensionalidad LDA, nuestro modelo apenas y comete errores."
   ]
  },
  {
   "cell_type": "code",
   "execution_count": 123,
   "id": "791a5d19",
   "metadata": {},
   "outputs": [
    {
     "name": "stdout",
     "output_type": "stream",
     "text": [
      "Exactitud (Accuracy): 0.957\n",
      "Precisión (Presition): 0.962\n",
      "Recall: 0.957\n",
      "F1 Score: 0.957\n"
     ]
    }
   ],
   "source": [
    "#Métricas Performace, V3\n",
    "print(f\"Exactitud (Accuracy): {accuracy_score(y_test, y_pred_v3):.3f}\")\n",
    "print(f\"Precisión (Presition): {precision_score(y_test, y_pred_v3, average='weighted'):.3f}\")\n",
    "print(f\"Recall: {recall_score(y_test, y_pred_v3, average='weighted'):.3f}\")\n",
    "print(f\"F1 Score: {f1_score(y_test, y_pred_v3, average='weighted'):.3f}\")"
   ]
  },
  {
   "cell_type": "markdown",
   "id": "1125142a",
   "metadata": {},
   "source": [
    "Permitiendo que alcancemos una score de 0.95"
   ]
  },
  {
   "cell_type": "markdown",
   "id": "2ed31513",
   "metadata": {},
   "source": [
    "## <font color= #4783bf> Visualización </font>\n"
   ]
  },
  {
   "cell_type": "markdown",
   "id": "6ce11952",
   "metadata": {},
   "source": [
    "Para visualizar nuestros datos y el hiperplano generado, utilizaremos el último modelo, ya que nos arrojó los mejores resultados. Además, el LDA permite que observemos los datos en 2 planos, y combina los efectos de múltiples features. De esta manera, conseguimos un modelo de \"2 variables\", que combina los efectos de todas las variables. "
   ]
  },
  {
   "cell_type": "code",
   "execution_count": 104,
   "id": "93c6eab6",
   "metadata": {},
   "outputs": [
    {
     "data": {
      "image/png": "[encoded data removed]",
      "text/plain": [
       "<Figure size 1400x600 with 2 Axes>"
      ]
     },
     "metadata": {},
     "output_type": "display_data"
    }
   ],
   "source": [
    "inverse_label_map = {v: k for k, v in label_map.items()}\n",
    "\n",
    "# Grid for Decision Lines\n",
    "x_min, x_max = X_test_logregv3[:, 0].min() - 1, X_test_logregv3[:, 0].max() + 1\n",
    "y_min, y_max = X_test_logregv3[:, 1].min() - 1, X_test_logregv3[:, 1].max() + 1\n",
    "xx, yy = np.meshgrid(np.linspace(x_min, x_max, 500),\n",
    "                     np.linspace(y_min, y_max, 500))\n",
    "grid = np.c_[xx.ravel(), yy.ravel()]\n",
    "Z_labels = logregv3.predict(grid)\n",
    "Z_numeric = np.vectorize(inverse_label_map.get)(Z_labels).reshape(xx.shape)\n",
    "\n",
    "fig, axes = plt.subplots(1, 2, figsize=(14, 6))\n",
    "\n",
    "# Real Data\n",
    "X_truth_df = pd.DataFrame(X_test_logregv3, columns=['LD1', 'LD2'])\n",
    "X_truth_df['True Class'] = y_test.loc[X_test.index].reset_index(drop=True)\n",
    "\n",
    "sns.scatterplot(data=X_truth_df, x='LD1', y='LD2', hue='True Class', palette=custom_palette,\n",
    "                ax=axes[0], s=60, edgecolor='k')\n",
    "axes[0].set_title('True Classes')\n",
    "axes[0].set_xlabel('LD1')\n",
    "axes[0].set_ylabel('LD2')\n",
    "\n",
    "# Predictions\n",
    "X_pred_df = pd.DataFrame(X_test_logregv3, columns=['LD1', 'LD2'])\n",
    "X_pred_df['Predicted Class'] = y_pred_v3\n",
    "\n",
    "sns.scatterplot(data=X_pred_df, x='LD1', y='LD2', hue='Predicted Class', palette=custom_palette,\n",
    "                ax=axes[1], s=60, edgecolor='k')\n",
    "axes[1].set_title('Logistic Regression, V3')\n",
    "axes[1].set_xlabel('LD1')\n",
    "axes[1].set_ylabel('LD2')\n",
    "\n",
    "# Drawing the Decision Lines\n",
    "for ax in axes:\n",
    "    ax.contour(xx, yy, Z_numeric, levels=[0.5, 1.5], colors='k', linestyles='--')\n",
    "\n",
    "plt.tight_layout()\n",
    "plt.show()"
   ]
  },
  {
   "cell_type": "markdown",
   "id": "0e9a5b20",
   "metadata": {},
   "source": [
    "Podemos observar que nuestras clases están claramente separadas, lo que elimina sospechas de overfitting. Además, observamos que el error en nuestro modelo se debe probablemente a un ruido en las clases."
   ]
  },
  {
   "cell_type": "code",
   "execution_count": 105,
   "id": "810f847a",
   "metadata": {},
   "outputs": [
    {
     "data": {
      "image/png": "[encoded data removed]",
      "text/plain": [
       "<Figure size 700x500 with 1 Axes>"
      ]
     },
     "metadata": {},
     "output_type": "display_data"
    }
   ],
   "source": [
    "fig, axes = plt.subplots(1, 1, figsize=(7, 5))\n",
    "\n",
    "# Plot values\n",
    "X_truth_df = pd.DataFrame(X_train_logregv3, columns=['LD1', 'LD2'])\n",
    "X_truth_df['True Class'] = y_train.loc[X_train.index].reset_index(drop=True)\n",
    "\n",
    "sns.scatterplot(data=X_truth_df, x='LD1', y='LD2', hue='True Class', ax=axes, s=60, edgecolor='k', palette=custom_palette)\n",
    "axes.set_title('Train Data')\n",
    "axes.set_xlabel('LD1')\n",
    "axes.set_ylabel('LD2')\n",
    "\n",
    "plt.tight_layout()\n",
    "plt.show()"
   ]
  },
  {
   "cell_type": "markdown",
   "id": "3cf82272",
   "metadata": {},
   "source": [
    "Finalmente, estos fueron los datos con los que se entrenó nuestro modelo."
   ]
  },
  {
   "cell_type": "markdown",
   "id": "c502abf6",
   "metadata": {},
   "source": [
    "# <font color= #79b0e9> **2. Support Vector Classifier** </font> "
   ]
  },
  {
   "cell_type": "markdown",
   "id": "1c8cfa5f",
   "metadata": {},
   "source": [
    "El Support Vector Classifier es un algoritmo robusto, que permite clasificar datos en base a un hiperplano que genera el mismo modelo. Funciona mejor con datos que no estén tan dispersos, lo que se puede manejar mediante una estandarización. Además, no se ve tan afectado por la alta dimensionalidad o presencia de atípicos. Por lo tanto, tenemos los siguientes planes de acción:\n",
    "\n",
    "- Estandarización → SVC\n",
    "\n",
    "- Estandarización → Variance Feature Selection / RFE → SVC\n",
    "\n",
    "- Estandarización → Variance Feature Selection → Normalizer → LDA (como segunda técnica de feature selection y además reducción de dimensionalidad) → SVC\n",
    "\n",
    "Evaluaremos la performance con cada uno de ellos."
   ]
  },
  {
   "cell_type": "markdown",
   "id": "acecc2d5",
   "metadata": {},
   "source": [
    "## <font color= #4783bf> SVC con Estandarización </font>"
   ]
  },
  {
   "cell_type": "code",
   "execution_count": 106,
   "id": "91a7d289",
   "metadata": {},
   "outputs": [
    {
     "data": {
      "application/vnd.microsoft.datawrangler.viewer.v0+json": {
       "columns": [
        {
         "name": "index",
         "rawType": "int64",
         "type": "integer"
        },
        {
         "name": "Age",
         "rawType": "float64",
         "type": "float"
        },
        {
         "name": "Sex",
         "rawType": "float64",
         "type": "float"
        },
        {
         "name": "TCh",
         "rawType": "float64",
         "type": "float"
        },
        {
         "name": "HCh",
         "rawType": "float64",
         "type": "float"
        },
        {
         "name": "LCh",
         "rawType": "float64",
         "type": "float"
        },
        {
         "name": "Tr",
         "rawType": "float64",
         "type": "float"
        },
        {
         "name": "BPS",
         "rawType": "float64",
         "type": "float"
        },
        {
         "name": "Sm",
         "rawType": "float64",
         "type": "float"
        },
        {
         "name": "Diabetes",
         "rawType": "float64",
         "type": "float"
        }
       ],
       "conversionMethod": "pd.DataFrame",
       "ref": "6f45fff0-3dca-4cab-951b-4568ca4b48c6",
       "rows": [
        [
         "0",
         "0.4402932604051458",
         "-1.0820035616009187",
         "0.7370062512465153",
         "-0.3686716613131786",
         "0.8195271524753812",
         "-0.7867624974188867",
         "-1.2141832315816117",
         "-0.29217435489538873",
         "-0.2169304578186562"
        ],
        [
         "1",
         "1.6202233766414396",
         "-1.0820035616009187",
         "1.3216686806097313",
         "-0.627032116879107",
         "1.6822336925543038",
         "-0.7171409589945457",
         "0.6354678532635826",
         "-0.29217435489538873",
         "-0.2169304578186562"
        ],
        [
         "2",
         "1.4339186214462352",
         "0.9242113755341183",
         "1.4051918848044764",
         "-0.19643135760255964",
         "1.4208074682879634",
         "-0.24719557463024414",
         "2.2716976590881774",
         "-0.29217435489538873",
         "-0.2169304578186562"
        ],
        [
         "3",
         "0.6265980156003501",
         "-1.0820035616009187",
         "0.9040526596360056",
         "0.4925298572399161",
         "0.584243550635675",
         "1.7892344242817293",
         "2.413978511768577",
         "3.422613871631697",
         "-0.2169304578186562"
        ],
        [
         "4",
         "0.06768375001473725",
         "-1.0820035616009187",
         "0.8762115915710905",
         "-1.4021134835768922",
         "1.0286681318884532",
         "0.9015598093713818",
         "1.7025742483665793",
         "-0.29217435489538873",
         "-0.2169304578186562"
        ]
       ],
       "shape": {
        "columns": 9,
        "rows": 5
       }
      },
      "text/html": [
       "<div>\n",
       "<style scoped>\n",
       "    .dataframe tbody tr th:only-of-type {\n",
       "        vertical-align: middle;\n",
       "    }\n",
       "\n",
       "    .dataframe tbody tr th {\n",
       "        vertical-align: top;\n",
       "    }\n",
       "\n",
       "    .dataframe thead th {\n",
       "        text-align: right;\n",
       "    }\n",
       "</style>\n",
       "<table border=\"1\" class=\"dataframe\">\n",
       "  <thead>\n",
       "    <tr style=\"text-align: right;\">\n",
       "      <th></th>\n",
       "      <th>Age</th>\n",
       "      <th>Sex</th>\n",
       "      <th>TCh</th>\n",
       "      <th>HCh</th>\n",
       "      <th>LCh</th>\n",
       "      <th>Tr</th>\n",
       "      <th>BPS</th>\n",
       "      <th>Sm</th>\n",
       "      <th>Diabetes</th>\n",
       "    </tr>\n",
       "  </thead>\n",
       "  <tbody>\n",
       "    <tr>\n",
       "      <th>0</th>\n",
       "      <td>0.440293</td>\n",
       "      <td>-1.082004</td>\n",
       "      <td>0.737006</td>\n",
       "      <td>-0.368672</td>\n",
       "      <td>0.819527</td>\n",
       "      <td>-0.786762</td>\n",
       "      <td>-1.214183</td>\n",
       "      <td>-0.292174</td>\n",
       "      <td>-0.21693</td>\n",
       "    </tr>\n",
       "    <tr>\n",
       "      <th>1</th>\n",
       "      <td>1.620223</td>\n",
       "      <td>-1.082004</td>\n",
       "      <td>1.321669</td>\n",
       "      <td>-0.627032</td>\n",
       "      <td>1.682234</td>\n",
       "      <td>-0.717141</td>\n",
       "      <td>0.635468</td>\n",
       "      <td>-0.292174</td>\n",
       "      <td>-0.21693</td>\n",
       "    </tr>\n",
       "    <tr>\n",
       "      <th>2</th>\n",
       "      <td>1.433919</td>\n",
       "      <td>0.924211</td>\n",
       "      <td>1.405192</td>\n",
       "      <td>-0.196431</td>\n",
       "      <td>1.420807</td>\n",
       "      <td>-0.247196</td>\n",
       "      <td>2.271698</td>\n",
       "      <td>-0.292174</td>\n",
       "      <td>-0.21693</td>\n",
       "    </tr>\n",
       "    <tr>\n",
       "      <th>3</th>\n",
       "      <td>0.626598</td>\n",
       "      <td>-1.082004</td>\n",
       "      <td>0.904053</td>\n",
       "      <td>0.492530</td>\n",
       "      <td>0.584244</td>\n",
       "      <td>1.789234</td>\n",
       "      <td>2.413979</td>\n",
       "      <td>3.422614</td>\n",
       "      <td>-0.21693</td>\n",
       "    </tr>\n",
       "    <tr>\n",
       "      <th>4</th>\n",
       "      <td>0.067684</td>\n",
       "      <td>-1.082004</td>\n",
       "      <td>0.876212</td>\n",
       "      <td>-1.402113</td>\n",
       "      <td>1.028668</td>\n",
       "      <td>0.901560</td>\n",
       "      <td>1.702574</td>\n",
       "      <td>-0.292174</td>\n",
       "      <td>-0.21693</td>\n",
       "    </tr>\n",
       "  </tbody>\n",
       "</table>\n",
       "</div>"
      ],
      "text/plain": [
       "        Age       Sex       TCh       HCh       LCh        Tr       BPS  \\\n",
       "0  0.440293 -1.082004  0.737006 -0.368672  0.819527 -0.786762 -1.214183   \n",
       "1  1.620223 -1.082004  1.321669 -0.627032  1.682234 -0.717141  0.635468   \n",
       "2  1.433919  0.924211  1.405192 -0.196431  1.420807 -0.247196  2.271698   \n",
       "3  0.626598 -1.082004  0.904053  0.492530  0.584244  1.789234  2.413979   \n",
       "4  0.067684 -1.082004  0.876212 -1.402113  1.028668  0.901560  1.702574   \n",
       "\n",
       "         Sm  Diabetes  \n",
       "0 -0.292174  -0.21693  \n",
       "1 -0.292174  -0.21693  \n",
       "2 -0.292174  -0.21693  \n",
       "3  3.422614  -0.21693  \n",
       "4 -0.292174  -0.21693  "
      ]
     },
     "execution_count": 106,
     "metadata": {},
     "output_type": "execute_result"
    }
   ],
   "source": [
    "scaler = StandardScaler()\n",
    "X_train_scaled = pd.DataFrame(scaler.fit_transform(X_train), columns=X_train.columns)\n",
    "X_test_scaled = pd.DataFrame(scaler.transform(X_test), columns=X_test.columns)\n",
    "X_train_scaled.head()"
   ]
  },
  {
   "cell_type": "code",
   "execution_count": 107,
   "id": "bd029317",
   "metadata": {},
   "outputs": [],
   "source": [
    "svm1 = SVC()\n",
    "\n",
    "svm1.fit(X_train, y_train)\n",
    "y_pred = svm1.predict(X_test)"
   ]
  },
  {
   "cell_type": "markdown",
   "id": "c5259ee9",
   "metadata": {},
   "source": [
    "Al evaluar el modelo SVC con kernel lineal y sus propios parámetros, así como al evaluarlo con kernel rbf y sus parámetros correspondientes, nos dimos cuenta de que (irónicamente) el mejor modelo es el default.\n",
    "\n",
    "Además, nuestros datos no parecen ajustarse de manera satisfactoria al kernel lineal."
   ]
  },
  {
   "cell_type": "code",
   "execution_count": 108,
   "id": "2f55ad74",
   "metadata": {},
   "outputs": [
    {
     "data": {
      "text/plain": [
       "{'C': 1.0,\n",
       " 'break_ties': False,\n",
       " 'cache_size': 200,\n",
       " 'class_weight': None,\n",
       " 'coef0': 0.0,\n",
       " 'decision_function_shape': 'ovr',\n",
       " 'degree': 3,\n",
       " 'gamma': 'scale',\n",
       " 'kernel': 'rbf',\n",
       " 'max_iter': -1,\n",
       " 'probability': False,\n",
       " 'random_state': None,\n",
       " 'shrinking': True,\n",
       " 'tol': 0.001,\n",
       " 'verbose': False}"
      ]
     },
     "execution_count": 108,
     "metadata": {},
     "output_type": "execute_result"
    }
   ],
   "source": [
    "svm1.get_params()"
   ]
  },
  {
   "cell_type": "markdown",
   "id": "013657f8",
   "metadata": {},
   "source": [
    "Este modelo tiene una kernel rbf, con C=1 y gamma 'scale', que equivale a $ \\frac {1} {n_{features} * X.var()} $."
   ]
  },
  {
   "cell_type": "code",
   "execution_count": 109,
   "id": "6eca04a7",
   "metadata": {},
   "outputs": [
    {
     "data": {
      "image/png": "[encoded data removed]",
      "text/plain": [
       "<Figure size 640x480 with 2 Axes>"
      ]
     },
     "metadata": {},
     "output_type": "display_data"
    }
   ],
   "source": [
    "# Matriz de Confusión\n",
    "cm = confusion_matrix(y_test, y_pred)\n",
    "cm_display = ConfusionMatrixDisplay(confusion_matrix = cm, display_labels = ['Low', 'Medium', 'High'])\n",
    "cm_display.plot()\n",
    "plt.title('Confusion Matrix')\n",
    "plt.show()"
   ]
  },
  {
   "cell_type": "markdown",
   "id": "8af5302a",
   "metadata": {},
   "source": [
    "La clase que mejor predice nuestro modelo es 'Medium', sin embargo, también es la clase donde más se confunde nuestro modelo."
   ]
  },
  {
   "cell_type": "code",
   "execution_count": 110,
   "id": "8b611aeb",
   "metadata": {},
   "outputs": [
    {
     "name": "stdout",
     "output_type": "stream",
     "text": [
      "Exactitud (Accuracy): 0.8696\n",
      "Precisión (Precision): 0.9051\n",
      "Sensibilidad (Recall): 0.8696\n",
      "F1-Score: 0.8720\n"
     ]
    }
   ],
   "source": [
    "# Métricas de Performance\n",
    "print(f\"Exactitud (Accuracy): {accuracy_score(y_test, y_pred):.4f}\")\n",
    "print(f\"Precisión (Precision): {precision_score(y_test, y_pred, average='weighted'):.4f}\")\n",
    "print(f\"Sensibilidad (Recall): {recall_score(y_test, y_pred, average='weighted'):.4f}\")\n",
    "print(f\"F1-Score: {f1_score(y_test, y_pred, average='weighted'):.4f}\")"
   ]
  },
  {
   "cell_type": "markdown",
   "id": "9a5dd6ca",
   "metadata": {},
   "source": [
    "La exactitud de nuestro modelo es de 0.86, lo cual no es nada malo, en parte por la eliminación de ruido en el dataset. Además, el F1-score es de 0.87, lo cual refuerza la evidencia de que el SVC con estandarización es una buena opción."
   ]
  },
  {
   "cell_type": "markdown",
   "id": "84728965",
   "metadata": {},
   "source": [
    "## <font color= #4783bf> SVC con Estandarización y Selección de Variables </font>"
   ]
  },
  {
   "cell_type": "markdown",
   "id": "dfca8a0b",
   "metadata": {},
   "source": [
    "### <font color= #4783bf> &ensp; • Preprocesamiento </font>"
   ]
  },
  {
   "cell_type": "markdown",
   "id": "e8c50159",
   "metadata": {},
   "source": [
    "Para la selección de variables, utilizaremos RFE. Sin embargo, el RFE necesita un coeficiente para poder optimizar las variables, mientras que estamos usando una kernel no lineal para nuestros datos. Por lo tanto, el RFE se optimizará en base al kernel lineal."
   ]
  },
  {
   "cell_type": "code",
   "execution_count": 111,
   "id": "7139172d",
   "metadata": {},
   "outputs": [],
   "source": [
    "# Crear modelo\n",
    "model = SVC(kernel='linear')\n",
    "\n",
    "# RFE\n",
    "rfe = RFE(model, verbose=0) \n",
    "rfe = rfe.fit(X_train_scaled, y_train.values.ravel())\n",
    "\n",
    "# Seleccionamos las mejores variables\n",
    "X_train_selected = X_train_scaled[rfe.get_feature_names_out()]\n",
    "X_test_selected = X_test_scaled[rfe.get_feature_names_out()]"
   ]
  },
  {
   "cell_type": "code",
   "execution_count": 112,
   "id": "36fcd098",
   "metadata": {},
   "outputs": [],
   "source": [
    "# Modelado\n",
    "svm2 = SVC()\n",
    "\n",
    "svm2.fit(X_train_selected, y_train)\n",
    "y_pred = svm2.predict(X_test_selected)"
   ]
  },
  {
   "cell_type": "code",
   "execution_count": 113,
   "id": "a6fc94ff",
   "metadata": {},
   "outputs": [
    {
     "data": {
      "image/png": "[encoded data removed]",
      "text/plain": [
       "<Figure size 640x480 with 2 Axes>"
      ]
     },
     "metadata": {},
     "output_type": "display_data"
    }
   ],
   "source": [
    "# Matriz de Confusión\n",
    "cm = confusion_matrix(y_test, y_pred)\n",
    "cm_display = ConfusionMatrixDisplay(confusion_matrix = cm, display_labels = ['Low', 'Medium', 'High'])\n",
    "cm_display.plot()\n",
    "plt.title('Confusion Matrix')\n",
    "plt.show()"
   ]
  },
  {
   "cell_type": "markdown",
   "id": "96ee2915",
   "metadata": {},
   "source": [
    "Ahora, nuestro modelo predice de una manera excelente la clase Low y Medium, mientras que comete algunos errores en High."
   ]
  },
  {
   "cell_type": "code",
   "execution_count": 114,
   "id": "64699eba",
   "metadata": {},
   "outputs": [
    {
     "name": "stdout",
     "output_type": "stream",
     "text": [
      "Exactitud (Accuracy): 0.9130\n",
      "Precisión (Precision): 0.9233\n",
      "Sensibilidad (Recall): 0.9130\n",
      "F1-Score: 0.9096\n"
     ]
    }
   ],
   "source": [
    "# Métricas de Performance\n",
    "print(f\"Exactitud (Accuracy): {accuracy_score(y_test, y_pred):.4f}\")\n",
    "print(f\"Precisión (Precision): {precision_score(y_test, y_pred, average='weighted'):.4f}\")\n",
    "print(f\"Sensibilidad (Recall): {recall_score(y_test, y_pred, average='weighted'):.4f}\")\n",
    "print(f\"F1-Score: {f1_score(y_test, y_pred, average='weighted'):.4f}\")"
   ]
  },
  {
   "cell_type": "markdown",
   "id": "4d96f825",
   "metadata": {},
   "source": [
    "Con la estandarización, feature selection con RFE y SVC con rbf kernel, nuestro modelo obtiene una precisión de 0.91, lo cual no es tan distante de la F1-score."
   ]
  },
  {
   "cell_type": "markdown",
   "id": "df48b331",
   "metadata": {},
   "source": [
    "## <font color= #4783bf> SVC con Doble Selección de Variables y Normalización </font>"
   ]
  },
  {
   "cell_type": "markdown",
   "id": "c63d8572",
   "metadata": {},
   "source": [
    "Ahora, procederemos a hacer una feature selection con la varianza, normalizar los datos, realizar una transformación LDA y finalmente realizar el modelo SVC:"
   ]
  },
  {
   "cell_type": "code",
   "execution_count": 115,
   "id": "b3fe067e",
   "metadata": {},
   "outputs": [],
   "source": [
    "preprocessor_svm3 = Pipeline(steps=[\n",
    "    ('feature_selection', VarianceThreshold()),\n",
    "    ('normalizer', Normalizer()),\n",
    "    ('dim_reduction', LDA())\n",
    "    ])\n",
    "\n",
    "X_train_transformed = preprocessor_svm3.fit_transform(X_train, y_train)\n",
    "X_test_transformed = preprocessor_svm3.transform(X_test)"
   ]
  },
  {
   "cell_type": "code",
   "execution_count": 116,
   "id": "73913a47",
   "metadata": {},
   "outputs": [],
   "source": [
    "# Le colocamos una penalización\n",
    "svm3 = SVC(kernel='linear', C=0.5, \n",
    "           ) \n",
    "\n",
    "svm3.fit(X_train_transformed, y_train)\n",
    "y_pred = svm3.predict(X_test_transformed)"
   ]
  },
  {
   "cell_type": "code",
   "execution_count": 117,
   "id": "6611409a",
   "metadata": {},
   "outputs": [
    {
     "data": {
      "image/png": "[encoded data removed]",
      "text/plain": [
       "<Figure size 640x480 with 2 Axes>"
      ]
     },
     "metadata": {},
     "output_type": "display_data"
    }
   ],
   "source": [
    "# Matriz de Confusión\n",
    "cm = confusion_matrix(y_test, y_pred)\n",
    "cm_display = ConfusionMatrixDisplay(confusion_matrix = cm, display_labels = ['Low', 'Medium', 'High'])\n",
    "cm_display.plot()\n",
    "plt.title('Confusion Matrix')\n",
    "plt.show()"
   ]
  },
  {
   "cell_type": "markdown",
   "id": "79524741",
   "metadata": {},
   "source": [
    "Nuestro modelo obtiene resultados similares al modelo anterior, sin embargo, los errores ahora están distribuidos en la clase de Low y High. Continúa prediciendo de manera acertada Medium."
   ]
  },
  {
   "cell_type": "code",
   "execution_count": 118,
   "id": "2f8f8342",
   "metadata": {},
   "outputs": [
    {
     "name": "stdout",
     "output_type": "stream",
     "text": [
      "Exactitud (Accuracy): 0.9130\n",
      "Precisión (Precision): 0.9130\n",
      "Sensibilidad (Recall): 0.9130\n",
      "F1-Score: 0.9130\n"
     ]
    }
   ],
   "source": [
    "# Métricas de Performance\n",
    "print(f\"Exactitud (Accuracy): {accuracy_score(y_test, y_pred):.4f}\")\n",
    "print(f\"Precisión (Precision): {precision_score(y_test, y_pred, average='weighted'):.4f}\")\n",
    "print(f\"Sensibilidad (Recall): {recall_score(y_test, y_pred, average='weighted'):.4f}\")\n",
    "print(f\"F1-Score: {f1_score(y_test, y_pred, average='weighted'):.4f}\")"
   ]
  },
  {
   "cell_type": "markdown",
   "id": "6533eaab",
   "metadata": {},
   "source": [
    "Debido a la distribución más uniforme de nuestros errores, el modelo obtiene una score universal de 0.913"
   ]
  },
  {
   "cell_type": "markdown",
   "id": "c03823c3",
   "metadata": {},
   "source": [
    "## <font color= #4783bf> Visualización </font>"
   ]
  },
  {
   "cell_type": "markdown",
   "id": "c971dd6c",
   "metadata": {},
   "source": [
    "Para visualizar nuestros datos y el hiperplano generado, utilizaremos el último modelo. No solo porque el LDA facilita la visualización, sino también porque el LDA nos permite combinar los efectos de múltiples features. De esta manera, conseguimos un modelo de \"2 variables\", que combina los efectos de todas las variables. "
   ]
  },
  {
   "cell_type": "code",
   "execution_count": 119,
   "id": "348323a0",
   "metadata": {},
   "outputs": [
    {
     "data": {
      "image/png": "[encoded data removed]",
      "text/plain": [
       "<Figure size 1400x600 with 2 Axes>"
      ]
     },
     "metadata": {},
     "output_type": "display_data"
    }
   ],
   "source": [
    "inverse_label_map = {v: k for k, v in label_map.items()}\n",
    "\n",
    "# Grid for Decision Lines\n",
    "x_min, x_max = X_test_transformed[:, 0].min() - 1, X_test_transformed[:, 0].max() + 1\n",
    "y_min, y_max = X_test_transformed[:, 1].min() - 1, X_test_transformed[:, 1].max() + 1\n",
    "xx, yy = np.meshgrid(np.linspace(x_min, x_max, 500),\n",
    "                     np.linspace(y_min, y_max, 500))\n",
    "grid = np.c_[xx.ravel(), yy.ravel()]\n",
    "Z_labels = svm3.predict(grid)\n",
    "Z_numeric = np.vectorize(inverse_label_map.get)(Z_labels).reshape(xx.shape)\n",
    "\n",
    "fig, axes = plt.subplots(1, 2, figsize=(14, 6))\n",
    "\n",
    "# Real Data\n",
    "X_truth_df = pd.DataFrame(X_test_transformed, columns=['LD1', 'LD2'])\n",
    "X_truth_df['True Class'] = y_test.loc[X_test.index].reset_index(drop=True)\n",
    "\n",
    "sns.scatterplot(data=X_truth_df, x='LD1', y='LD2', hue='True Class',\n",
    "                palette=custom_palette, ax=axes[0], s=60, edgecolor='k')\n",
    "axes[0].set_title('True Classes')\n",
    "axes[0].set_xlabel('LD1')\n",
    "axes[0].set_ylabel('LD2')\n",
    "\n",
    "# Predictions\n",
    "X_pred_df = pd.DataFrame(X_test_transformed, columns=['LD1', 'LD2'])\n",
    "X_pred_df['Predicted Class'] = y_pred\n",
    "\n",
    "sns.scatterplot(data=X_pred_df, x='LD1', y='LD2', hue='Predicted Class',\n",
    "                palette=custom_palette, ax=axes[1], s=60, edgecolor='k')\n",
    "axes[1].set_title('SVC with Lin Kernel - Predicted Classes')\n",
    "axes[1].set_xlabel('LD1')\n",
    "axes[1].set_ylabel('LD2')\n",
    "\n",
    "# Drawing the Decision Lines\n",
    "for ax in axes:\n",
    "    ax.contour(xx, yy, Z_numeric, levels=[0.5, 1.5], colors='k', linestyles='--')\n",
    "\n",
    "plt.tight_layout()\n",
    "plt.show()"
   ]
  },
  {
   "cell_type": "markdown",
   "id": "081f9c67",
   "metadata": {},
   "source": [
    "Como podemos ver, nuestro modelo divide claramente a las clases, y gracias al LDA, puede hacerlo con un kernel lineal. Debido a que tenemos un poco de ruido en las clases, los 2 errores que comete el SVC no parecen ser por una deficiencia del modelo, sino generada por el ruido."
   ]
  },
  {
   "cell_type": "markdown",
   "id": "c07aadea",
   "metadata": {},
   "source": [
    "En base a las gráficas, podemos observar que las transformaciones realizadas permiten que nuestro modelo diferencíe de buena manera nuestras clases. Además, nos facilita la visualización."
   ]
  },
  {
   "cell_type": "code",
   "execution_count": 120,
   "id": "3458a89f",
   "metadata": {},
   "outputs": [
    {
     "data": {
      "image/png": "[encoded data removed]",
      "text/plain": [
       "<Figure size 700x500 with 1 Axes>"
      ]
     },
     "metadata": {},
     "output_type": "display_data"
    }
   ],
   "source": [
    "fig, axes = plt.subplots(1, 1, figsize=(7, 5))\n",
    "\n",
    "# Plot values\n",
    "X_truth_df = pd.DataFrame(X_train_transformed, columns=['LD1', 'LD2'])\n",
    "X_truth_df['True Class'] = y_train.loc[X_train.index].reset_index(drop=True)\n",
    "\n",
    "sns.scatterplot(data=X_truth_df, x='LD1', y='LD2', hue='True Class', palette=custom_palette, ax=axes, s=60, edgecolor='k')\n",
    "axes.set_title('Train Data')\n",
    "axes.set_xlabel('LD1')\n",
    "axes.set_ylabel('LD2')\n",
    "\n",
    "plt.tight_layout()\n",
    "plt.show()"
   ]
  },
  {
   "cell_type": "markdown",
   "id": "94524629",
   "metadata": {},
   "source": [
    "Finalmente, para observar los datos con los que entrenó nuestro modelo, graficamos los componentes y las clases de nuestro Train Split. Como podemos ver, las clases están lo suficientemente separadas, pero observamos algo de ruido que puede afectar a nuestro modelo, incluso aunque se mitigó durante las primeras etapas del proyecto."
   ]
  },
  {
   "cell_type": "markdown",
   "id": "7027a84b",
   "metadata": {},
   "source": [
    "---\n",
    "\n",
    "# <font color= #79b0e9> **3. New Test Data** </font> "
   ]
  },
  {
   "cell_type": "markdown",
   "id": "c41f1e94",
   "metadata": {},
   "source": [
    "## <font color= #4783bf> Log Reg </font>"
   ]
  },
  {
   "cell_type": "code",
   "execution_count": 121,
   "id": "b0c480b0",
   "metadata": {},
   "outputs": [
    {
     "name": "stdout",
     "output_type": "stream",
     "text": [
      "Ingresa la información correspondiente al nuevo dato, separa los datos con comas:\n",
      "Age | Sex | TCh | HCh | LCh | Tr | BPS | Sm | Diabetes\n"
     ]
    },
    {
     "ename": "ValueError",
     "evalue": "Found array with 0 sample(s) (shape=(0, 9)) while a minimum of 1 is required by VarianceThreshold.",
     "output_type": "error",
     "traceback": [
      "\u001b[31m---------------------------------------------------------------------------\u001b[39m",
      "\u001b[31mValueError\u001b[39m                                Traceback (most recent call last)",
      "\u001b[36mCell\u001b[39m\u001b[36m \u001b[39m\u001b[32mIn[121]\u001b[39m\u001b[32m, line 34\u001b[39m\n\u001b[32m     31\u001b[39m     \u001b[38;5;28;01mfor\u001b[39;00m i, pred \u001b[38;5;129;01min\u001b[39;00m \u001b[38;5;28menumerate\u001b[39m(predictions):\n\u001b[32m     32\u001b[39m         \u001b[38;5;28mprint\u001b[39m(\u001b[33mf\u001b[39m\u001b[33m\"\u001b[39m\u001b[33mPara el dato \u001b[39m\u001b[38;5;132;01m{\u001b[39;00mi+\u001b[32m1\u001b[39m\u001b[38;5;132;01m}\u001b[39;00m\u001b[33m: \u001b[39m\u001b[38;5;132;01m{\u001b[39;00mpred\u001b[38;5;132;01m}\u001b[39;00m\u001b[33m\"\u001b[39m)\n\u001b[32m---> \u001b[39m\u001b[32m34\u001b[39m \u001b[43mpred_new_data_logreg\u001b[49m\u001b[43m(\u001b[49m\u001b[43m)\u001b[49m\n",
      "\u001b[36mCell\u001b[39m\u001b[36m \u001b[39m\u001b[32mIn[121]\u001b[39m\u001b[32m, line 26\u001b[39m, in \u001b[36mpred_new_data_logreg\u001b[39m\u001b[34m()\u001b[39m\n\u001b[32m     23\u001b[39m df[\u001b[33m'\u001b[39m\u001b[33mSm\u001b[39m\u001b[33m'\u001b[39m] = df[\u001b[33m'\u001b[39m\u001b[33mSm\u001b[39m\u001b[33m'\u001b[39m].map({\u001b[33m'\u001b[39m\u001b[33mNon-smoker\u001b[39m\u001b[33m'\u001b[39m: \u001b[32m0.0\u001b[39m, \u001b[33m'\u001b[39m\u001b[33mSmoker\u001b[39m\u001b[33m'\u001b[39m: \u001b[32m1.0\u001b[39m})\n\u001b[32m     25\u001b[39m \u001b[38;5;66;03m# Transformar los datos\u001b[39;00m\n\u001b[32m---> \u001b[39m\u001b[32m26\u001b[39m test_transformed = \u001b[43mpipe_v3\u001b[49m\u001b[43m.\u001b[49m\u001b[43mtransform\u001b[49m\u001b[43m(\u001b[49m\u001b[43mdf\u001b[49m\u001b[43m)\u001b[49m\n\u001b[32m     27\u001b[39m predictions = logregv3.predict(test_transformed)\n\u001b[32m     29\u001b[39m \u001b[38;5;66;03m# Predecir\u001b[39;00m\n",
      "\u001b[36mFile \u001b[39m\u001b[32mc:\\Users\\sofi\\miniconda3\\envs\\EO\\Lib\\site-packages\\sklearn\\pipeline.py:1092\u001b[39m, in \u001b[36mPipeline.transform\u001b[39m\u001b[34m(self, X, **params)\u001b[39m\n\u001b[32m   1090\u001b[39m Xt = X\n\u001b[32m   1091\u001b[39m \u001b[38;5;28;01mfor\u001b[39;00m _, name, transform \u001b[38;5;129;01min\u001b[39;00m \u001b[38;5;28mself\u001b[39m._iter():\n\u001b[32m-> \u001b[39m\u001b[32m1092\u001b[39m     Xt = \u001b[43mtransform\u001b[49m\u001b[43m.\u001b[49m\u001b[43mtransform\u001b[49m\u001b[43m(\u001b[49m\u001b[43mXt\u001b[49m\u001b[43m,\u001b[49m\u001b[43m \u001b[49m\u001b[43m*\u001b[49m\u001b[43m*\u001b[49m\u001b[43mrouted_params\u001b[49m\u001b[43m[\u001b[49m\u001b[43mname\u001b[49m\u001b[43m]\u001b[49m\u001b[43m.\u001b[49m\u001b[43mtransform\u001b[49m\u001b[43m)\u001b[49m\n\u001b[32m   1093\u001b[39m \u001b[38;5;28;01mreturn\u001b[39;00m Xt\n",
      "\u001b[36mFile \u001b[39m\u001b[32mc:\\Users\\sofi\\miniconda3\\envs\\EO\\Lib\\site-packages\\sklearn\\utils\\_set_output.py:319\u001b[39m, in \u001b[36m_wrap_method_output.<locals>.wrapped\u001b[39m\u001b[34m(self, X, *args, **kwargs)\u001b[39m\n\u001b[32m    317\u001b[39m \u001b[38;5;129m@wraps\u001b[39m(f)\n\u001b[32m    318\u001b[39m \u001b[38;5;28;01mdef\u001b[39;00m\u001b[38;5;250m \u001b[39m\u001b[34mwrapped\u001b[39m(\u001b[38;5;28mself\u001b[39m, X, *args, **kwargs):\n\u001b[32m--> \u001b[39m\u001b[32m319\u001b[39m     data_to_wrap = \u001b[43mf\u001b[49m\u001b[43m(\u001b[49m\u001b[38;5;28;43mself\u001b[39;49m\u001b[43m,\u001b[49m\u001b[43m \u001b[49m\u001b[43mX\u001b[49m\u001b[43m,\u001b[49m\u001b[43m \u001b[49m\u001b[43m*\u001b[49m\u001b[43margs\u001b[49m\u001b[43m,\u001b[49m\u001b[43m \u001b[49m\u001b[43m*\u001b[49m\u001b[43m*\u001b[49m\u001b[43mkwargs\u001b[49m\u001b[43m)\u001b[49m\n\u001b[32m    320\u001b[39m     \u001b[38;5;28;01mif\u001b[39;00m \u001b[38;5;28misinstance\u001b[39m(data_to_wrap, \u001b[38;5;28mtuple\u001b[39m):\n\u001b[32m    321\u001b[39m         \u001b[38;5;66;03m# only wrap the first output for cross decomposition\u001b[39;00m\n\u001b[32m    322\u001b[39m         return_tuple = (\n\u001b[32m    323\u001b[39m             _wrap_data_with_container(method, data_to_wrap[\u001b[32m0\u001b[39m], X, \u001b[38;5;28mself\u001b[39m),\n\u001b[32m    324\u001b[39m             *data_to_wrap[\u001b[32m1\u001b[39m:],\n\u001b[32m    325\u001b[39m         )\n",
      "\u001b[36mFile \u001b[39m\u001b[32mc:\\Users\\sofi\\miniconda3\\envs\\EO\\Lib\\site-packages\\sklearn\\feature_selection\\_base.py:107\u001b[39m, in \u001b[36mSelectorMixin.transform\u001b[39m\u001b[34m(self, X)\u001b[39m\n\u001b[32m    103\u001b[39m preserve_X = output_config_dense != \u001b[33m\"\u001b[39m\u001b[33mdefault\u001b[39m\u001b[33m\"\u001b[39m \u001b[38;5;129;01mand\u001b[39;00m _is_pandas_df(X)\n\u001b[32m    105\u001b[39m \u001b[38;5;66;03m# note: we use get_tags instead of __sklearn_tags__ because this is a\u001b[39;00m\n\u001b[32m    106\u001b[39m \u001b[38;5;66;03m# public Mixin.\u001b[39;00m\n\u001b[32m--> \u001b[39m\u001b[32m107\u001b[39m X = \u001b[43mvalidate_data\u001b[49m\u001b[43m(\u001b[49m\n\u001b[32m    108\u001b[39m \u001b[43m    \u001b[49m\u001b[38;5;28;43mself\u001b[39;49m\u001b[43m,\u001b[49m\n\u001b[32m    109\u001b[39m \u001b[43m    \u001b[49m\u001b[43mX\u001b[49m\u001b[43m,\u001b[49m\n\u001b[32m    110\u001b[39m \u001b[43m    \u001b[49m\u001b[43mdtype\u001b[49m\u001b[43m=\u001b[49m\u001b[38;5;28;43;01mNone\u001b[39;49;00m\u001b[43m,\u001b[49m\n\u001b[32m    111\u001b[39m \u001b[43m    \u001b[49m\u001b[43maccept_sparse\u001b[49m\u001b[43m=\u001b[49m\u001b[33;43m\"\u001b[39;49m\u001b[33;43mcsr\u001b[39;49m\u001b[33;43m\"\u001b[39;49m\u001b[43m,\u001b[49m\n\u001b[32m    112\u001b[39m \u001b[43m    \u001b[49m\u001b[43mensure_all_finite\u001b[49m\u001b[43m=\u001b[49m\u001b[38;5;129;43;01mnot\u001b[39;49;00m\u001b[43m \u001b[49m\u001b[43mget_tags\u001b[49m\u001b[43m(\u001b[49m\u001b[38;5;28;43mself\u001b[39;49m\u001b[43m)\u001b[49m\u001b[43m.\u001b[49m\u001b[43minput_tags\u001b[49m\u001b[43m.\u001b[49m\u001b[43mallow_nan\u001b[49m\u001b[43m,\u001b[49m\n\u001b[32m    113\u001b[39m \u001b[43m    \u001b[49m\u001b[43mskip_check_array\u001b[49m\u001b[43m=\u001b[49m\u001b[43mpreserve_X\u001b[49m\u001b[43m,\u001b[49m\n\u001b[32m    114\u001b[39m \u001b[43m    \u001b[49m\u001b[43mreset\u001b[49m\u001b[43m=\u001b[49m\u001b[38;5;28;43;01mFalse\u001b[39;49;00m\u001b[43m,\u001b[49m\n\u001b[32m    115\u001b[39m \u001b[43m\u001b[49m\u001b[43m)\u001b[49m\n\u001b[32m    116\u001b[39m \u001b[38;5;28;01mreturn\u001b[39;00m \u001b[38;5;28mself\u001b[39m._transform(X)\n",
      "\u001b[36mFile \u001b[39m\u001b[32mc:\\Users\\sofi\\miniconda3\\envs\\EO\\Lib\\site-packages\\sklearn\\utils\\validation.py:2944\u001b[39m, in \u001b[36mvalidate_data\u001b[39m\u001b[34m(_estimator, X, y, reset, validate_separately, skip_check_array, **check_params)\u001b[39m\n\u001b[32m   2942\u001b[39m         out = X, y\n\u001b[32m   2943\u001b[39m \u001b[38;5;28;01melif\u001b[39;00m \u001b[38;5;129;01mnot\u001b[39;00m no_val_X \u001b[38;5;129;01mand\u001b[39;00m no_val_y:\n\u001b[32m-> \u001b[39m\u001b[32m2944\u001b[39m     out = \u001b[43mcheck_array\u001b[49m\u001b[43m(\u001b[49m\u001b[43mX\u001b[49m\u001b[43m,\u001b[49m\u001b[43m \u001b[49m\u001b[43minput_name\u001b[49m\u001b[43m=\u001b[49m\u001b[33;43m\"\u001b[39;49m\u001b[33;43mX\u001b[39;49m\u001b[33;43m\"\u001b[39;49m\u001b[43m,\u001b[49m\u001b[43m \u001b[49m\u001b[43m*\u001b[49m\u001b[43m*\u001b[49m\u001b[43mcheck_params\u001b[49m\u001b[43m)\u001b[49m\n\u001b[32m   2945\u001b[39m \u001b[38;5;28;01melif\u001b[39;00m no_val_X \u001b[38;5;129;01mand\u001b[39;00m \u001b[38;5;129;01mnot\u001b[39;00m no_val_y:\n\u001b[32m   2946\u001b[39m     out = _check_y(y, **check_params)\n",
      "\u001b[36mFile \u001b[39m\u001b[32mc:\\Users\\sofi\\miniconda3\\envs\\EO\\Lib\\site-packages\\sklearn\\utils\\validation.py:1130\u001b[39m, in \u001b[36mcheck_array\u001b[39m\u001b[34m(array, accept_sparse, accept_large_sparse, dtype, order, copy, force_writeable, force_all_finite, ensure_all_finite, ensure_non_negative, ensure_2d, allow_nd, ensure_min_samples, ensure_min_features, estimator, input_name)\u001b[39m\n\u001b[32m   1128\u001b[39m     n_samples = _num_samples(array)\n\u001b[32m   1129\u001b[39m     \u001b[38;5;28;01mif\u001b[39;00m n_samples < ensure_min_samples:\n\u001b[32m-> \u001b[39m\u001b[32m1130\u001b[39m         \u001b[38;5;28;01mraise\u001b[39;00m \u001b[38;5;167;01mValueError\u001b[39;00m(\n\u001b[32m   1131\u001b[39m             \u001b[33m\"\u001b[39m\u001b[33mFound array with \u001b[39m\u001b[38;5;132;01m%d\u001b[39;00m\u001b[33m sample(s) (shape=\u001b[39m\u001b[38;5;132;01m%s\u001b[39;00m\u001b[33m) while a\u001b[39m\u001b[33m\"\u001b[39m\n\u001b[32m   1132\u001b[39m             \u001b[33m\"\u001b[39m\u001b[33m minimum of \u001b[39m\u001b[38;5;132;01m%d\u001b[39;00m\u001b[33m is required\u001b[39m\u001b[38;5;132;01m%s\u001b[39;00m\u001b[33m.\u001b[39m\u001b[33m\"\u001b[39m\n\u001b[32m   1133\u001b[39m             % (n_samples, array.shape, ensure_min_samples, context)\n\u001b[32m   1134\u001b[39m         )\n\u001b[32m   1136\u001b[39m \u001b[38;5;28;01mif\u001b[39;00m ensure_min_features > \u001b[32m0\u001b[39m \u001b[38;5;129;01mand\u001b[39;00m array.ndim == \u001b[32m2\u001b[39m:\n\u001b[32m   1137\u001b[39m     n_features = array.shape[\u001b[32m1\u001b[39m]\n",
      "\u001b[31mValueError\u001b[39m: Found array with 0 sample(s) (shape=(0, 9)) while a minimum of 1 is required by VarianceThreshold."
     ]
    }
   ],
   "source": [
    "#LogReg\n",
    "def pred_new_data_logreg():\n",
    "    # Ingresar los nuevos datos\n",
    "    new_data = []\n",
    "\n",
    "    print('Ingresa la información correspondiente al nuevo dato, separa los datos con comas:')\n",
    "    print('Age | Sex | TCh | HCh | LCh | Tr | BPS | Sm | Diabetes')\n",
    "\n",
    "    while True:\n",
    "        dato = input(\"\")  \n",
    "\n",
    "        if dato == \"\":\n",
    "            break\n",
    "\n",
    "        new_data.append(dato.split(','))\n",
    "\n",
    "    # Hacer el dataframe\n",
    "    df = pd.DataFrame(new_data, columns=['Age', 'Sex', 'TCh', 'HCh', 'LCh', 'Tr', 'BPS', 'Sm', 'Diabetes'])\n",
    "\n",
    "    # Codificar las variables\n",
    "    df['Sex'] = df['Sex'].map({'Female': 0.0, 'Male': 1.0})\n",
    "    df['Diabetes'] = df['Diabetes'].map({'No': 0.0, 'Yes': 1.0})\n",
    "    df['Sm'] = df['Sm'].map({'Non-smoker': 0.0, 'Smoker': 1.0})\n",
    "\n",
    "    # Transformar los datos\n",
    "    test_transformed = pipe_v3.transform(df)\n",
    "    predictions = logregv3.predict(test_transformed)\n",
    "    \n",
    "    # Predecir\n",
    "    print(\"\\nLas predicciones para los datos ingresados son:\")\n",
    "    for i, pred in enumerate(predictions):\n",
    "        print(f\"Para el dato {i+1}: {pred}\")\n",
    "\n",
    "pred_new_data_logreg()"
   ]
  },
  {
   "cell_type": "markdown",
   "id": "c003971a",
   "metadata": {},
   "source": [
    "## <font color= #4783bf> SVC </font>"
   ]
  },
  {
   "cell_type": "code",
   "execution_count": null,
   "id": "110de60a",
   "metadata": {},
   "outputs": [
    {
     "name": "stdout",
     "output_type": "stream",
     "text": [
      "Ingresa la información correspondiente al nuevo dato, separa los datos con comas:\n",
      "Age | Sex | TCh | HCh | LCh | Tr | BPS | Sm | Diabetes\n",
      "\n",
      "Las predicciones para los datos ingresados son:\n",
      "Para el dato 1 (Age 33): Low\n",
      "Para el dato 2 (Age 56): High\n"
     ]
    }
   ],
   "source": [
    "#SVC\n",
    "def pred_new_data_svc():\n",
    "    # Ingresar los nuevos datos\n",
    "    new_data = []\n",
    "\n",
    "    print('Ingresa la información correspondiente al nuevo dato, separa los datos con comas:')\n",
    "    print('Age | Sex | TCh | HCh | LCh | Tr | BPS | Sm | Diabetes')\n",
    "\n",
    "    while True:\n",
    "        dato = input(\"\")  \n",
    "\n",
    "        if dato == \"\":\n",
    "            break\n",
    "\n",
    "        new_data.append(dato.split(','))\n",
    "\n",
    "    # Hacer el dataframe\n",
    "    df = pd.DataFrame(new_data, columns=['Age', 'Sex', 'TCh', 'HCh', 'LCh', 'Tr', 'BPS', 'Sm', 'Diabetes'])\n",
    "\n",
    "    # Codificar las variables\n",
    "    df['Sex'] = df['Sex'].map({'Female': 0.0, 'Male': 1.0})\n",
    "    df['Diabetes'] = df['Diabetes'].map({'No': 0.0, 'Yes': 1.0})\n",
    "    df['Sm'] = df['Sm'].map({'Non-smoker': 0.0, 'Smoker': 1.0})\n",
    "\n",
    "    # Transformar los datos\n",
    "    test_transformed = preprocessor_svm3.transform(df)\n",
    "    predictions = svm3.predict(test_transformed)\n",
    "    \n",
    "    # Predecir\n",
    "    print(\"\\nLas predicciones para los datos ingresados son:\")\n",
    "    for i, pred in enumerate(predictions):\n",
    "        print(f\"Para el dato {i+1}: {pred}\")\n",
    "\n",
    "pred_new_data_svc()"
   ]
  }
 ],
 "metadata": {
  "kernelspec": {
   "display_name": "EO",
   "language": "python",
   "name": "python3"
  },
  "language_info": {
   "codemirror_mode": {
    "name": "ipython",
    "version": 3
   },
   "file_extension": ".py",
   "mimetype": "text/x-python",
   "name": "python",
   "nbconvert_exporter": "python",
   "pygments_lexer": "ipython3",
   "version": "3.11.11"
  }
 },
 "nbformat": 4,
 "nbformat_minor": 5
}
